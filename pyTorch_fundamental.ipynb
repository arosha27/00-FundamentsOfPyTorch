{
  "nbformat": 4,
  "nbformat_minor": 0,
  "metadata": {
    "colab": {
      "provenance": [],
      "authorship_tag": "ABX9TyM+VvfoDnHeFoupEgrgnpl/",
      "include_colab_link": true
    },
    "kernelspec": {
      "name": "python3",
      "display_name": "Python 3"
    },
    "language_info": {
      "name": "python"
    }
  },
  "cells": [
    {
      "cell_type": "markdown",
      "metadata": {
        "id": "view-in-github",
        "colab_type": "text"
      },
      "source": [
        "<a href=\"https://colab.research.google.com/github/arosha27/00-FundamentsOfPyTorch/blob/main/pyTorch_fundamental.ipynb\" target=\"_parent\"><img src=\"https://colab.research.google.com/assets/colab-badge.svg\" alt=\"Open In Colab\"/></a>"
      ]
    },
    {
      "cell_type": "markdown",
      "source": [
        "## 00. pyTorch Fundamentals\n",
        "Resource notebook : https://www.learnpytorch.io/00_pytorch_fundamentals/\n",
        "discussions : https://github.com/mrdbourke/pytorch-deep-learning/discussions"
      ],
      "metadata": {
        "id": "0Ydl0LWbuxJG"
      }
    },
    {
      "cell_type": "code",
      "source": [
        "import torch\n",
        "import pandas as pd\n",
        "import numpy as np\n",
        "import matplotlib.pyplot as plt\n",
        "print(torch.__version__)"
      ],
      "metadata": {
        "colab": {
          "base_uri": "https://localhost:8080/"
        },
        "id": "Z3E732c0v_pU",
        "outputId": "dcbd28cc-5ed2-4e49-e7f5-a6d6e96cb889"
      },
      "execution_count": 106,
      "outputs": [
        {
          "output_type": "stream",
          "name": "stdout",
          "text": [
            "2.6.0+cu124\n"
          ]
        }
      ]
    },
    {
      "cell_type": "markdown",
      "source": [
        "# Introduction to Tensors\n",
        "- Creating tensors (Basic building block of data representation i.e Tensors in deep learning)"
      ],
      "metadata": {
        "id": "4UJ9dc6yyQ_k"
      }
    },
    {
      "cell_type": "markdown",
      "source": [
        "**Scalar**"
      ],
      "metadata": {
        "id": "glbDrnftF3hJ"
      }
    },
    {
      "cell_type": "code",
      "source": [
        "#scalar\n",
        "scalar = torch.tensor(7)\n",
        "scalar"
      ],
      "metadata": {
        "colab": {
          "base_uri": "https://localhost:8080/"
        },
        "id": "nb-nM52D0MuQ",
        "outputId": "7c89c859-bd77-4d0a-e526-cb0e2489447c"
      },
      "execution_count": 107,
      "outputs": [
        {
          "output_type": "execute_result",
          "data": {
            "text/plain": [
              "tensor(7)"
            ]
          },
          "metadata": {},
          "execution_count": 107
        }
      ]
    },
    {
      "cell_type": "code",
      "source": [
        "scalar.ndim"
      ],
      "metadata": {
        "colab": {
          "base_uri": "https://localhost:8080/"
        },
        "id": "K-ybzHzsESdh",
        "outputId": "16bd292b-ec78-4a3f-9410-06188d4e6d04"
      },
      "execution_count": 108,
      "outputs": [
        {
          "output_type": "execute_result",
          "data": {
            "text/plain": [
              "0"
            ]
          },
          "metadata": {},
          "execution_count": 108
        }
      ]
    },
    {
      "cell_type": "code",
      "source": [
        "scalar.shape"
      ],
      "metadata": {
        "colab": {
          "base_uri": "https://localhost:8080/"
        },
        "id": "AHsJis7HEeil",
        "outputId": "eb619cf7-b85c-4862-9803-faf3b9ad5573"
      },
      "execution_count": 109,
      "outputs": [
        {
          "output_type": "execute_result",
          "data": {
            "text/plain": [
              "torch.Size([])"
            ]
          },
          "metadata": {},
          "execution_count": 109
        }
      ]
    },
    {
      "cell_type": "code",
      "source": [
        "scalar.item()"
      ],
      "metadata": {
        "colab": {
          "base_uri": "https://localhost:8080/"
        },
        "id": "3osj6BnfFBpp",
        "outputId": "3c784d61-dd3b-4aec-8ec6-daa19ad419d5"
      },
      "execution_count": 110,
      "outputs": [
        {
          "output_type": "execute_result",
          "data": {
            "text/plain": [
              "7"
            ]
          },
          "metadata": {},
          "execution_count": 110
        }
      ]
    },
    {
      "cell_type": "markdown",
      "source": [
        "**vector**"
      ],
      "metadata": {
        "id": "usTVCDq-F9uq"
      }
    },
    {
      "cell_type": "code",
      "source": [
        "#vectors\n",
        "vector = torch.tensor([3,7])\n",
        "vector"
      ],
      "metadata": {
        "colab": {
          "base_uri": "https://localhost:8080/"
        },
        "id": "rF4b9e0tEolf",
        "outputId": "dff74dad-00cf-427a-ee2f-890a155c1dd3"
      },
      "execution_count": 111,
      "outputs": [
        {
          "output_type": "execute_result",
          "data": {
            "text/plain": [
              "tensor([3, 7])"
            ]
          },
          "metadata": {},
          "execution_count": 111
        }
      ]
    },
    {
      "cell_type": "code",
      "source": [
        "vector.ndim"
      ],
      "metadata": {
        "colab": {
          "base_uri": "https://localhost:8080/"
        },
        "id": "8Rpqnpp9EuI-",
        "outputId": "8417c7d5-41e6-49e0-a14b-e417ee07d33a"
      },
      "execution_count": 112,
      "outputs": [
        {
          "output_type": "execute_result",
          "data": {
            "text/plain": [
              "1"
            ]
          },
          "metadata": {},
          "execution_count": 112
        }
      ]
    },
    {
      "cell_type": "code",
      "source": [
        "vector.shape"
      ],
      "metadata": {
        "colab": {
          "base_uri": "https://localhost:8080/"
        },
        "id": "WiXbK1_6Fhzl",
        "outputId": "baaf80cc-cc39-4e22-f04f-01011440caf5"
      },
      "execution_count": 113,
      "outputs": [
        {
          "output_type": "execute_result",
          "data": {
            "text/plain": [
              "torch.Size([2])"
            ]
          },
          "metadata": {},
          "execution_count": 113
        }
      ]
    },
    {
      "cell_type": "code",
      "source": [
        "vector[0]"
      ],
      "metadata": {
        "colab": {
          "base_uri": "https://localhost:8080/"
        },
        "id": "4FqLiVfTFkXL",
        "outputId": "3ff9f36a-8609-4503-8909-9d8280f4a5c3"
      },
      "execution_count": 114,
      "outputs": [
        {
          "output_type": "execute_result",
          "data": {
            "text/plain": [
              "tensor(3)"
            ]
          },
          "metadata": {},
          "execution_count": 114
        }
      ]
    },
    {
      "cell_type": "code",
      "source": [
        "vector[1]"
      ],
      "metadata": {
        "colab": {
          "base_uri": "https://localhost:8080/"
        },
        "id": "nWjCf_1mFoXf",
        "outputId": "744a9e89-fb11-4340-e3f9-7eac1da09aaa"
      },
      "execution_count": 115,
      "outputs": [
        {
          "output_type": "execute_result",
          "data": {
            "text/plain": [
              "tensor(7)"
            ]
          },
          "metadata": {},
          "execution_count": 115
        }
      ]
    },
    {
      "cell_type": "markdown",
      "source": [
        "**MATRIX**"
      ],
      "metadata": {
        "id": "r_NC4BwTGHgb"
      }
    },
    {
      "cell_type": "code",
      "source": [
        "MATRIX = torch.tensor([[12,16],\n",
        "                       [15,19],\n",
        "                       [45,90]])\n",
        "MATRIX"
      ],
      "metadata": {
        "colab": {
          "base_uri": "https://localhost:8080/"
        },
        "id": "50o-tDDfGLGp",
        "outputId": "cfe75d2e-1878-4250-8e21-4fdc28d040fa"
      },
      "execution_count": 116,
      "outputs": [
        {
          "output_type": "execute_result",
          "data": {
            "text/plain": [
              "tensor([[12, 16],\n",
              "        [15, 19],\n",
              "        [45, 90]])"
            ]
          },
          "metadata": {},
          "execution_count": 116
        }
      ]
    },
    {
      "cell_type": "code",
      "source": [
        "MATRIX.ndim"
      ],
      "metadata": {
        "colab": {
          "base_uri": "https://localhost:8080/"
        },
        "id": "jCTBAjrDGXy2",
        "outputId": "6e229b4c-1077-4fe2-e26e-9aff6c75b983"
      },
      "execution_count": 117,
      "outputs": [
        {
          "output_type": "execute_result",
          "data": {
            "text/plain": [
              "2"
            ]
          },
          "metadata": {},
          "execution_count": 117
        }
      ]
    },
    {
      "cell_type": "code",
      "source": [
        "MATRIX.shape"
      ],
      "metadata": {
        "colab": {
          "base_uri": "https://localhost:8080/"
        },
        "id": "PfV0MSMFGfIP",
        "outputId": "2ff89512-d8a2-4cdc-9174-216d1cef4000"
      },
      "execution_count": 118,
      "outputs": [
        {
          "output_type": "execute_result",
          "data": {
            "text/plain": [
              "torch.Size([3, 2])"
            ]
          },
          "metadata": {},
          "execution_count": 118
        }
      ]
    },
    {
      "cell_type": "code",
      "source": [
        "MATRIX[0]"
      ],
      "metadata": {
        "colab": {
          "base_uri": "https://localhost:8080/"
        },
        "id": "ya-2SeQSGj3i",
        "outputId": "5d198cf3-2956-43af-a5b7-d2775573b4a5"
      },
      "execution_count": 119,
      "outputs": [
        {
          "output_type": "execute_result",
          "data": {
            "text/plain": [
              "tensor([12, 16])"
            ]
          },
          "metadata": {},
          "execution_count": 119
        }
      ]
    },
    {
      "cell_type": "markdown",
      "source": [
        "**Tensor**"
      ],
      "metadata": {
        "id": "rBrLT7cgHGg1"
      }
    },
    {
      "cell_type": "code",
      "source": [
        "TENSOR = torch.tensor([[[12,29],[34,90],[90,68]]])\n",
        "TENSOR"
      ],
      "metadata": {
        "colab": {
          "base_uri": "https://localhost:8080/"
        },
        "id": "b4svyXXSHKUh",
        "outputId": "c07102eb-113c-4ddb-9126-8030d2de96a2"
      },
      "execution_count": 120,
      "outputs": [
        {
          "output_type": "execute_result",
          "data": {
            "text/plain": [
              "tensor([[[12, 29],\n",
              "         [34, 90],\n",
              "         [90, 68]]])"
            ]
          },
          "metadata": {},
          "execution_count": 120
        }
      ]
    },
    {
      "cell_type": "code",
      "source": [
        "TENSOR.ndim"
      ],
      "metadata": {
        "colab": {
          "base_uri": "https://localhost:8080/"
        },
        "id": "blk5vXOWHSTl",
        "outputId": "f1f92d51-39d1-4594-9247-e7d839f7b6cd"
      },
      "execution_count": 121,
      "outputs": [
        {
          "output_type": "execute_result",
          "data": {
            "text/plain": [
              "3"
            ]
          },
          "metadata": {},
          "execution_count": 121
        }
      ]
    },
    {
      "cell_type": "code",
      "source": [
        "TENSOR.shape"
      ],
      "metadata": {
        "colab": {
          "base_uri": "https://localhost:8080/"
        },
        "id": "2d2xXlemHYAY",
        "outputId": "e0a98828-d5e7-4a13-a5e0-d2b2e4db0e84"
      },
      "execution_count": 122,
      "outputs": [
        {
          "output_type": "execute_result",
          "data": {
            "text/plain": [
              "torch.Size([1, 3, 2])"
            ]
          },
          "metadata": {},
          "execution_count": 122
        }
      ]
    },
    {
      "cell_type": "code",
      "source": [
        "TENSOR[0]"
      ],
      "metadata": {
        "colab": {
          "base_uri": "https://localhost:8080/"
        },
        "id": "pW757oSDHZ9S",
        "outputId": "c4d78b7f-ffa2-456f-ec1f-d57ed3f7f7a6"
      },
      "execution_count": 123,
      "outputs": [
        {
          "output_type": "execute_result",
          "data": {
            "text/plain": [
              "tensor([[12, 29],\n",
              "        [34, 90],\n",
              "        [90, 68]])"
            ]
          },
          "metadata": {},
          "execution_count": 123
        }
      ]
    },
    {
      "cell_type": "code",
      "source": [
        "#another example\n",
        "TENSOR = torch.tensor([[[[1,2],[2,9]]]])\n",
        "TENSOR.ndim\n"
      ],
      "metadata": {
        "colab": {
          "base_uri": "https://localhost:8080/"
        },
        "id": "8G6bpFLFHrzt",
        "outputId": "31d2a22a-469f-4452-b79a-1d36173f209f"
      },
      "execution_count": 124,
      "outputs": [
        {
          "output_type": "execute_result",
          "data": {
            "text/plain": [
              "4"
            ]
          },
          "metadata": {},
          "execution_count": 124
        }
      ]
    },
    {
      "cell_type": "code",
      "source": [
        "TENSOR.shape"
      ],
      "metadata": {
        "colab": {
          "base_uri": "https://localhost:8080/"
        },
        "id": "0yTUPgBaIDpb",
        "outputId": "ab8a3627-ab3a-45a6-d0a4-45b86e53954a"
      },
      "execution_count": 125,
      "outputs": [
        {
          "output_type": "execute_result",
          "data": {
            "text/plain": [
              "torch.Size([1, 1, 2, 2])"
            ]
          },
          "metadata": {},
          "execution_count": 125
        }
      ]
    },
    {
      "cell_type": "code",
      "source": [
        "TENSOR[0]"
      ],
      "metadata": {
        "colab": {
          "base_uri": "https://localhost:8080/"
        },
        "id": "cpDoqHasIIpj",
        "outputId": "8daa7f02-8665-4eaa-d3f3-fa127cc33935"
      },
      "execution_count": 126,
      "outputs": [
        {
          "output_type": "execute_result",
          "data": {
            "text/plain": [
              "tensor([[[1, 2],\n",
              "         [2, 9]]])"
            ]
          },
          "metadata": {},
          "execution_count": 126
        }
      ]
    },
    {
      "cell_type": "markdown",
      "source": [
        "**Random** **tensor**\n",
        "why we need to create random tensors?\n",
        "- Ramdom tensors are very important as many neaural networks uses a full of random numbers in the tensors to get trained at first and then adjust them and update those numbers\n",
        "\n",
        "`\n",
        "Start with random numbers -> look at data -> update random numbers -> look at the data -> update the random numbers\n",
        "`"
      ],
      "metadata": {
        "id": "buCNW2AXmvxm"
      }
    },
    {
      "cell_type": "code",
      "source": [
        "#create a random tensor of shape or size(2,4)\n",
        "random_tensor=torch.rand(1,2,4)\n",
        "random_tensor\n",
        "#number of complete outside bracket inside the bracket shows the dimension"
      ],
      "metadata": {
        "colab": {
          "base_uri": "https://localhost:8080/"
        },
        "id": "Pbm9I4xKm0K-",
        "outputId": "5e0e5fc6-436c-459c-bf19-054ed12e1ebb"
      },
      "execution_count": 127,
      "outputs": [
        {
          "output_type": "execute_result",
          "data": {
            "text/plain": [
              "tensor([[[0.9307, 0.2040, 0.5686, 0.6006],\n",
              "         [0.0486, 0.8703, 0.1533, 0.0219]]])"
            ]
          },
          "metadata": {},
          "execution_count": 127
        }
      ]
    },
    {
      "cell_type": "code",
      "source": [
        "#almost any data can be converted to tensors\n",
        "#create a random tensor with the same shape to an image tensor\n",
        "\n",
        "random_image_size_tensor = torch.rand(size=(3,244,244)) # color chennel, height , width\n",
        "random_image_size_tensor.shape, random_image_size_tensor.ndim\n"
      ],
      "metadata": {
        "colab": {
          "base_uri": "https://localhost:8080/"
        },
        "id": "J08ZRqChp57_",
        "outputId": "1b35e1b1-9fe9-4e44-9cda-a8b38defb897"
      },
      "execution_count": 128,
      "outputs": [
        {
          "output_type": "execute_result",
          "data": {
            "text/plain": [
              "(torch.Size([3, 244, 244]), 3)"
            ]
          },
          "metadata": {},
          "execution_count": 128
        }
      ]
    },
    {
      "cell_type": "code",
      "source": [
        "random_image_size_tensor.dtype\n",
        "#by default all the tensors datatype is float unless explicitly changed."
      ],
      "metadata": {
        "colab": {
          "base_uri": "https://localhost:8080/"
        },
        "id": "PIDzlU_oz0GN",
        "outputId": "8b717c2a-2966-41b0-f715-3f13cf38ca17"
      },
      "execution_count": 129,
      "outputs": [
        {
          "output_type": "execute_result",
          "data": {
            "text/plain": [
              "torch.float32"
            ]
          },
          "metadata": {},
          "execution_count": 129
        }
      ]
    },
    {
      "cell_type": "markdown",
      "source": [
        "**zeros tensors**"
      ],
      "metadata": {
        "id": "wjXjpED92eEj"
      }
    },
    {
      "cell_type": "code",
      "source": [
        "zeroes = torch.zeros(2,3)\n",
        "zeroes"
      ],
      "metadata": {
        "colab": {
          "base_uri": "https://localhost:8080/"
        },
        "id": "Lhv-gNf_2juu",
        "outputId": "5d59b854-ad1e-4505-ec46-301563877348"
      },
      "execution_count": 130,
      "outputs": [
        {
          "output_type": "execute_result",
          "data": {
            "text/plain": [
              "tensor([[0., 0., 0.],\n",
              "        [0., 0., 0.]])"
            ]
          },
          "metadata": {},
          "execution_count": 130
        }
      ]
    },
    {
      "cell_type": "code",
      "source": [
        "zeroes_tensors = torch.zeros(2,2,3)\n",
        "zeroes_tensors.dtype , zeroes.ndim"
      ],
      "metadata": {
        "colab": {
          "base_uri": "https://localhost:8080/"
        },
        "id": "OjbYMOyo2_de",
        "outputId": "0fbc21a1-1c6f-4cda-d38b-e152b4a59123"
      },
      "execution_count": 131,
      "outputs": [
        {
          "output_type": "execute_result",
          "data": {
            "text/plain": [
              "(torch.float32, 2)"
            ]
          },
          "metadata": {},
          "execution_count": 131
        }
      ]
    },
    {
      "cell_type": "code",
      "source": [
        "ones_tensors = torch.ones(2,5)\n",
        "ones_tensors"
      ],
      "metadata": {
        "colab": {
          "base_uri": "https://localhost:8080/"
        },
        "id": "HKJbdI1q3PBK",
        "outputId": "3a5ff5a6-e00f-416a-ab2b-6aa5acc6cdda"
      },
      "execution_count": 132,
      "outputs": [
        {
          "output_type": "execute_result",
          "data": {
            "text/plain": [
              "tensor([[1., 1., 1., 1., 1.],\n",
              "        [1., 1., 1., 1., 1.]])"
            ]
          },
          "metadata": {},
          "execution_count": 132
        }
      ]
    },
    {
      "cell_type": "markdown",
      "source": [
        "## Creating a range of tensors\n",
        "**arange()**"
      ],
      "metadata": {
        "id": "ZZdwCQ-f2INI"
      }
    },
    {
      "cell_type": "code",
      "source": [
        "one_to_ten = torch.arange(1,10)\n",
        "one_to_ten"
      ],
      "metadata": {
        "colab": {
          "base_uri": "https://localhost:8080/"
        },
        "id": "N6VE-Khi08vD",
        "outputId": "cc7e69eb-e251-4dec-a2ee-936e672794fb"
      },
      "execution_count": 133,
      "outputs": [
        {
          "output_type": "execute_result",
          "data": {
            "text/plain": [
              "tensor([1, 2, 3, 4, 5, 6, 7, 8, 9])"
            ]
          },
          "metadata": {},
          "execution_count": 133
        }
      ]
    },
    {
      "cell_type": "code",
      "source": [
        "one_to_ten.ndim\n"
      ],
      "metadata": {
        "colab": {
          "base_uri": "https://localhost:8080/"
        },
        "id": "JvtPBTCy4CoX",
        "outputId": "a4514df6-ba3a-4e4b-ea95-c09898733d4e"
      },
      "execution_count": 134,
      "outputs": [
        {
          "output_type": "execute_result",
          "data": {
            "text/plain": [
              "1"
            ]
          },
          "metadata": {},
          "execution_count": 134
        }
      ]
    },
    {
      "cell_type": "code",
      "source": [
        "random_range=torch.arange(start=10,end=1000,step=100)\n",
        "random_range"
      ],
      "metadata": {
        "colab": {
          "base_uri": "https://localhost:8080/"
        },
        "id": "hTmZyLSV4Pyw",
        "outputId": "5a49171b-adce-42fa-9179-931a78cacab0"
      },
      "execution_count": 135,
      "outputs": [
        {
          "output_type": "execute_result",
          "data": {
            "text/plain": [
              "tensor([ 10, 110, 210, 310, 410, 510, 610, 710, 810, 910])"
            ]
          },
          "metadata": {},
          "execution_count": 135
        }
      ]
    },
    {
      "cell_type": "markdown",
      "source": [
        "**Tensors-like** :\n",
        " - when you want to create a tensor without explicitly defining its shape .then tensor-like method is used . Its like create a tensor of shape of some input tensor\n"
      ],
      "metadata": {
        "id": "VNEQrNQW4jvT"
      }
    },
    {
      "cell_type": "code",
      "source": [
        "one_to_ten.shape"
      ],
      "metadata": {
        "colab": {
          "base_uri": "https://localhost:8080/"
        },
        "id": "b--T2E-H500p",
        "outputId": "bd1edd6b-2557-49cb-862d-6473e6e86e3f"
      },
      "execution_count": 136,
      "outputs": [
        {
          "output_type": "execute_result",
          "data": {
            "text/plain": [
              "torch.Size([9])"
            ]
          },
          "metadata": {},
          "execution_count": 136
        }
      ]
    },
    {
      "cell_type": "code",
      "source": [
        "\n",
        "ten_zeros = torch.zeros_like(input=one_to_ten)\n",
        "ten_zeros.shape"
      ],
      "metadata": {
        "colab": {
          "base_uri": "https://localhost:8080/"
        },
        "id": "7YxxLw3J5Ezh",
        "outputId": "39d77f78-048d-4f4e-8350-a88c08d8fdda"
      },
      "execution_count": 137,
      "outputs": [
        {
          "output_type": "execute_result",
          "data": {
            "text/plain": [
              "torch.Size([9])"
            ]
          },
          "metadata": {},
          "execution_count": 137
        }
      ]
    },
    {
      "cell_type": "code",
      "source": [
        "ten_ones = torch.ones_like(input=one_to_ten)\n",
        "ten_ones"
      ],
      "metadata": {
        "colab": {
          "base_uri": "https://localhost:8080/"
        },
        "id": "UauwZFg3EeuY",
        "outputId": "fd155be3-bf56-40a3-ac19-f905edb3f985"
      },
      "execution_count": 138,
      "outputs": [
        {
          "output_type": "execute_result",
          "data": {
            "text/plain": [
              "tensor([1, 1, 1, 1, 1, 1, 1, 1, 1])"
            ]
          },
          "metadata": {},
          "execution_count": 138
        }
      ]
    },
    {
      "cell_type": "markdown",
      "source": [
        "## Tensor datatypes\n",
        "\n",
        "Three types of error we mostly encounter when dealing with the data type of the tensors:\n",
        "\n",
        "- tensors datatype is not right\n",
        "- tensors shape is not right\n",
        "- the device on which tensors are running is not right\n"
      ],
      "metadata": {
        "id": "mR-JLBv-Fn-V"
      }
    },
    {
      "cell_type": "code",
      "source": [
        "float_32_tensor = torch.tensor([2.0,7.0,9.0],\n",
        "                               dtype=None, #what datatype our tensor do have\n",
        "                               device=None, #what device our tensor will run on\n",
        "                               requires_grad=False #whether or not tensor will track the gradients\n",
        "                               )\n",
        "float_32_tensor.dtype\n"
      ],
      "metadata": {
        "colab": {
          "base_uri": "https://localhost:8080/"
        },
        "id": "BaiC8qGrEul_",
        "outputId": "a326f2a2-521a-4f8f-f694-bfd165bee677"
      },
      "execution_count": 139,
      "outputs": [
        {
          "output_type": "execute_result",
          "data": {
            "text/plain": [
              "torch.float32"
            ]
          },
          "metadata": {},
          "execution_count": 139
        }
      ]
    },
    {
      "cell_type": "code",
      "source": [
        "# torch.float32 => full precision\n",
        "# torch.float16 => half precision\n",
        "# torch.float64 => double precision\n",
        "#we can convert 32 bit to 16 bit by this , making them fast\n",
        "\n",
        "\n",
        "float_16_tensor = float_32_tensor.type(torch.half)\n",
        "float_16_tensor"
      ],
      "metadata": {
        "colab": {
          "base_uri": "https://localhost:8080/"
        },
        "id": "c7Lu0aGIGDwQ",
        "outputId": "a395dcad-7998-494f-a7a1-3992b9962fb8"
      },
      "execution_count": 140,
      "outputs": [
        {
          "output_type": "execute_result",
          "data": {
            "text/plain": [
              "tensor([2., 7., 9.], dtype=torch.float16)"
            ]
          },
          "metadata": {},
          "execution_count": 140
        }
      ]
    },
    {
      "cell_type": "markdown",
      "source": [
        "**Checking compatibility of tensors by adding or multiplying different dtypes tensors**"
      ],
      "metadata": {
        "id": "Uan2unDPJe9P"
      }
    },
    {
      "cell_type": "code",
      "source": [
        "#multiplying 16 bits tensor with 32 bits tensor\n",
        "\n",
        "float_16_tensor * float_32_tensor"
      ],
      "metadata": {
        "colab": {
          "base_uri": "https://localhost:8080/"
        },
        "id": "rvIsvm11Jqg1",
        "outputId": "5232d6b5-f65a-4d36-e18b-754005c4d222"
      },
      "execution_count": 141,
      "outputs": [
        {
          "output_type": "execute_result",
          "data": {
            "text/plain": [
              "tensor([ 4., 49., 81.])"
            ]
          },
          "metadata": {},
          "execution_count": 141
        }
      ]
    },
    {
      "cell_type": "code",
      "source": [
        "#Multiplying 32 bits int tensor with 32 bits float TensorSequenceType\n",
        "\n",
        "#firt creating 32bits integer tensor\n",
        "int_32_tensor = torch.tensor([2,9,7],\n",
        "                             dtype = torch.int32)\n",
        "int_32_tensor.dtype\n",
        "\n",
        "int_32_tensor * float_32_tensor\n"
      ],
      "metadata": {
        "colab": {
          "base_uri": "https://localhost:8080/"
        },
        "id": "sCygx_QxK_eK",
        "outputId": "293c887b-eb4b-4f00-e52c-fb952171cad6"
      },
      "execution_count": 142,
      "outputs": [
        {
          "output_type": "execute_result",
          "data": {
            "text/plain": [
              "tensor([ 4., 63., 63.])"
            ]
          },
          "metadata": {},
          "execution_count": 142
        }
      ]
    },
    {
      "cell_type": "code",
      "source": [
        "#Multiplying long tensor with 32 bits float Tensor\n",
        "\n",
        "#firt creating 32bits integer tensor\n",
        "int_32_tensor = torch.tensor([2,9,7],\n",
        "                             dtype = torch.long)\n",
        "int_32_tensor.dtype\n",
        "\n",
        "int_32_tensor * float_32_tensor\n"
      ],
      "metadata": {
        "colab": {
          "base_uri": "https://localhost:8080/"
        },
        "id": "RWQ_ybgOLPQ0",
        "outputId": "b55aa221-18d0-4973-a184-ca469aa08504"
      },
      "execution_count": 143,
      "outputs": [
        {
          "output_type": "execute_result",
          "data": {
            "text/plain": [
              "tensor([ 4., 63., 63.])"
            ]
          },
          "metadata": {},
          "execution_count": 143
        }
      ]
    },
    {
      "cell_type": "markdown",
      "source": [
        "**Tensors Attribute**:\n",
        " - for getting information from tensors\n",
        "  - dtype\n",
        "  - shape\n",
        "  - device"
      ],
      "metadata": {
        "id": "e11uNyEBM2Zm"
      }
    },
    {
      "cell_type": "code",
      "source": [
        "random_tensor = torch.rand(2,3)\n",
        "random_tensor"
      ],
      "metadata": {
        "colab": {
          "base_uri": "https://localhost:8080/"
        },
        "id": "HhwC1isnMoi5",
        "outputId": "305d988f-b992-49f2-8651-a7372074eed6"
      },
      "execution_count": 144,
      "outputs": [
        {
          "output_type": "execute_result",
          "data": {
            "text/plain": [
              "tensor([[0.1531, 0.4593, 0.9938],\n",
              "        [0.0607, 0.3456, 0.5290]])"
            ]
          },
          "metadata": {},
          "execution_count": 144
        }
      ]
    },
    {
      "cell_type": "code",
      "source": [
        "#getting information about the tensors\n",
        "\n",
        "print(random_tensor)\n",
        "print(f\"shape of random_tensor = {random_tensor.shape}\")\n",
        "print(f\"device on which random_tensor is reated = {random_tensor.device}\")\n",
        "print(f\"datatype of the randam_tensor = {random_tensor.dtype}\")"
      ],
      "metadata": {
        "colab": {
          "base_uri": "https://localhost:8080/"
        },
        "id": "wlKTH-OtNNHF",
        "outputId": "9257b5ac-0dd7-4d43-9176-ded566240a27"
      },
      "execution_count": 145,
      "outputs": [
        {
          "output_type": "stream",
          "name": "stdout",
          "text": [
            "tensor([[0.1531, 0.4593, 0.9938],\n",
            "        [0.0607, 0.3456, 0.5290]])\n",
            "shape of random_tensor = torch.Size([2, 3])\n",
            "device on which random_tensor is reated = cpu\n",
            "datatype of the randam_tensor = torch.float32\n"
          ]
        }
      ]
    },
    {
      "cell_type": "markdown",
      "source": [
        "# Tensor Operations: Manipulating tensors\n",
        "Tensor operations Include:\n",
        "- Addition\n",
        "- Subtraction\n",
        "- Multiplication(element-wise)\n",
        "- Division\n",
        "- Matrix Multiplication"
      ],
      "metadata": {
        "id": "iOb_Q5-eNnZV"
      }
    },
    {
      "cell_type": "code",
      "source": [
        "general_tensor = torch.tensor([2,5,10])\n",
        "general_tensor + 2\n",
        "#alternative method\n",
        "#torch.add(general_tensor,2)"
      ],
      "metadata": {
        "colab": {
          "base_uri": "https://localhost:8080/"
        },
        "id": "v7wZ1hcvUp9p",
        "outputId": "ddd2f264-7718-4cf1-cab4-3be1492c6147"
      },
      "execution_count": 146,
      "outputs": [
        {
          "output_type": "execute_result",
          "data": {
            "text/plain": [
              "tensor([ 4,  7, 12])"
            ]
          },
          "metadata": {},
          "execution_count": 146
        }
      ]
    },
    {
      "cell_type": "code",
      "source": [
        "general_tensor * 10\n",
        "#alternative method using built in function\n",
        "#torch.mul(general_tensor ,10)"
      ],
      "metadata": {
        "colab": {
          "base_uri": "https://localhost:8080/"
        },
        "id": "94FiOwOuVQ74",
        "outputId": "a4113a06-e6fd-4ac1-9dbb-91df8fc2cb80"
      },
      "execution_count": 147,
      "outputs": [
        {
          "output_type": "execute_result",
          "data": {
            "text/plain": [
              "tensor([ 20,  50, 100])"
            ]
          },
          "metadata": {},
          "execution_count": 147
        }
      ]
    },
    {
      "cell_type": "code",
      "source": [
        "general_tensor - 10\n",
        "#alternative method using built in method\n",
        "torch.sub(general_tensor,10)\n"
      ],
      "metadata": {
        "colab": {
          "base_uri": "https://localhost:8080/"
        },
        "id": "PcOPzTV-VYWH",
        "outputId": "7be70c22-ef08-4341-b203-a6e50c644ecf"
      },
      "execution_count": 148,
      "outputs": [
        {
          "output_type": "execute_result",
          "data": {
            "text/plain": [
              "tensor([-8, -5,  0])"
            ]
          },
          "metadata": {},
          "execution_count": 148
        }
      ]
    },
    {
      "cell_type": "markdown",
      "source": [
        "**Matrix** **Multiplication**\n",
        "\n",
        "There are two ways of multiplication in neural networks or deep learning\n",
        "\n",
        "- Element wise multiplication\n",
        "- Matrix Multiplication(dot product)"
      ],
      "metadata": {
        "id": "TBQriT-MVdCU"
      }
    },
    {
      "cell_type": "code",
      "source": [
        "general_tensor"
      ],
      "metadata": {
        "colab": {
          "base_uri": "https://localhost:8080/"
        },
        "id": "sqK7ioEiXSjM",
        "outputId": "8fee98b7-2a67-49cc-ef1c-703c067a8a2e"
      },
      "execution_count": 149,
      "outputs": [
        {
          "output_type": "execute_result",
          "data": {
            "text/plain": [
              "tensor([ 2,  5, 10])"
            ]
          },
          "metadata": {},
          "execution_count": 149
        }
      ]
    },
    {
      "cell_type": "code",
      "source": [
        "#element wise multiplication\n",
        "print(general_tensor ,\"*\",general_tensor)\n",
        "print(general_tensor * general_tensor)"
      ],
      "metadata": {
        "colab": {
          "base_uri": "https://localhost:8080/"
        },
        "id": "dCKPmgLpX-pz",
        "outputId": "3573d873-597d-440c-aa07-a5b4eccf5353"
      },
      "execution_count": 150,
      "outputs": [
        {
          "output_type": "stream",
          "name": "stdout",
          "text": [
            "tensor([ 2,  5, 10]) * tensor([ 2,  5, 10])\n",
            "tensor([  4,  25, 100])\n"
          ]
        }
      ]
    },
    {
      "cell_type": "code",
      "source": [
        "#matrix multipliaction\n",
        "torch.matmul(general_tensor,general_tensor)"
      ],
      "metadata": {
        "colab": {
          "base_uri": "https://localhost:8080/"
        },
        "id": "g8t_bBHKYH3J",
        "outputId": "8f3db79b-f5f8-46a7-91f1-05a229222d45"
      },
      "execution_count": 151,
      "outputs": [
        {
          "output_type": "execute_result",
          "data": {
            "text/plain": [
              "tensor(129)"
            ]
          },
          "metadata": {},
          "execution_count": 151
        }
      ]
    },
    {
      "cell_type": "code",
      "source": [
        "#manual matrix multiplication\n",
        "#2*2 +5*5 + 10*10\n",
        "%%time\n",
        "value=0\n",
        "for i in range(len(general_tensor)):\n",
        "  value = value + general_tensor[i] * general_tensor[i]\n",
        "print(value)"
      ],
      "metadata": {
        "colab": {
          "base_uri": "https://localhost:8080/"
        },
        "id": "5RosgbGeYo-h",
        "outputId": "f818f391-85b5-46b5-d8e0-783f937c23ba"
      },
      "execution_count": 152,
      "outputs": [
        {
          "output_type": "stream",
          "name": "stdout",
          "text": [
            "tensor(129)\n",
            "CPU times: user 783 µs, sys: 0 ns, total: 783 µs\n",
            "Wall time: 789 µs\n"
          ]
        }
      ]
    },
    {
      "cell_type": "code",
      "source": [
        "%%time\n",
        "#general_tensor @ general_tensor\n",
        "torch.matmul(general_tensor , general_tensor)"
      ],
      "metadata": {
        "colab": {
          "base_uri": "https://localhost:8080/"
        },
        "id": "7ncUeRnuYx26",
        "outputId": "0b62949c-6c58-4a5e-952d-23fcee328666"
      },
      "execution_count": 153,
      "outputs": [
        {
          "output_type": "stream",
          "name": "stdout",
          "text": [
            "CPU times: user 77 µs, sys: 12 µs, total: 89 µs\n",
            "Wall time: 95.4 µs\n"
          ]
        },
        {
          "output_type": "execute_result",
          "data": {
            "text/plain": [
              "tensor(129)"
            ]
          },
          "metadata": {},
          "execution_count": 153
        }
      ]
    },
    {
      "cell_type": "markdown",
      "source": [
        "**note : built in torch methods are fast and efficient**"
      ],
      "metadata": {
        "id": "a1XRgXRqbOuX"
      }
    },
    {
      "cell_type": "code",
      "source": [],
      "metadata": {
        "id": "xa5u_8D3cMGc"
      },
      "execution_count": 153,
      "outputs": []
    },
    {
      "cell_type": "markdown",
      "source": [
        "The most common error in the tensor multiplication is the shape error\n",
        " - for matrix multiplication:\n",
        "  - the num of columns in first matrix must be equal to the number of rows in the second matrix\n",
        "  - i.e inner dimensions must be equal\n",
        "  - (2,3) @ (2,3) won't work\n",
        "  - (3,2) @ (2,3) will work\n",
        "  - (3,4) @ (4,3) => (3,3)"
      ],
      "metadata": {
        "id": "0x4DBSaebWOX"
      }
    },
    {
      "cell_type": "code",
      "source": [
        "torch.matmul(torch.rand(3,4) , torch.rand(4,3))"
      ],
      "metadata": {
        "colab": {
          "base_uri": "https://localhost:8080/"
        },
        "id": "bOs0QWeAcdvf",
        "outputId": "761f35a7-3522-494d-a4e5-cadd093e31ad"
      },
      "execution_count": 154,
      "outputs": [
        {
          "output_type": "execute_result",
          "data": {
            "text/plain": [
              "tensor([[0.7965, 0.6526, 0.5834],\n",
              "        [1.2634, 1.2921, 0.8494],\n",
              "        [1.0510, 1.1108, 1.2090]])"
            ]
          },
          "metadata": {},
          "execution_count": 154
        }
      ]
    },
    {
      "cell_type": "markdown",
      "source": [
        "**How to deal with shape errors in matrix multiplication**\n",
        " - take the transpose of tge any of the matrix\n",
        " - transpose means changing the axis . i.e changing rows into coulmnn or coulmns into rowns"
      ],
      "metadata": {
        "id": "LTf-OVOJf9KX"
      }
    },
    {
      "cell_type": "code",
      "source": [
        "tensor_A = torch.tensor([[1,5],[3,9],[8,0]])\n",
        "tensor_A.shape"
      ],
      "metadata": {
        "colab": {
          "base_uri": "https://localhost:8080/"
        },
        "id": "E0ssIH_qgYLx",
        "outputId": "9616deb5-225d-4439-8ec7-2862f5907a37"
      },
      "execution_count": 155,
      "outputs": [
        {
          "output_type": "execute_result",
          "data": {
            "text/plain": [
              "torch.Size([3, 2])"
            ]
          },
          "metadata": {},
          "execution_count": 155
        }
      ]
    },
    {
      "cell_type": "code",
      "source": [
        "tensor_B = torch.tensor([[3,9],[9,7],[5,8]])\n",
        "tensor_B.shape"
      ],
      "metadata": {
        "colab": {
          "base_uri": "https://localhost:8080/"
        },
        "id": "ULioU2-mgnTl",
        "outputId": "048c9e93-bca0-40b8-df62-51d1409dba4f"
      },
      "execution_count": 156,
      "outputs": [
        {
          "output_type": "execute_result",
          "data": {
            "text/plain": [
              "torch.Size([3, 2])"
            ]
          },
          "metadata": {},
          "execution_count": 156
        }
      ]
    },
    {
      "cell_type": "code",
      "source": [
        "#as inner dimensions are not equaal , it will throw an error on running\n",
        "\n",
        "torch.mm(tensor_A,tensor_B)"
      ],
      "metadata": {
        "colab": {
          "base_uri": "https://localhost:8080/",
          "height": 176
        },
        "id": "oSkDn4vYgxrW",
        "outputId": "ee543024-e409-4a0d-eed7-f04c37a00310"
      },
      "execution_count": 157,
      "outputs": [
        {
          "output_type": "error",
          "ename": "RuntimeError",
          "evalue": "mat1 and mat2 shapes cannot be multiplied (3x2 and 3x2)",
          "traceback": [
            "\u001b[0;31m---------------------------------------------------------------------------\u001b[0m",
            "\u001b[0;31mRuntimeError\u001b[0m                              Traceback (most recent call last)",
            "\u001b[0;32m/tmp/ipython-input-157-2123373279.py\u001b[0m in \u001b[0;36m<cell line: 0>\u001b[0;34m()\u001b[0m\n\u001b[1;32m      1\u001b[0m \u001b[0;31m#as inner dimensions are not equaal , it will throw an error on running\u001b[0m\u001b[0;34m\u001b[0m\u001b[0;34m\u001b[0m\u001b[0m\n\u001b[1;32m      2\u001b[0m \u001b[0;34m\u001b[0m\u001b[0m\n\u001b[0;32m----> 3\u001b[0;31m \u001b[0mtorch\u001b[0m\u001b[0;34m.\u001b[0m\u001b[0mmm\u001b[0m\u001b[0;34m(\u001b[0m\u001b[0mtensor_A\u001b[0m\u001b[0;34m,\u001b[0m\u001b[0mtensor_B\u001b[0m\u001b[0;34m)\u001b[0m\u001b[0;34m\u001b[0m\u001b[0;34m\u001b[0m\u001b[0m\n\u001b[0m",
            "\u001b[0;31mRuntimeError\u001b[0m: mat1 and mat2 shapes cannot be multiplied (3x2 and 3x2)"
          ]
        }
      ]
    },
    {
      "cell_type": "code",
      "source": [
        "#in order to make the shape compatible , take the transpose of any tensor\n",
        "Transpose_tensor_A= tensor_A.T  #(2,3)"
      ],
      "metadata": {
        "id": "79fYFmBGhAqF"
      },
      "execution_count": 158,
      "outputs": []
    },
    {
      "cell_type": "code",
      "source": [
        "torch.matmul(Transpose_tensor_A, tensor_B)"
      ],
      "metadata": {
        "colab": {
          "base_uri": "https://localhost:8080/"
        },
        "id": "rWp8YQPPg9QT",
        "outputId": "03c2bdfd-7072-4e53-8465-479bca0b0094"
      },
      "execution_count": 159,
      "outputs": [
        {
          "output_type": "execute_result",
          "data": {
            "text/plain": [
              "tensor([[ 70,  94],\n",
              "        [ 96, 108]])"
            ]
          },
          "metadata": {},
          "execution_count": 159
        }
      ]
    },
    {
      "cell_type": "code",
      "source": [
        "print(f\"tensor_A.shape:{tensor_A.shape} and tensor_B.shape: {tensor_B.shape}\")\n",
        "print(\"inner dimensions are not equal , thus mulptication is not possible\")\n",
        "print(f\"tensor_A.shape :{tensor_A.shape} and tensor_B.transpose.shape: {tensor_B.T.shape}\")\n",
        "print(\"inner dimensions are equal , thus mulptication is possible\")\n",
        "print(f\"The output matrix of outer dimension shape is after matrix multipliaction = {torch.mm(tensor_A,tensor_B.T)}\")"
      ],
      "metadata": {
        "colab": {
          "base_uri": "https://localhost:8080/"
        },
        "id": "R4MUJTTshNhI",
        "outputId": "ec0de51d-4055-4ff3-91c4-533cf87ea326"
      },
      "execution_count": 160,
      "outputs": [
        {
          "output_type": "stream",
          "name": "stdout",
          "text": [
            "tensor_A.shape:torch.Size([3, 2]) and tensor_B.shape: torch.Size([3, 2])\n",
            "inner dimensions are not equal , thus mulptication is not possible\n",
            "tensor_A.shape :torch.Size([3, 2]) and tensor_B.transpose.shape: torch.Size([2, 3])\n",
            "inner dimensions are equal , thus mulptication is possible\n",
            "The output matrix of outer dimension shape is after matrix multipliaction = tensor([[48, 44, 45],\n",
            "        [90, 90, 87],\n",
            "        [24, 72, 40]])\n"
          ]
        }
      ]
    },
    {
      "cell_type": "markdown",
      "source": [
        "## Tensor Aggregation\n",
        "- finding the min , max , mean, sum,etc"
      ],
      "metadata": {
        "id": "pYzdx1ojigim"
      }
    },
    {
      "cell_type": "code",
      "source": [
        "rand_tensor = torch.rand(2,4)"
      ],
      "metadata": {
        "id": "km5Hsllhju2K"
      },
      "execution_count": 169,
      "outputs": []
    },
    {
      "cell_type": "code",
      "source": [
        "Tensor"
      ],
      "metadata": {
        "id": "CFCWUf-2VQRd",
        "outputId": "e79dd88e-4351-498a-cad4-f1c034ec5cee",
        "colab": {
          "base_uri": "https://localhost:8080/"
        }
      },
      "execution_count": 162,
      "outputs": [
        {
          "output_type": "execute_result",
          "data": {
            "text/plain": [
              "tensor([[0.0683, 0.0149, 0.4642, 0.7569],\n",
              "        [0.0968, 0.9383, 0.8425, 0.4555]])"
            ]
          },
          "metadata": {},
          "execution_count": 162
        }
      ]
    },
    {
      "cell_type": "code",
      "source": [
        "#sum\n",
        "rand_tensor.sum() , torch.sum(rand_tensor)"
      ],
      "metadata": {
        "id": "BwWFV-8oVpP5",
        "outputId": "5e084673-422a-49a2-e1a9-d1a774529ca8",
        "colab": {
          "base_uri": "https://localhost:8080/"
        }
      },
      "execution_count": 171,
      "outputs": [
        {
          "output_type": "execute_result",
          "data": {
            "text/plain": [
              "(tensor(3.7229), tensor(3.7229))"
            ]
          },
          "metadata": {},
          "execution_count": 171
        }
      ]
    },
    {
      "cell_type": "code",
      "source": [
        "#min\n",
        "rand_tensor.min() , torch.min(rand_tensor)"
      ],
      "metadata": {
        "id": "qJf4YbdzVu8H",
        "outputId": "c79e9575-867c-4b0c-ec17-eed02986184d",
        "colab": {
          "base_uri": "https://localhost:8080/"
        }
      },
      "execution_count": 170,
      "outputs": [
        {
          "output_type": "execute_result",
          "data": {
            "text/plain": [
              "(tensor(0.0223), tensor(0.0223))"
            ]
          },
          "metadata": {},
          "execution_count": 170
        }
      ]
    },
    {
      "cell_type": "code",
      "source": [
        "#max\n",
        "rand_tensor.max() , torch.max(rand_tensor)"
      ],
      "metadata": {
        "id": "nkSBZSYOVy9E",
        "outputId": "f391f973-1887-4d4f-bca7-3af7dc33b8a4",
        "colab": {
          "base_uri": "https://localhost:8080/"
        }
      },
      "execution_count": 173,
      "outputs": [
        {
          "output_type": "execute_result",
          "data": {
            "text/plain": [
              "(tensor(0.8289), tensor(0.8289))"
            ]
          },
          "metadata": {},
          "execution_count": 173
        }
      ]
    },
    {
      "cell_type": "code",
      "source": [
        "#mean => mean function only works on float and complex values . As long int is given as input that's why it is throwing an error\n",
        "int_values_tensor = torch.tensor([2,6,9,10],dtype=torch.int64)\n",
        "# int_values_tensor.type(torch.float32).mean() #alternative method\n",
        "torch.mean(int_values_tensor.type(torch.float16))"
      ],
      "metadata": {
        "id": "aU4RCytXWU3G",
        "outputId": "c4358013-3427-41f5-ab7c-8e93b308c2fd",
        "colab": {
          "base_uri": "https://localhost:8080/"
        }
      },
      "execution_count": 180,
      "outputs": [
        {
          "output_type": "execute_result",
          "data": {
            "text/plain": [
              "tensor(6.7500, dtype=torch.float16)"
            ]
          },
          "metadata": {},
          "execution_count": 180
        }
      ]
    },
    {
      "cell_type": "markdown",
      "source": [
        "**positional min and max using argmax and argmin**"
      ],
      "metadata": {
        "id": "8FjqtAAVWefE"
      }
    },
    {
      "cell_type": "code",
      "source": [
        "#argmin => will provide us the position or index of the minimum value in the given torch.tensor\n",
        "new_tensor = torch.arange(2,1000,90)\n",
        "new_tensor"
      ],
      "metadata": {
        "id": "CJrABuC8Xmzy",
        "outputId": "14116433-eccf-4863-e6df-dded21bda907",
        "colab": {
          "base_uri": "https://localhost:8080/"
        }
      },
      "execution_count": 184,
      "outputs": [
        {
          "output_type": "execute_result",
          "data": {
            "text/plain": [
              "tensor([  2,  92, 182, 272, 362, 452, 542, 632, 722, 812, 902, 992])"
            ]
          },
          "metadata": {},
          "execution_count": 184
        }
      ]
    },
    {
      "cell_type": "code",
      "source": [
        "rand_tensor.argmin()"
      ],
      "metadata": {
        "id": "rjsjFXntX2_x",
        "outputId": "b545ca2a-fa14-4bab-92a7-b07cb9b94f2b",
        "colab": {
          "base_uri": "https://localhost:8080/"
        }
      },
      "execution_count": 185,
      "outputs": [
        {
          "output_type": "execute_result",
          "data": {
            "text/plain": [
              "tensor(0)"
            ]
          },
          "metadata": {},
          "execution_count": 185
        }
      ]
    },
    {
      "cell_type": "code",
      "source": [
        "new_tensor[0] #we can find the minimum value in the tensor by using that position or index by argmin"
      ],
      "metadata": {
        "id": "tbP3I08wX6H_",
        "outputId": "dd63a20b-1c41-4d4b-bd52-e98c5ff877af",
        "colab": {
          "base_uri": "https://localhost:8080/"
        }
      },
      "execution_count": 186,
      "outputs": [
        {
          "output_type": "execute_result",
          "data": {
            "text/plain": [
              "tensor(2)"
            ]
          },
          "metadata": {},
          "execution_count": 186
        }
      ]
    },
    {
      "cell_type": "code",
      "source": [
        "new_tensor.argmax() # outputs the position or index of maximum value in the tensor"
      ],
      "metadata": {
        "id": "4m827DiDYN-u",
        "outputId": "70382654-c9f0-47db-e4ae-2d998e8cddf1",
        "colab": {
          "base_uri": "https://localhost:8080/"
        }
      },
      "execution_count": 189,
      "outputs": [
        {
          "output_type": "execute_result",
          "data": {
            "text/plain": [
              "tensor(11)"
            ]
          },
          "metadata": {},
          "execution_count": 189
        }
      ]
    },
    {
      "cell_type": "code",
      "source": [
        "new_tensor[5]"
      ],
      "metadata": {
        "id": "3Q0OmxxLYbPU",
        "outputId": "1af5668d-f7f6-438c-e2c0-d69388da72d8",
        "colab": {
          "base_uri": "https://localhost:8080/"
        }
      },
      "execution_count": 190,
      "outputs": [
        {
          "output_type": "execute_result",
          "data": {
            "text/plain": [
              "tensor(452)"
            ]
          },
          "metadata": {},
          "execution_count": 190
        }
      ]
    },
    {
      "cell_type": "markdown",
      "source": [
        "**Reshaping , stacking , sequeezing and unsequeezing tensors**\n",
        "\n",
        "- The most common problem we encounter while working with tensors is shape incompatibility.\n",
        "- To solve this error , different methods are used , some of which are as follows:\n",
        "  * **Reshaping:** changing the shape of the tensor with the defined shape.\n",
        "  * **view :** return a view of the input tensor in a specified shape but both the original tensor and the reshaped tensor via view are pointing to same memory location , changes in one reflects to other as well\n",
        "  * **stacking** : combining the tensors in a dimention specified . By default its vertical dim=0\n",
        "  * **sequeezing :** means removing the single dimension from the input array. i.e removing from double brackets to single brackets\n",
        "\n",
        "  * **unsequeezing:**  means adding a new single dimension in the tensor i.e adding a bracket\n",
        "\n",
        "  * **permute**: means modifying the dimensions or axis of the values in the tensors."
      ],
      "metadata": {
        "id": "hnppkuNHYuAq"
      }
    },
    {
      "cell_type": "markdown",
      "source": [
        "**reshape**()"
      ],
      "metadata": {
        "id": "bRwSXkcxkY-o"
      }
    },
    {
      "cell_type": "code",
      "source": [
        "x = torch.arange(2,10)\n",
        "x , x.shape"
      ],
      "metadata": {
        "id": "vEgg3-G7Y4Ip",
        "outputId": "dac9c3ff-ffca-43f0-814b-aa77e965530b",
        "colab": {
          "base_uri": "https://localhost:8080/"
        }
      },
      "execution_count": 199,
      "outputs": [
        {
          "output_type": "execute_result",
          "data": {
            "text/plain": [
              "(tensor([2, 3, 4, 5, 6, 7, 8, 9]), torch.Size([8]))"
            ]
          },
          "metadata": {},
          "execution_count": 199
        }
      ]
    },
    {
      "cell_type": "code",
      "source": [
        "# x_resahped = x.reshape(8,1)\n",
        "# x_resahped = x.reshape(1,8)\n",
        "# x_reshaped = x.reshape(2,4)\n",
        "#all these are possible in which shape is comaptible\n",
        "#the shape of the new modified tensor should be such way that after multiplying them , it should give the size value of the original tensor\n",
        "# original tensor = 8 , new tensor can be any shape that make 8 on multiplying\n",
        "x_reshaped = x.reshape(4,2)\n"
      ],
      "metadata": {
        "id": "04vmo0CdhfG_"
      },
      "execution_count": 207,
      "outputs": []
    },
    {
      "cell_type": "code",
      "source": [
        "print(f\"original tensor is {x} with shape {x.shape}\")\n",
        "print(\"_________________________________________________\")\n",
        "print(f\"reshaped tensor is {x_reshaped} with the shape {x_reshaped.shape}\")"
      ],
      "metadata": {
        "id": "PqUw4ML0h_xc",
        "outputId": "5bc1feb5-e06b-4f79-b665-48eabd2f15e3",
        "colab": {
          "base_uri": "https://localhost:8080/"
        }
      },
      "execution_count": 224,
      "outputs": [
        {
          "output_type": "stream",
          "name": "stdout",
          "text": [
            "original tensor is tensor([2, 3, 4, 5, 6, 7, 8, 9]) with shape torch.Size([8])\n",
            "_________________________________________________\n",
            "reshaped tensor is tensor([[2, 3],\n",
            "        [4, 5],\n",
            "        [6, 7],\n",
            "        [8, 9]]) with the shape torch.Size([4, 2])\n"
          ]
        }
      ]
    },
    {
      "cell_type": "markdown",
      "source": [
        "**view**"
      ],
      "metadata": {
        "id": "X2j8TmcXhj3R"
      }
    },
    {
      "cell_type": "code",
      "source": [
        "new_tensor.shape"
      ],
      "metadata": {
        "id": "OnqKjrnNkf4k",
        "outputId": "ba7c98a9-424d-42f7-89f6-42ae6d70cbdd",
        "colab": {
          "base_uri": "https://localhost:8080/"
        }
      },
      "execution_count": 243,
      "outputs": [
        {
          "output_type": "execute_result",
          "data": {
            "text/plain": [
              "torch.Size([12])"
            ]
          },
          "metadata": {},
          "execution_count": 243
        }
      ]
    },
    {
      "cell_type": "code",
      "source": [
        "new_viewed_tensor= new_tensor.view(4,3)\n",
        "new_tensor.shape\n"
      ],
      "metadata": {
        "id": "ARcxAE-Gkiha",
        "outputId": "90321ece-91f5-42c6-f1fa-ae7b55602d1a",
        "colab": {
          "base_uri": "https://localhost:8080/"
        }
      },
      "execution_count": 245,
      "outputs": [
        {
          "output_type": "execute_result",
          "data": {
            "text/plain": [
              "torch.Size([12])"
            ]
          },
          "metadata": {},
          "execution_count": 245
        }
      ]
    },
    {
      "cell_type": "code",
      "source": [
        "\n",
        "print(f\"new_tensor is {new_tensor} with shape {new_tensor.shape}\")\n",
        "print(\"_________________________________________________\")\n",
        "print(f\"view of the new_tensor is {new_viewed_tensor} with shape {new_viewed_tensor.shape}\")"
      ],
      "metadata": {
        "id": "aQsPWuUMnJ7M",
        "outputId": "f6ebc4a9-9b10-4633-cd5d-6381619ec07d",
        "colab": {
          "base_uri": "https://localhost:8080/"
        }
      },
      "execution_count": 255,
      "outputs": [
        {
          "output_type": "stream",
          "name": "stdout",
          "text": [
            "new_tensor is tensor([  2,  92,  17, 272, 362, 452, 542, 632, 722, 812, 902, 992]) with shape torch.Size([12])\n",
            "_________________________________________________\n",
            "view of the new_tensor is tensor([[  2,  92,  17],\n",
            "        [272, 362, 452],\n",
            "        [542, 632, 722],\n",
            "        [812, 902, 992]]) with shape torch.Size([4, 3])\n"
          ]
        }
      ]
    },
    {
      "cell_type": "code",
      "source": [
        "new_tensor[2]=17\n",
        "new_viewed_tensor[0][2]\n",
        "\n",
        "#changes done in one also reflects in the other . this is because as both are pointing to same memory lacation"
      ],
      "metadata": {
        "id": "_ni7KnWMkpR-",
        "outputId": "8f89f31d-795b-4c6b-e9ce-fe11f83b1fef",
        "colab": {
          "base_uri": "https://localhost:8080/"
        }
      },
      "execution_count": 252,
      "outputs": [
        {
          "output_type": "execute_result",
          "data": {
            "text/plain": [
              "tensor(17)"
            ]
          },
          "metadata": {},
          "execution_count": 252
        }
      ]
    },
    {
      "cell_type": "markdown",
      "source": [
        "**Stacking**"
      ],
      "metadata": {
        "id": "-hNYN2PAo2Jg"
      }
    },
    {
      "cell_type": "code",
      "source": [
        "stacked_tensors = torch.stack([x,x,x],dim=1)\n",
        "#dim=0 row wise stacking in vertical manner\n",
        "#dim=1 column wise stacking in horizontal manner\n",
        "stacked_tensors\n"
      ],
      "metadata": {
        "id": "9WUd60mblUtJ",
        "outputId": "4136edb2-4944-4003-fe51-738a79cb1a06",
        "colab": {
          "base_uri": "https://localhost:8080/"
        }
      },
      "execution_count": 266,
      "outputs": [
        {
          "output_type": "execute_result",
          "data": {
            "text/plain": [
              "tensor([[ 2,  2,  2],\n",
              "        [19, 19, 19],\n",
              "        [19, 19, 19],\n",
              "        [19, 19, 19],\n",
              "        [ 6,  6,  6],\n",
              "        [19, 19, 19],\n",
              "        [ 8,  8,  8],\n",
              "        [19, 19, 19]])"
            ]
          },
          "metadata": {},
          "execution_count": 266
        }
      ]
    },
    {
      "cell_type": "markdown",
      "source": [
        "**Sequeeze**"
      ],
      "metadata": {
        "id": "KuirLaFdokHx"
      }
    },
    {
      "cell_type": "code",
      "source": [
        "Tensor = torch.tensor([[[2,9],[2,0],[4,5]]])\n",
        "Tensor.shape\n",
        "print(f\"Before squeezing: {Tensor} with shape {Tensor.shape}\")"
      ],
      "metadata": {
        "id": "7B4jKjpqqAPv",
        "outputId": "723f0c17-5d3f-4632-94c2-d9341836893f",
        "colab": {
          "base_uri": "https://localhost:8080/"
        }
      },
      "execution_count": 300,
      "outputs": [
        {
          "output_type": "stream",
          "name": "stdout",
          "text": [
            "Before squeezing: tensor([[[2, 9],\n",
            "         [2, 0],\n",
            "         [4, 5]]]) with shape torch.Size([1, 3, 2])\n"
          ]
        }
      ]
    },
    {
      "cell_type": "code",
      "source": [
        "squeezed= torch.squeeze(Tensor)\n",
        "print(f\"After squeezing: {squeezed} with shape {squeezed.shape}\")"
      ],
      "metadata": {
        "id": "Kon0SImjqCIc",
        "outputId": "475ac36a-4455-4ea6-8f18-740b6c7b80e1",
        "colab": {
          "base_uri": "https://localhost:8080/"
        }
      },
      "execution_count": 304,
      "outputs": [
        {
          "output_type": "stream",
          "name": "stdout",
          "text": [
            "After squeezing: tensor([[2, 9],\n",
            "        [2, 0],\n",
            "        [4, 5]]) with shape torch.Size([3, 2])\n"
          ]
        }
      ]
    },
    {
      "cell_type": "markdown",
      "source": [
        "**Unsqueezing**"
      ],
      "metadata": {
        "id": "JMGSpT1mrqNw"
      }
    },
    {
      "cell_type": "code",
      "source": [
        "squeezed , squeezed.shape\n",
        ""
      ],
      "metadata": {
        "id": "6A4HM_BHtmgu",
        "outputId": "4507507c-1fb0-47d4-bcbb-5a9202cc5085",
        "colab": {
          "base_uri": "https://localhost:8080/"
        }
      },
      "execution_count": 314,
      "outputs": [
        {
          "output_type": "execute_result",
          "data": {
            "text/plain": [
              "(tensor([[2, 9],\n",
              "         [2, 0],\n",
              "         [4, 5]]),\n",
              " torch.Size([3, 2]))"
            ]
          },
          "metadata": {},
          "execution_count": 314
        }
      ]
    },
    {
      "cell_type": "code",
      "source": [
        "unsqueezed = torch.unsqueeze(squeezed,1)\n",
        "unsqueezed , unsqueezed.shape  # 0 dimension means add brackets as whole .ie. column wise ,while 1 dimension means adding bracket along each each row"
      ],
      "metadata": {
        "id": "3yjXFDh8troV",
        "outputId": "048abe88-f446-4276-86dc-f429004f2b42",
        "colab": {
          "base_uri": "https://localhost:8080/"
        }
      },
      "execution_count": 316,
      "outputs": [
        {
          "output_type": "execute_result",
          "data": {
            "text/plain": [
              "(tensor([[[2, 9]],\n",
              " \n",
              "         [[2, 0]],\n",
              " \n",
              "         [[4, 5]]]),\n",
              " torch.Size([3, 1, 2]))"
            ]
          },
          "metadata": {},
          "execution_count": 316
        }
      ]
    },
    {
      "cell_type": "markdown",
      "source": [
        "**permute**"
      ],
      "metadata": {
        "id": "SPScA3Lmvkqg"
      }
    },
    {
      "cell_type": "code",
      "source": [
        "x = torch.randn(2,3,5)\n",
        "print(f\"Before permutation: {x} with shape {x.shape}\")\n",
        "x.size()\n",
        "\n",
        "print(\"________________________________________\")\n",
        "print(\"________________________________________\")\n",
        "permuted= torch.permute(x,(2,0,1)) #changing the 0->2 , 1->0 , 2->1\n",
        "print(f\"after permutation: {permuted} with shape {permuted.shape}\")"
      ],
      "metadata": {
        "id": "YIq10LQttzr_",
        "outputId": "9c9a5fc0-7113-4764-94e4-ce1a2465605f",
        "colab": {
          "base_uri": "https://localhost:8080/"
        }
      },
      "execution_count": 327,
      "outputs": [
        {
          "output_type": "stream",
          "name": "stdout",
          "text": [
            "Before permutation: tensor([[[-1.1212,  1.6606, -0.3821,  0.5897,  0.1732],\n",
            "         [-1.2520, -0.4588,  0.3888,  2.0533,  1.7238],\n",
            "         [ 2.5456, -2.5226,  0.0185, -0.6820, -0.4414]],\n",
            "\n",
            "        [[-1.2303,  0.6589, -0.4161,  0.1748, -0.6759],\n",
            "         [ 1.7761,  2.1099,  0.7680,  1.6361, -0.4813],\n",
            "         [ 0.2046,  1.1726,  1.2369,  0.5373,  0.9242]]]) with shape torch.Size([2, 3, 5])\n",
            "________________________________________\n",
            "________________________________________\n",
            "after permutation: tensor([[[-1.1212, -1.2520,  2.5456],\n",
            "         [-1.2303,  1.7761,  0.2046]],\n",
            "\n",
            "        [[ 1.6606, -0.4588, -2.5226],\n",
            "         [ 0.6589,  2.1099,  1.1726]],\n",
            "\n",
            "        [[-0.3821,  0.3888,  0.0185],\n",
            "         [-0.4161,  0.7680,  1.2369]],\n",
            "\n",
            "        [[ 0.5897,  2.0533, -0.6820],\n",
            "         [ 0.1748,  1.6361,  0.5373]],\n",
            "\n",
            "        [[ 0.1732,  1.7238, -0.4414],\n",
            "         [-0.6759, -0.4813,  0.9242]]]) with shape torch.Size([5, 2, 3])\n"
          ]
        }
      ]
    },
    {
      "cell_type": "code",
      "source": [
        "#Another example\n",
        "#creating tensor for image\n",
        "\n",
        "x_original = torch.rand(244,244,3) #height , width , colour chennels\n",
        "x_permuted = torch.permute(x_original,(2,0,1)) #color chennels, height , width\n",
        "\n",
        "x_original.shape , x_permuted.shape\n",
        "#note x_original and x_permuted will share the same memory in the computer\n"
      ],
      "metadata": {
        "id": "SwZ2FvROvqJK",
        "outputId": "4b8110de-e350-4b17-9c4d-faeeeffcbee0",
        "colab": {
          "base_uri": "https://localhost:8080/"
        }
      },
      "execution_count": 336,
      "outputs": [
        {
          "output_type": "execute_result",
          "data": {
            "text/plain": [
              "(torch.Size([244, 244, 3]), torch.Size([3, 244, 244]))"
            ]
          },
          "metadata": {},
          "execution_count": 336
        }
      ]
    },
    {
      "cell_type": "code",
      "source": [
        "#chnaging the ist value in x_orginal and then checking whether it is affecting the x_permuted or not\n",
        "\n",
        "x_original[0,0,0]=10\n",
        "x_original[0,0,0] , x_permuted[0,0,0]"
      ],
      "metadata": {
        "id": "YU-JuIYFzWrr",
        "outputId": "f86b901a-2d81-4142-e0fd-b77a4725cb4d",
        "colab": {
          "base_uri": "https://localhost:8080/"
        }
      },
      "execution_count": 344,
      "outputs": [
        {
          "output_type": "execute_result",
          "data": {
            "text/plain": [
              "(tensor(10.), tensor(10.))"
            ]
          },
          "metadata": {},
          "execution_count": 344
        }
      ]
    },
    {
      "cell_type": "markdown",
      "source": [
        "## Indexing\n",
        "\n",
        "indexing with PyTorch are same as the indexing in NumPy"
      ],
      "metadata": {
        "id": "EI2owt_s1W2I"
      }
    },
    {
      "cell_type": "code",
      "source": [
        "#creatting a tensor\n",
        "x=torch.arange(1,90,8)\n",
        "x.shape\n",
        "x= x.reshape(1,4,3)\n",
        "x"
      ],
      "metadata": {
        "id": "dvOMHbYp4WYZ",
        "outputId": "81bf42b5-7259-49cc-9c4f-46b5435eafe3",
        "colab": {
          "base_uri": "https://localhost:8080/"
        }
      },
      "execution_count": 374,
      "outputs": [
        {
          "output_type": "execute_result",
          "data": {
            "text/plain": [
              "tensor([[[ 1,  9, 17],\n",
              "         [25, 33, 41],\n",
              "         [49, 57, 65],\n",
              "         [73, 81, 89]]])"
            ]
          },
          "metadata": {},
          "execution_count": 374
        }
      ]
    },
    {
      "cell_type": "code",
      "source": [
        "x[0]"
      ],
      "metadata": {
        "id": "N6Z1T63f4qBd",
        "outputId": "8605cff8-f183-4390-eb9b-f48d197661c4",
        "colab": {
          "base_uri": "https://localhost:8080/"
        }
      },
      "execution_count": 365,
      "outputs": [
        {
          "output_type": "execute_result",
          "data": {
            "text/plain": [
              "tensor([ 1,  9, 17])"
            ]
          },
          "metadata": {},
          "execution_count": 365
        }
      ]
    },
    {
      "cell_type": "code",
      "source": [
        "x[0][0]"
      ],
      "metadata": {
        "id": "VMAibLsT6BOT",
        "outputId": "2f40f5f1-1943-4dfc-d430-da47500edf0e",
        "colab": {
          "base_uri": "https://localhost:8080/"
        }
      },
      "execution_count": 366,
      "outputs": [
        {
          "output_type": "execute_result",
          "data": {
            "text/plain": [
              "tensor([ 1,  9, 17])"
            ]
          },
          "metadata": {},
          "execution_count": 366
        }
      ]
    },
    {
      "cell_type": "code",
      "source": [
        "x[0][0][0]"
      ],
      "metadata": {
        "id": "WVsW99o06HYo",
        "outputId": "a1927d2a-78fa-46ed-8ead-138d52d2d030",
        "colab": {
          "base_uri": "https://localhost:8080/"
        }
      },
      "execution_count": 368,
      "outputs": [
        {
          "output_type": "execute_result",
          "data": {
            "text/plain": [
              "tensor(1)"
            ]
          },
          "metadata": {},
          "execution_count": 368
        }
      ]
    },
    {
      "cell_type": "code",
      "source": [
        "x[0][0][2]"
      ],
      "metadata": {
        "id": "jpUNpYJP663O",
        "outputId": "a94b76b3-cbeb-4e05-e7b8-28c137e048ce",
        "colab": {
          "base_uri": "https://localhost:8080/"
        }
      },
      "execution_count": 375,
      "outputs": [
        {
          "output_type": "execute_result",
          "data": {
            "text/plain": [
              "tensor(17)"
            ]
          },
          "metadata": {},
          "execution_count": 375
        }
      ]
    },
    {
      "cell_type": "code",
      "source": [
        "x[:,:,1]"
      ],
      "metadata": {
        "id": "ZI8T-pC76KN4",
        "outputId": "5bad2157-6c1b-438f-984f-73d6a94b0610",
        "colab": {
          "base_uri": "https://localhost:8080/"
        }
      },
      "execution_count": 370,
      "outputs": [
        {
          "output_type": "execute_result",
          "data": {
            "text/plain": [
              "tensor([[ 9, 33, 57, 81]])"
            ]
          },
          "metadata": {},
          "execution_count": 370
        }
      ]
    },
    {
      "cell_type": "code",
      "source": [
        "x[0, : ,1]"
      ],
      "metadata": {
        "id": "m-lPnlnS6UPJ",
        "outputId": "b061c732-f5c3-4b7c-905a-cf62f9cc6ada",
        "colab": {
          "base_uri": "https://localhost:8080/"
        }
      },
      "execution_count": 373,
      "outputs": [
        {
          "output_type": "execute_result",
          "data": {
            "text/plain": [
              "tensor([ 9, 33, 57, 81])"
            ]
          },
          "metadata": {},
          "execution_count": 373
        }
      ]
    },
    {
      "cell_type": "code",
      "source": [],
      "metadata": {
        "id": "FOEziViH6drA"
      },
      "execution_count": null,
      "outputs": []
    }
  ]
}