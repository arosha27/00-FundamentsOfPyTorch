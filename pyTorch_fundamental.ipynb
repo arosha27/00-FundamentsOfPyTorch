{
  "nbformat": 4,
  "nbformat_minor": 0,
  "metadata": {
    "colab": {
      "provenance": [],
      "authorship_tag": "ABX9TyPo/JVs+P6CWgh7xl65JZWx",
      "include_colab_link": true
    },
    "kernelspec": {
      "name": "python3",
      "display_name": "Python 3"
    },
    "language_info": {
      "name": "python"
    }
  },
  "cells": [
    {
      "cell_type": "markdown",
      "metadata": {
        "id": "view-in-github",
        "colab_type": "text"
      },
      "source": [
        "<a href=\"https://colab.research.google.com/github/arosha27/00-FundamentsOfPyTorch/blob/main/pyTorch_fundamental.ipynb\" target=\"_parent\"><img src=\"https://colab.research.google.com/assets/colab-badge.svg\" alt=\"Open In Colab\"/></a>"
      ]
    },
    {
      "cell_type": "markdown",
      "source": [
        "## 00. pyTorch Fundamentals\n",
        "Resource notebook : https://www.learnpytorch.io/00_pytorch_fundamentals/\n",
        "discussions : https://github.com/mrdbourke/pytorch-deep-learning/discussions"
      ],
      "metadata": {
        "id": "0Ydl0LWbuxJG"
      }
    },
    {
      "cell_type": "code",
      "source": [
        "import torch\n",
        "import pandas as pd\n",
        "import numpy as np\n",
        "import matplotlib.pyplot as plt\n",
        "print(torch.__version__)"
      ],
      "metadata": {
        "colab": {
          "base_uri": "https://localhost:8080/"
        },
        "id": "Z3E732c0v_pU",
        "outputId": "7e3044da-025b-4571-bbd1-b57a7cdc442e"
      },
      "execution_count": 231,
      "outputs": [
        {
          "output_type": "stream",
          "name": "stdout",
          "text": [
            "2.6.0+cu124\n"
          ]
        }
      ]
    },
    {
      "cell_type": "markdown",
      "source": [
        "# Introduction to Tensors\n",
        "- Creating tensors (Basic building block of data representation i.e Tensors in deep learning)"
      ],
      "metadata": {
        "id": "4UJ9dc6yyQ_k"
      }
    },
    {
      "cell_type": "markdown",
      "source": [
        "**Scalar**"
      ],
      "metadata": {
        "id": "glbDrnftF3hJ"
      }
    },
    {
      "cell_type": "code",
      "source": [
        "#scalar\n",
        "scalar = torch.tensor(7)\n",
        "scalar"
      ],
      "metadata": {
        "colab": {
          "base_uri": "https://localhost:8080/"
        },
        "id": "nb-nM52D0MuQ",
        "outputId": "51320757-5321-4c18-d946-76f634ff8f33"
      },
      "execution_count": 232,
      "outputs": [
        {
          "output_type": "execute_result",
          "data": {
            "text/plain": [
              "tensor(7)"
            ]
          },
          "metadata": {},
          "execution_count": 232
        }
      ]
    },
    {
      "cell_type": "code",
      "source": [
        "scalar.ndim"
      ],
      "metadata": {
        "colab": {
          "base_uri": "https://localhost:8080/"
        },
        "id": "K-ybzHzsESdh",
        "outputId": "5c59b72a-6531-4eee-b10d-57568e640608"
      },
      "execution_count": 233,
      "outputs": [
        {
          "output_type": "execute_result",
          "data": {
            "text/plain": [
              "0"
            ]
          },
          "metadata": {},
          "execution_count": 233
        }
      ]
    },
    {
      "cell_type": "code",
      "source": [
        "scalar.shape"
      ],
      "metadata": {
        "colab": {
          "base_uri": "https://localhost:8080/"
        },
        "id": "AHsJis7HEeil",
        "outputId": "a5cc1a56-bbab-46f2-8b1e-e0aeba5a408e"
      },
      "execution_count": 234,
      "outputs": [
        {
          "output_type": "execute_result",
          "data": {
            "text/plain": [
              "torch.Size([])"
            ]
          },
          "metadata": {},
          "execution_count": 234
        }
      ]
    },
    {
      "cell_type": "code",
      "source": [
        "scalar.item()"
      ],
      "metadata": {
        "colab": {
          "base_uri": "https://localhost:8080/"
        },
        "id": "3osj6BnfFBpp",
        "outputId": "1eecc58e-571d-468b-ccf2-d5b168e88f6e"
      },
      "execution_count": 235,
      "outputs": [
        {
          "output_type": "execute_result",
          "data": {
            "text/plain": [
              "7"
            ]
          },
          "metadata": {},
          "execution_count": 235
        }
      ]
    },
    {
      "cell_type": "markdown",
      "source": [
        "**vector**"
      ],
      "metadata": {
        "id": "usTVCDq-F9uq"
      }
    },
    {
      "cell_type": "code",
      "source": [
        "#vectors\n",
        "vector = torch.tensor([3,7])\n",
        "vector"
      ],
      "metadata": {
        "colab": {
          "base_uri": "https://localhost:8080/"
        },
        "id": "rF4b9e0tEolf",
        "outputId": "59c700d8-c65b-44c6-d222-b8e877185a85"
      },
      "execution_count": 236,
      "outputs": [
        {
          "output_type": "execute_result",
          "data": {
            "text/plain": [
              "tensor([3, 7])"
            ]
          },
          "metadata": {},
          "execution_count": 236
        }
      ]
    },
    {
      "cell_type": "code",
      "source": [
        "vector.ndim"
      ],
      "metadata": {
        "colab": {
          "base_uri": "https://localhost:8080/"
        },
        "id": "8Rpqnpp9EuI-",
        "outputId": "6605c44f-2461-4be3-dda6-a346ed5bb7e1"
      },
      "execution_count": 237,
      "outputs": [
        {
          "output_type": "execute_result",
          "data": {
            "text/plain": [
              "1"
            ]
          },
          "metadata": {},
          "execution_count": 237
        }
      ]
    },
    {
      "cell_type": "code",
      "source": [
        "vector.shape"
      ],
      "metadata": {
        "colab": {
          "base_uri": "https://localhost:8080/"
        },
        "id": "WiXbK1_6Fhzl",
        "outputId": "584829db-d4e7-496a-ba8c-485e6e59d292"
      },
      "execution_count": 238,
      "outputs": [
        {
          "output_type": "execute_result",
          "data": {
            "text/plain": [
              "torch.Size([2])"
            ]
          },
          "metadata": {},
          "execution_count": 238
        }
      ]
    },
    {
      "cell_type": "code",
      "source": [
        "vector[0]"
      ],
      "metadata": {
        "colab": {
          "base_uri": "https://localhost:8080/"
        },
        "id": "4FqLiVfTFkXL",
        "outputId": "e5ec7231-c7c7-48eb-bd4e-013265a6396e"
      },
      "execution_count": 239,
      "outputs": [
        {
          "output_type": "execute_result",
          "data": {
            "text/plain": [
              "tensor(3)"
            ]
          },
          "metadata": {},
          "execution_count": 239
        }
      ]
    },
    {
      "cell_type": "code",
      "source": [
        "vector[1]"
      ],
      "metadata": {
        "colab": {
          "base_uri": "https://localhost:8080/"
        },
        "id": "nWjCf_1mFoXf",
        "outputId": "5864a51d-6ddd-406a-a476-13db98ed4c2f"
      },
      "execution_count": 240,
      "outputs": [
        {
          "output_type": "execute_result",
          "data": {
            "text/plain": [
              "tensor(7)"
            ]
          },
          "metadata": {},
          "execution_count": 240
        }
      ]
    },
    {
      "cell_type": "markdown",
      "source": [
        "**MATRIX**"
      ],
      "metadata": {
        "id": "r_NC4BwTGHgb"
      }
    },
    {
      "cell_type": "code",
      "source": [
        "MATRIX = torch.tensor([[12,16],\n",
        "                       [15,19],\n",
        "                       [45,90]])\n",
        "MATRIX"
      ],
      "metadata": {
        "colab": {
          "base_uri": "https://localhost:8080/"
        },
        "id": "50o-tDDfGLGp",
        "outputId": "c7f100b3-a5ce-42d4-d055-faaa0f80940a"
      },
      "execution_count": 241,
      "outputs": [
        {
          "output_type": "execute_result",
          "data": {
            "text/plain": [
              "tensor([[12, 16],\n",
              "        [15, 19],\n",
              "        [45, 90]])"
            ]
          },
          "metadata": {},
          "execution_count": 241
        }
      ]
    },
    {
      "cell_type": "code",
      "source": [
        "MATRIX.ndim"
      ],
      "metadata": {
        "colab": {
          "base_uri": "https://localhost:8080/"
        },
        "id": "jCTBAjrDGXy2",
        "outputId": "b149ff59-2025-493b-9a45-3b1d9a5b2391"
      },
      "execution_count": 242,
      "outputs": [
        {
          "output_type": "execute_result",
          "data": {
            "text/plain": [
              "2"
            ]
          },
          "metadata": {},
          "execution_count": 242
        }
      ]
    },
    {
      "cell_type": "code",
      "source": [
        "MATRIX.shape"
      ],
      "metadata": {
        "colab": {
          "base_uri": "https://localhost:8080/"
        },
        "id": "PfV0MSMFGfIP",
        "outputId": "079ecce7-8c9b-4113-8eb9-5d8c722dca84"
      },
      "execution_count": 243,
      "outputs": [
        {
          "output_type": "execute_result",
          "data": {
            "text/plain": [
              "torch.Size([3, 2])"
            ]
          },
          "metadata": {},
          "execution_count": 243
        }
      ]
    },
    {
      "cell_type": "code",
      "source": [
        "MATRIX[0]"
      ],
      "metadata": {
        "colab": {
          "base_uri": "https://localhost:8080/"
        },
        "id": "ya-2SeQSGj3i",
        "outputId": "beb14921-3f46-46c1-dbe3-f0a472d93b2d"
      },
      "execution_count": 244,
      "outputs": [
        {
          "output_type": "execute_result",
          "data": {
            "text/plain": [
              "tensor([12, 16])"
            ]
          },
          "metadata": {},
          "execution_count": 244
        }
      ]
    },
    {
      "cell_type": "markdown",
      "source": [
        "**Tensor**"
      ],
      "metadata": {
        "id": "rBrLT7cgHGg1"
      }
    },
    {
      "cell_type": "code",
      "source": [
        "TENSOR = torch.tensor([[[12,29],[34,90],[90,68]]])\n",
        "TENSOR"
      ],
      "metadata": {
        "colab": {
          "base_uri": "https://localhost:8080/"
        },
        "id": "b4svyXXSHKUh",
        "outputId": "cecdbf1b-831d-45de-9c73-6ecaf6aa6228"
      },
      "execution_count": 245,
      "outputs": [
        {
          "output_type": "execute_result",
          "data": {
            "text/plain": [
              "tensor([[[12, 29],\n",
              "         [34, 90],\n",
              "         [90, 68]]])"
            ]
          },
          "metadata": {},
          "execution_count": 245
        }
      ]
    },
    {
      "cell_type": "code",
      "source": [
        "TENSOR.ndim"
      ],
      "metadata": {
        "colab": {
          "base_uri": "https://localhost:8080/"
        },
        "id": "blk5vXOWHSTl",
        "outputId": "1a5a687c-37b5-4a1b-c8c1-f01f2f67cb49"
      },
      "execution_count": 246,
      "outputs": [
        {
          "output_type": "execute_result",
          "data": {
            "text/plain": [
              "3"
            ]
          },
          "metadata": {},
          "execution_count": 246
        }
      ]
    },
    {
      "cell_type": "code",
      "source": [
        "TENSOR.shape"
      ],
      "metadata": {
        "colab": {
          "base_uri": "https://localhost:8080/"
        },
        "id": "2d2xXlemHYAY",
        "outputId": "1424fbe8-1ced-451d-a94d-433b17dea085"
      },
      "execution_count": 247,
      "outputs": [
        {
          "output_type": "execute_result",
          "data": {
            "text/plain": [
              "torch.Size([1, 3, 2])"
            ]
          },
          "metadata": {},
          "execution_count": 247
        }
      ]
    },
    {
      "cell_type": "code",
      "source": [
        "TENSOR[0]"
      ],
      "metadata": {
        "colab": {
          "base_uri": "https://localhost:8080/"
        },
        "id": "pW757oSDHZ9S",
        "outputId": "a7d9320f-5a38-4601-e863-f4cf164358eb"
      },
      "execution_count": 248,
      "outputs": [
        {
          "output_type": "execute_result",
          "data": {
            "text/plain": [
              "tensor([[12, 29],\n",
              "        [34, 90],\n",
              "        [90, 68]])"
            ]
          },
          "metadata": {},
          "execution_count": 248
        }
      ]
    },
    {
      "cell_type": "code",
      "source": [
        "#another example\n",
        "TENSOR = torch.tensor([[[[1,2],[2,9]]]])\n",
        "TENSOR.ndim\n"
      ],
      "metadata": {
        "colab": {
          "base_uri": "https://localhost:8080/"
        },
        "id": "8G6bpFLFHrzt",
        "outputId": "fae673f8-0322-49da-c6ad-9762b1730809"
      },
      "execution_count": 249,
      "outputs": [
        {
          "output_type": "execute_result",
          "data": {
            "text/plain": [
              "4"
            ]
          },
          "metadata": {},
          "execution_count": 249
        }
      ]
    },
    {
      "cell_type": "code",
      "source": [
        "TENSOR.shape"
      ],
      "metadata": {
        "colab": {
          "base_uri": "https://localhost:8080/"
        },
        "id": "0yTUPgBaIDpb",
        "outputId": "76cea413-74b9-4b76-809f-74ff80963586"
      },
      "execution_count": 250,
      "outputs": [
        {
          "output_type": "execute_result",
          "data": {
            "text/plain": [
              "torch.Size([1, 1, 2, 2])"
            ]
          },
          "metadata": {},
          "execution_count": 250
        }
      ]
    },
    {
      "cell_type": "code",
      "source": [
        "TENSOR[0]"
      ],
      "metadata": {
        "colab": {
          "base_uri": "https://localhost:8080/"
        },
        "id": "cpDoqHasIIpj",
        "outputId": "c393189e-f744-4feb-f95e-993ad972f494"
      },
      "execution_count": 251,
      "outputs": [
        {
          "output_type": "execute_result",
          "data": {
            "text/plain": [
              "tensor([[[1, 2],\n",
              "         [2, 9]]])"
            ]
          },
          "metadata": {},
          "execution_count": 251
        }
      ]
    },
    {
      "cell_type": "markdown",
      "source": [
        "**Random** **tensor**\n",
        "why we need to create random tensors?\n",
        "- Ramdom tensors are very important as many neaural networks uses a full of random numbers in the tensors to get trained at first and then adjust them and update those numbers\n",
        "\n",
        "`\n",
        "Start with random numbers -> look at data -> update random numbers -> look at the data -> update the random numbers\n",
        "`"
      ],
      "metadata": {
        "id": "buCNW2AXmvxm"
      }
    },
    {
      "cell_type": "code",
      "source": [
        "#create a random tensor of shape or size(2,4)\n",
        "random_tensor=torch.rand(1,2,4)\n",
        "random_tensor\n",
        "#number of complete outside bracket inside the bracket shows the dimension"
      ],
      "metadata": {
        "colab": {
          "base_uri": "https://localhost:8080/"
        },
        "id": "Pbm9I4xKm0K-",
        "outputId": "6549a7ff-8da9-4386-8eda-35d82f1d5feb"
      },
      "execution_count": 252,
      "outputs": [
        {
          "output_type": "execute_result",
          "data": {
            "text/plain": [
              "tensor([[[0.4150, 0.2522, 0.8597, 0.4908],\n",
              "         [0.7847, 0.1730, 0.0442, 0.0467]]])"
            ]
          },
          "metadata": {},
          "execution_count": 252
        }
      ]
    },
    {
      "cell_type": "code",
      "source": [
        "#almost any data can be converted to tensors\n",
        "#create a random tensor with the same shape to an image tensor\n",
        "\n",
        "random_image_size_tensor = torch.rand(size=(3,244,244)) # color chennel, height , width\n",
        "random_image_size_tensor.shape, random_image_size_tensor.ndim\n"
      ],
      "metadata": {
        "colab": {
          "base_uri": "https://localhost:8080/"
        },
        "id": "J08ZRqChp57_",
        "outputId": "7cce02bb-2672-482d-b8eb-de2b21d10b5b"
      },
      "execution_count": 253,
      "outputs": [
        {
          "output_type": "execute_result",
          "data": {
            "text/plain": [
              "(torch.Size([3, 244, 244]), 3)"
            ]
          },
          "metadata": {},
          "execution_count": 253
        }
      ]
    },
    {
      "cell_type": "code",
      "source": [
        "random_image_size_tensor.dtype\n",
        "#by default all the tensors datatype is float unless explicitly changed."
      ],
      "metadata": {
        "colab": {
          "base_uri": "https://localhost:8080/"
        },
        "id": "PIDzlU_oz0GN",
        "outputId": "aa3622f5-a069-45b7-9e8c-d1213eca5b37"
      },
      "execution_count": 254,
      "outputs": [
        {
          "output_type": "execute_result",
          "data": {
            "text/plain": [
              "torch.float32"
            ]
          },
          "metadata": {},
          "execution_count": 254
        }
      ]
    },
    {
      "cell_type": "markdown",
      "source": [
        "**zeros tensors**"
      ],
      "metadata": {
        "id": "wjXjpED92eEj"
      }
    },
    {
      "cell_type": "code",
      "source": [
        "zeroes = torch.zeros(2,3)\n",
        "zeroes"
      ],
      "metadata": {
        "colab": {
          "base_uri": "https://localhost:8080/"
        },
        "id": "Lhv-gNf_2juu",
        "outputId": "916281d5-3ce9-401c-f24e-42bab0d0ca99"
      },
      "execution_count": 255,
      "outputs": [
        {
          "output_type": "execute_result",
          "data": {
            "text/plain": [
              "tensor([[0., 0., 0.],\n",
              "        [0., 0., 0.]])"
            ]
          },
          "metadata": {},
          "execution_count": 255
        }
      ]
    },
    {
      "cell_type": "code",
      "source": [
        "zeroes_tensors = torch.zeros(2,2,3)\n",
        "zeroes_tensors.dtype , zeroes.ndim"
      ],
      "metadata": {
        "colab": {
          "base_uri": "https://localhost:8080/"
        },
        "id": "OjbYMOyo2_de",
        "outputId": "0d26e1e0-d961-4175-95a8-6c948eb52d25"
      },
      "execution_count": 256,
      "outputs": [
        {
          "output_type": "execute_result",
          "data": {
            "text/plain": [
              "(torch.float32, 2)"
            ]
          },
          "metadata": {},
          "execution_count": 256
        }
      ]
    },
    {
      "cell_type": "code",
      "source": [
        "ones_tensors = torch.ones(2,5)\n",
        "ones_tensors"
      ],
      "metadata": {
        "colab": {
          "base_uri": "https://localhost:8080/"
        },
        "id": "HKJbdI1q3PBK",
        "outputId": "e71eba58-6445-4a00-f17d-4b84c38837b6"
      },
      "execution_count": 257,
      "outputs": [
        {
          "output_type": "execute_result",
          "data": {
            "text/plain": [
              "tensor([[1., 1., 1., 1., 1.],\n",
              "        [1., 1., 1., 1., 1.]])"
            ]
          },
          "metadata": {},
          "execution_count": 257
        }
      ]
    },
    {
      "cell_type": "markdown",
      "source": [
        "## Creating a range of tensors\n",
        "**arange()**"
      ],
      "metadata": {
        "id": "ZZdwCQ-f2INI"
      }
    },
    {
      "cell_type": "code",
      "source": [
        "one_to_ten = torch.arange(1,10)\n",
        "one_to_ten"
      ],
      "metadata": {
        "colab": {
          "base_uri": "https://localhost:8080/"
        },
        "id": "N6VE-Khi08vD",
        "outputId": "8e7db7ab-d9b7-4b47-c019-a4cd13b76c5d"
      },
      "execution_count": 258,
      "outputs": [
        {
          "output_type": "execute_result",
          "data": {
            "text/plain": [
              "tensor([1, 2, 3, 4, 5, 6, 7, 8, 9])"
            ]
          },
          "metadata": {},
          "execution_count": 258
        }
      ]
    },
    {
      "cell_type": "code",
      "source": [
        "one_to_ten.ndim\n"
      ],
      "metadata": {
        "colab": {
          "base_uri": "https://localhost:8080/"
        },
        "id": "JvtPBTCy4CoX",
        "outputId": "f4894c29-08ea-4543-8517-f79a4cdf745c"
      },
      "execution_count": 259,
      "outputs": [
        {
          "output_type": "execute_result",
          "data": {
            "text/plain": [
              "1"
            ]
          },
          "metadata": {},
          "execution_count": 259
        }
      ]
    },
    {
      "cell_type": "code",
      "source": [
        "random_range=torch.arange(start=10,end=1000,step=100)\n",
        "random_range"
      ],
      "metadata": {
        "colab": {
          "base_uri": "https://localhost:8080/"
        },
        "id": "hTmZyLSV4Pyw",
        "outputId": "5107ce4f-02fe-4bad-b832-c03a47b29e53"
      },
      "execution_count": 260,
      "outputs": [
        {
          "output_type": "execute_result",
          "data": {
            "text/plain": [
              "tensor([ 10, 110, 210, 310, 410, 510, 610, 710, 810, 910])"
            ]
          },
          "metadata": {},
          "execution_count": 260
        }
      ]
    },
    {
      "cell_type": "markdown",
      "source": [
        "**Tensors-like** :\n",
        " - when you want to create a tensor without explicitly defining its shape .then tensor-like method is used . Its like create a tensor of shape of some input tensor\n"
      ],
      "metadata": {
        "id": "VNEQrNQW4jvT"
      }
    },
    {
      "cell_type": "code",
      "source": [
        "one_to_ten.shape"
      ],
      "metadata": {
        "colab": {
          "base_uri": "https://localhost:8080/"
        },
        "id": "b--T2E-H500p",
        "outputId": "89b4d468-f3bc-46a1-fac0-2fe63956a5b6"
      },
      "execution_count": 261,
      "outputs": [
        {
          "output_type": "execute_result",
          "data": {
            "text/plain": [
              "torch.Size([9])"
            ]
          },
          "metadata": {},
          "execution_count": 261
        }
      ]
    },
    {
      "cell_type": "code",
      "source": [
        "\n",
        "ten_zeros = torch.zeros_like(input=one_to_ten)\n",
        "ten_zeros.shape"
      ],
      "metadata": {
        "colab": {
          "base_uri": "https://localhost:8080/"
        },
        "id": "7YxxLw3J5Ezh",
        "outputId": "0b76da84-5b2b-483d-ac90-4845ec9b2075"
      },
      "execution_count": 262,
      "outputs": [
        {
          "output_type": "execute_result",
          "data": {
            "text/plain": [
              "torch.Size([9])"
            ]
          },
          "metadata": {},
          "execution_count": 262
        }
      ]
    },
    {
      "cell_type": "code",
      "source": [
        "ten_ones = torch.ones_like(input=one_to_ten)\n",
        "ten_ones"
      ],
      "metadata": {
        "colab": {
          "base_uri": "https://localhost:8080/"
        },
        "id": "UauwZFg3EeuY",
        "outputId": "111fd204-eb1d-4281-96ce-5e64f7d606a4"
      },
      "execution_count": 263,
      "outputs": [
        {
          "output_type": "execute_result",
          "data": {
            "text/plain": [
              "tensor([1, 1, 1, 1, 1, 1, 1, 1, 1])"
            ]
          },
          "metadata": {},
          "execution_count": 263
        }
      ]
    },
    {
      "cell_type": "markdown",
      "source": [
        "## Tensor datatypes\n",
        "\n",
        "Three types of error we mostly encounter when dealing with the data type of the tensors:\n",
        "\n",
        "- tensors datatype is not right\n",
        "- tensors shape is not right\n",
        "- the device on which tensors are running is not right\n",
        ""
      ],
      "metadata": {
        "id": "mR-JLBv-Fn-V"
      }
    },
    {
      "cell_type": "code",
      "source": [
        "float_32_tensor = torch.tensor([2.0,7.0,9.0],\n",
        "                               dtype=None, #what datatype our tensor do have\n",
        "                               device=None, #what device our tensor will run on\n",
        "                               requires_grad=False #whether or not tensor will track the gradients\n",
        "                               )\n",
        "float_32_tensor.dtype\n"
      ],
      "metadata": {
        "colab": {
          "base_uri": "https://localhost:8080/"
        },
        "id": "BaiC8qGrEul_",
        "outputId": "046d4b90-1a09-402c-8d9b-5883a5a6e922"
      },
      "execution_count": 264,
      "outputs": [
        {
          "output_type": "execute_result",
          "data": {
            "text/plain": [
              "torch.float32"
            ]
          },
          "metadata": {},
          "execution_count": 264
        }
      ]
    },
    {
      "cell_type": "code",
      "source": [
        "# torch.float32 => full precision\n",
        "# torch.float16 => half precision\n",
        "# torch.float64 => double precision\n",
        "#we can convert 32 bit to 16 bit by this , making them fast\n",
        "\n",
        "\n",
        "float_16_tensor = float_32_tensor.type(torch.half)\n",
        "float_16_tensor"
      ],
      "metadata": {
        "colab": {
          "base_uri": "https://localhost:8080/"
        },
        "id": "c7Lu0aGIGDwQ",
        "outputId": "f53f9fdb-565c-4543-fe50-3ed5dd9e849b"
      },
      "execution_count": 265,
      "outputs": [
        {
          "output_type": "execute_result",
          "data": {
            "text/plain": [
              "tensor([2., 7., 9.], dtype=torch.float16)"
            ]
          },
          "metadata": {},
          "execution_count": 265
        }
      ]
    },
    {
      "cell_type": "markdown",
      "source": [
        "**Checking compatibility of tensors by adding or multiplying different dtypes tensors**"
      ],
      "metadata": {
        "id": "Uan2unDPJe9P"
      }
    },
    {
      "cell_type": "code",
      "source": [
        "#multiplying 16 bits tensor with 32 bits tensor\n",
        "\n",
        "float_16_tensor * float_32_tensor"
      ],
      "metadata": {
        "colab": {
          "base_uri": "https://localhost:8080/"
        },
        "id": "rvIsvm11Jqg1",
        "outputId": "b6e9f853-3785-434b-8502-a235adb2cefd"
      },
      "execution_count": 266,
      "outputs": [
        {
          "output_type": "execute_result",
          "data": {
            "text/plain": [
              "tensor([ 4., 49., 81.])"
            ]
          },
          "metadata": {},
          "execution_count": 266
        }
      ]
    },
    {
      "cell_type": "code",
      "source": [
        "#Multiplying 32 bits int tensor with 32 bits float TensorSequenceType\n",
        "\n",
        "#firt creating 32bits integer tensor\n",
        "int_32_tensor = torch.tensor([2,9,7],\n",
        "                             dtype = torch.int32)\n",
        "int_32_tensor.dtype\n",
        "\n",
        "int_32_tensor * float_32_tensor\n"
      ],
      "metadata": {
        "colab": {
          "base_uri": "https://localhost:8080/"
        },
        "id": "sCygx_QxK_eK",
        "outputId": "db441d99-7810-46d6-e2d0-d78139e2158e"
      },
      "execution_count": 267,
      "outputs": [
        {
          "output_type": "execute_result",
          "data": {
            "text/plain": [
              "tensor([ 4., 63., 63.])"
            ]
          },
          "metadata": {},
          "execution_count": 267
        }
      ]
    },
    {
      "cell_type": "code",
      "source": [
        "#Multiplying long tensor with 32 bits float Tensor\n",
        "\n",
        "#firt creating 32bits integer tensor\n",
        "int_32_tensor = torch.tensor([2,9,7],\n",
        "                             dtype = torch.long)\n",
        "int_32_tensor.dtype\n",
        "\n",
        "int_32_tensor * float_32_tensor\n"
      ],
      "metadata": {
        "colab": {
          "base_uri": "https://localhost:8080/"
        },
        "id": "RWQ_ybgOLPQ0",
        "outputId": "5b140ea6-9973-43c1-d0dd-7885ca89cbd1"
      },
      "execution_count": 268,
      "outputs": [
        {
          "output_type": "execute_result",
          "data": {
            "text/plain": [
              "tensor([ 4., 63., 63.])"
            ]
          },
          "metadata": {},
          "execution_count": 268
        }
      ]
    },
    {
      "cell_type": "markdown",
      "source": [
        "**Tensors Attribute**:\n",
        " - for getting information from tensors\n",
        "  - dtype\n",
        "  - shape\n",
        "  - device"
      ],
      "metadata": {
        "id": "e11uNyEBM2Zm"
      }
    },
    {
      "cell_type": "code",
      "source": [
        "random_tensor = torch.rand(2,3)\n",
        "random_tensor"
      ],
      "metadata": {
        "colab": {
          "base_uri": "https://localhost:8080/"
        },
        "id": "HhwC1isnMoi5",
        "outputId": "a08966d3-de0b-4cca-ca71-10506a26c798"
      },
      "execution_count": 269,
      "outputs": [
        {
          "output_type": "execute_result",
          "data": {
            "text/plain": [
              "tensor([[0.1764, 0.1032, 0.4936],\n",
              "        [0.7317, 0.0098, 0.3562]])"
            ]
          },
          "metadata": {},
          "execution_count": 269
        }
      ]
    },
    {
      "cell_type": "code",
      "source": [
        "#getting information about the tensors\n",
        "\n",
        "print(random_tensor)\n",
        "print(f\"shape of random_tensor = {random_tensor.shape}\")\n",
        "print(f\"device on which random_tensor is reated = {random_tensor.device}\")\n",
        "print(f\"datatype of the randam_tensor = {random_tensor.dtype}\")"
      ],
      "metadata": {
        "colab": {
          "base_uri": "https://localhost:8080/"
        },
        "id": "wlKTH-OtNNHF",
        "outputId": "3df4b661-66ce-4f5a-96c8-2c6b08ed1ce8"
      },
      "execution_count": 270,
      "outputs": [
        {
          "output_type": "stream",
          "name": "stdout",
          "text": [
            "tensor([[0.1764, 0.1032, 0.4936],\n",
            "        [0.7317, 0.0098, 0.3562]])\n",
            "shape of random_tensor = torch.Size([2, 3])\n",
            "device on which random_tensor is reated = cpu\n",
            "datatype of the randam_tensor = torch.float32\n"
          ]
        }
      ]
    },
    {
      "cell_type": "markdown",
      "source": [
        "# Tensor Operations: Manipulating tensors\n",
        "Tensor operations Include:\n",
        "- Addition\n",
        "- Subtraction\n",
        "- Multiplication(element-wise)\n",
        "- Division\n",
        "- Matrix Multiplication"
      ],
      "metadata": {
        "id": "iOb_Q5-eNnZV"
      }
    },
    {
      "cell_type": "code",
      "source": [
        "general_tensor = torch.tensor([2,5,10])\n",
        "general_tensor + 2\n",
        "#alternative method\n",
        "#torch.add(general_tensor,2)"
      ],
      "metadata": {
        "colab": {
          "base_uri": "https://localhost:8080/"
        },
        "id": "v7wZ1hcvUp9p",
        "outputId": "d707f3c9-61a1-4e50-d234-d042dc18dd53"
      },
      "execution_count": 230,
      "outputs": [
        {
          "output_type": "execute_result",
          "data": {
            "text/plain": [
              "tensor([ 4,  7, 12])"
            ]
          },
          "metadata": {},
          "execution_count": 230
        }
      ]
    },
    {
      "cell_type": "code",
      "source": [
        "general_tensor * 10\n",
        "#alternative method using built in function\n",
        "#torch.mul(general_tensor ,10)"
      ],
      "metadata": {
        "colab": {
          "base_uri": "https://localhost:8080/"
        },
        "id": "94FiOwOuVQ74",
        "outputId": "b4d9928b-7fc0-4693-c196-1a479cbb2d36"
      },
      "execution_count": 271,
      "outputs": [
        {
          "output_type": "execute_result",
          "data": {
            "text/plain": [
              "tensor([ 20,  50, 100])"
            ]
          },
          "metadata": {},
          "execution_count": 271
        }
      ]
    },
    {
      "cell_type": "code",
      "source": [
        "general_tensor - 10\n",
        "#alternative method using built in method\n",
        "torch.sub(general_tensor,10)\n"
      ],
      "metadata": {
        "colab": {
          "base_uri": "https://localhost:8080/"
        },
        "id": "PcOPzTV-VYWH",
        "outputId": "b666e73f-5fe1-40e1-ffd9-19111c32939c"
      },
      "execution_count": 272,
      "outputs": [
        {
          "output_type": "execute_result",
          "data": {
            "text/plain": [
              "tensor([-8, -5,  0])"
            ]
          },
          "metadata": {},
          "execution_count": 272
        }
      ]
    },
    {
      "cell_type": "markdown",
      "source": [
        "**Matrix** **Multiplication**\n",
        "\n",
        "There are two ways of multiplication in neural networks or deep learning\n",
        "\n",
        "- Element wise multiplication\n",
        "- Matrix Multiplication(dot product)"
      ],
      "metadata": {
        "id": "TBQriT-MVdCU"
      }
    },
    {
      "cell_type": "code",
      "source": [
        "general_tensor"
      ],
      "metadata": {
        "id": "sqK7ioEiXSjM",
        "outputId": "28743ea3-200b-42e7-bf9a-b568771b6535",
        "colab": {
          "base_uri": "https://localhost:8080/"
        }
      },
      "execution_count": 273,
      "outputs": [
        {
          "output_type": "execute_result",
          "data": {
            "text/plain": [
              "tensor([ 2,  5, 10])"
            ]
          },
          "metadata": {},
          "execution_count": 273
        }
      ]
    },
    {
      "cell_type": "code",
      "source": [
        "#element wise multiplication\n",
        "print(general_tensor ,\"*\",general_tensor)\n",
        "print(general_tensor * general_tensor)"
      ],
      "metadata": {
        "id": "dCKPmgLpX-pz",
        "outputId": "5ea38c3b-ca5c-4501-e13d-d7ad8565c36a",
        "colab": {
          "base_uri": "https://localhost:8080/"
        }
      },
      "execution_count": 282,
      "outputs": [
        {
          "output_type": "stream",
          "name": "stdout",
          "text": [
            "tensor([ 2,  5, 10]) * tensor([ 2,  5, 10])\n",
            "tensor([  4,  25, 100])\n"
          ]
        }
      ]
    },
    {
      "cell_type": "code",
      "source": [
        "#matrix multipliaction\n",
        "torch.matmul(general_tensor,general_tensor)"
      ],
      "metadata": {
        "id": "g8t_bBHKYH3J",
        "outputId": "86b23112-063d-42f6-bdd6-77d20718ce57",
        "colab": {
          "base_uri": "https://localhost:8080/"
        }
      },
      "execution_count": 276,
      "outputs": [
        {
          "output_type": "execute_result",
          "data": {
            "text/plain": [
              "tensor(129)"
            ]
          },
          "metadata": {},
          "execution_count": 276
        }
      ]
    },
    {
      "cell_type": "code",
      "source": [
        "#manual matrix multiplication\n",
        "#2*2 +5*5 + 10*10\n",
        "%%time\n",
        "value=0\n",
        "for i in range(len(general_tensor)):\n",
        "  value = value + general_tensor[i] * general_tensor[i]\n",
        "print(value)"
      ],
      "metadata": {
        "id": "5RosgbGeYo-h",
        "outputId": "fef5764e-95b0-42bf-fee9-1b58639ec739",
        "colab": {
          "base_uri": "https://localhost:8080/"
        }
      },
      "execution_count": 287,
      "outputs": [
        {
          "output_type": "stream",
          "name": "stdout",
          "text": [
            "tensor(129)\n",
            "CPU times: user 1.44 ms, sys: 31 µs, total: 1.48 ms\n",
            "Wall time: 1.36 ms\n"
          ]
        }
      ]
    },
    {
      "cell_type": "code",
      "source": [
        "%%time\n",
        "#general_tensor @ general_tensor\n",
        "torch.matmul(general_tensor , general_tensor)"
      ],
      "metadata": {
        "id": "7ncUeRnuYx26",
        "outputId": "6c9a6d30-9ccd-403c-b48a-8ba23782509e",
        "colab": {
          "base_uri": "https://localhost:8080/"
        }
      },
      "execution_count": 288,
      "outputs": [
        {
          "output_type": "stream",
          "name": "stdout",
          "text": [
            "CPU times: user 0 ns, sys: 889 µs, total: 889 µs\n",
            "Wall time: 588 µs\n"
          ]
        },
        {
          "output_type": "execute_result",
          "data": {
            "text/plain": [
              "tensor(129)"
            ]
          },
          "metadata": {},
          "execution_count": 288
        }
      ]
    },
    {
      "cell_type": "markdown",
      "source": [
        "**note : built in torch methods are fast and efficient**"
      ],
      "metadata": {
        "id": "a1XRgXRqbOuX"
      }
    },
    {
      "cell_type": "code",
      "source": [],
      "metadata": {
        "id": "xa5u_8D3cMGc"
      },
      "execution_count": null,
      "outputs": []
    },
    {
      "cell_type": "markdown",
      "source": [
        "The most common error in the tensor multiplication is the shape error\n",
        " - for matrix multiplication:\n",
        "  - the num of columns in first matrix must be equal to the number of rows in the second matrix\n",
        "  - i.e inner dimensions must be equal\n",
        "  - (2,3) @ (2,3) won't work\n",
        "  - (3,2) @ (2,3) will work\n",
        "  - (3,4) @ (4,3) => (3,3)"
      ],
      "metadata": {
        "id": "0x4DBSaebWOX"
      }
    },
    {
      "cell_type": "code",
      "source": [
        "torch.matmul(torch.rand(3,4) , torch.rand(4,3))"
      ],
      "metadata": {
        "id": "bOs0QWeAcdvf",
        "outputId": "1f2338b7-635c-4f08-d200-d80cdab5c4b0",
        "colab": {
          "base_uri": "https://localhost:8080/"
        }
      },
      "execution_count": 300,
      "outputs": [
        {
          "output_type": "execute_result",
          "data": {
            "text/plain": [
              "tensor([[2.0630, 1.7494, 1.9401],\n",
              "        [2.0859, 1.7451, 1.9429],\n",
              "        [0.9717, 0.7484, 0.9338]])"
            ]
          },
          "metadata": {},
          "execution_count": 300
        }
      ]
    },
    {
      "cell_type": "markdown",
      "source": [
        "**How to deal with shape errors in matrix multiplication**\n",
        " - take the transpose of tge any of the matrix\n",
        " - transpose means changing the axis . i.e changing rows into coulmnn or coulmns into rowns"
      ],
      "metadata": {
        "id": "LTf-OVOJf9KX"
      }
    },
    {
      "cell_type": "code",
      "source": [
        "tensor_A = torch.tensor([[1,5],[3,9],[8,0]])\n",
        "tensor_A.shape"
      ],
      "metadata": {
        "id": "E0ssIH_qgYLx",
        "outputId": "d925336f-bb8f-4a72-c6d3-67226726d8fc",
        "colab": {
          "base_uri": "https://localhost:8080/"
        }
      },
      "execution_count": 301,
      "outputs": [
        {
          "output_type": "execute_result",
          "data": {
            "text/plain": [
              "torch.Size([3, 2])"
            ]
          },
          "metadata": {},
          "execution_count": 301
        }
      ]
    },
    {
      "cell_type": "code",
      "source": [
        "tensor_B = torch.tensor([[3,9],[9,7],[5,8]])\n",
        "tensor_B.shape"
      ],
      "metadata": {
        "id": "ULioU2-mgnTl",
        "outputId": "94e17a9b-eb8a-44ad-f4e0-274f32cc747b",
        "colab": {
          "base_uri": "https://localhost:8080/"
        }
      },
      "execution_count": 302,
      "outputs": [
        {
          "output_type": "execute_result",
          "data": {
            "text/plain": [
              "torch.Size([3, 2])"
            ]
          },
          "metadata": {},
          "execution_count": 302
        }
      ]
    },
    {
      "cell_type": "code",
      "source": [
        "#as inner dimensions are not equaal , it will throw an error on running\n",
        "\n",
        "torch.mm(tensor_A,tensor_B)"
      ],
      "metadata": {
        "id": "oSkDn4vYgxrW",
        "outputId": "c1172fda-4f98-4212-af96-7e1494a0f21f",
        "colab": {
          "base_uri": "https://localhost:8080/",
          "height": 176
        }
      },
      "execution_count": 303,
      "outputs": [
        {
          "output_type": "error",
          "ename": "RuntimeError",
          "evalue": "mat1 and mat2 shapes cannot be multiplied (3x2 and 3x2)",
          "traceback": [
            "\u001b[0;31m---------------------------------------------------------------------------\u001b[0m",
            "\u001b[0;31mRuntimeError\u001b[0m                              Traceback (most recent call last)",
            "\u001b[0;32m/tmp/ipython-input-303-2123373279.py\u001b[0m in \u001b[0;36m<cell line: 0>\u001b[0;34m()\u001b[0m\n\u001b[1;32m      1\u001b[0m \u001b[0;31m#as inner dimensions are not equaal , it will throw an error on running\u001b[0m\u001b[0;34m\u001b[0m\u001b[0;34m\u001b[0m\u001b[0m\n\u001b[1;32m      2\u001b[0m \u001b[0;34m\u001b[0m\u001b[0m\n\u001b[0;32m----> 3\u001b[0;31m \u001b[0mtorch\u001b[0m\u001b[0;34m.\u001b[0m\u001b[0mmm\u001b[0m\u001b[0;34m(\u001b[0m\u001b[0mtensor_A\u001b[0m\u001b[0;34m,\u001b[0m\u001b[0mtensor_B\u001b[0m\u001b[0;34m)\u001b[0m\u001b[0;34m\u001b[0m\u001b[0;34m\u001b[0m\u001b[0m\n\u001b[0m",
            "\u001b[0;31mRuntimeError\u001b[0m: mat1 and mat2 shapes cannot be multiplied (3x2 and 3x2)"
          ]
        }
      ]
    },
    {
      "cell_type": "code",
      "source": [
        "#in order to make the shape compatible , take the transpose of any tensor\n",
        "Transpose_tensor_A= tensor_A.T  #(2,3)"
      ],
      "metadata": {
        "id": "79fYFmBGhAqF"
      },
      "execution_count": 309,
      "outputs": []
    },
    {
      "cell_type": "code",
      "source": [
        "torch.matmul(Transpose_tensor_A, tensor_B)"
      ],
      "metadata": {
        "id": "rWp8YQPPg9QT",
        "outputId": "40cbe466-f6c9-45d3-a0cf-5c0bcac2d01f",
        "colab": {
          "base_uri": "https://localhost:8080/"
        }
      },
      "execution_count": 310,
      "outputs": [
        {
          "output_type": "execute_result",
          "data": {
            "text/plain": [
              "tensor([[ 70,  94],\n",
              "        [ 96, 108]])"
            ]
          },
          "metadata": {},
          "execution_count": 310
        }
      ]
    },
    {
      "cell_type": "code",
      "source": [
        "print(f\"tensor_A.shape:{tensor_A.shape} and tensor_B.shape: {tensor_B.shape}\")\n",
        "print(\"inner dimensions are not equal , thus mulptication is not possible\")\n",
        "print(f\"tensor_A.shape :{tensor_A.shape} and tensor_B.transpose.shape: {tensor_B.T.shape}\")\n",
        "print(\"inner dimensions are equal , thus mulptication is possible\")\n",
        "print(f\"The output matrix of outer dimension shape is after matrix multipliaction = {torch.mm(tensor_A,tensor_B.T)}\")"
      ],
      "metadata": {
        "id": "R4MUJTTshNhI",
        "outputId": "ab729cb9-b096-400d-8c09-ed02dab20809",
        "colab": {
          "base_uri": "https://localhost:8080/"
        }
      },
      "execution_count": 317,
      "outputs": [
        {
          "output_type": "stream",
          "name": "stdout",
          "text": [
            "tensor_A.shape:torch.Size([3, 2]) and tensor_B.shape: torch.Size([3, 2])\n",
            "inner dimensions are not equal , thus mulptication is not possible\n",
            "tensor_A.shape :torch.Size([3, 2]) and tensor_B.transpose.shape: torch.Size([2, 3])\n",
            "inner dimensions are equal , thus mulptication is possible\n",
            "The output matrix of outer dimension shape is after matrix multipliaction = tensor([[48, 44, 45],\n",
            "        [90, 90, 87],\n",
            "        [24, 72, 40]])\n"
          ]
        }
      ]
    },
    {
      "cell_type": "markdown",
      "source": [
        "## Tensor Aggregation\n",
        "- finding the min , max , mean, sum,etc"
      ],
      "metadata": {
        "id": "pYzdx1ojigim"
      }
    },
    {
      "cell_type": "code",
      "source": [],
      "metadata": {
        "id": "km5Hsllhju2K"
      },
      "execution_count": null,
      "outputs": []
    }
  ]
}