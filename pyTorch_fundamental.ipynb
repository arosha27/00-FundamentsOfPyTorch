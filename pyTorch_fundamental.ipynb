{
  "nbformat": 4,
  "nbformat_minor": 0,
  "metadata": {
    "colab": {
      "provenance": [],
      "authorship_tag": "ABX9TyNtRwzOe+rdS6azaeYlZOuF",
      "include_colab_link": true
    },
    "kernelspec": {
      "name": "python3",
      "display_name": "Python 3"
    },
    "language_info": {
      "name": "python"
    }
  },
  "cells": [
    {
      "cell_type": "markdown",
      "metadata": {
        "id": "view-in-github",
        "colab_type": "text"
      },
      "source": [
        "<a href=\"https://colab.research.google.com/github/arosha27/00-FundamentsOfPyTorch/blob/main/pyTorch_fundamental.ipynb\" target=\"_parent\"><img src=\"https://colab.research.google.com/assets/colab-badge.svg\" alt=\"Open In Colab\"/></a>"
      ]
    },
    {
      "cell_type": "markdown",
      "source": [
        "## 00. pyTorch Fundamentals\n",
        "Resource notebook : https://www.learnpytorch.io/00_pytorch_fundamentals/\n",
        "discussions : https://github.com/mrdbourke/pytorch-deep-learning/discussions"
      ],
      "metadata": {
        "id": "0Ydl0LWbuxJG"
      }
    },
    {
      "cell_type": "code",
      "source": [
        "import torch\n",
        "import pandas as pd\n",
        "import numpy as np\n",
        "import matplotlib.pyplot as plt\n",
        "print(torch.__version__)"
      ],
      "metadata": {
        "colab": {
          "base_uri": "https://localhost:8080/"
        },
        "id": "Z3E732c0v_pU",
        "outputId": "c1620a0e-3f96-4e9a-8ab6-d5bc182f1952"
      },
      "execution_count": 1,
      "outputs": [
        {
          "output_type": "stream",
          "name": "stdout",
          "text": [
            "2.6.0+cu124\n"
          ]
        }
      ]
    },
    {
      "cell_type": "markdown",
      "source": [
        "# Introduction to Tensors\n",
        "- Creating tensors (Basic building block of data representation i.e Tensors in deep learning)"
      ],
      "metadata": {
        "id": "4UJ9dc6yyQ_k"
      }
    },
    {
      "cell_type": "markdown",
      "source": [
        "**Scalar**"
      ],
      "metadata": {
        "id": "glbDrnftF3hJ"
      }
    },
    {
      "cell_type": "code",
      "source": [
        "#scalar\n",
        "scalar = torch.tensor(7)\n",
        "scalar"
      ],
      "metadata": {
        "colab": {
          "base_uri": "https://localhost:8080/"
        },
        "id": "nb-nM52D0MuQ",
        "outputId": "7723fb5a-73cc-4e69-f7b6-53c226532744"
      },
      "execution_count": 2,
      "outputs": [
        {
          "output_type": "execute_result",
          "data": {
            "text/plain": [
              "tensor(7)"
            ]
          },
          "metadata": {},
          "execution_count": 2
        }
      ]
    },
    {
      "cell_type": "code",
      "source": [
        "scalar.ndim"
      ],
      "metadata": {
        "colab": {
          "base_uri": "https://localhost:8080/"
        },
        "id": "K-ybzHzsESdh",
        "outputId": "3c5359f0-8b82-4513-af4d-0dcc3659237d"
      },
      "execution_count": 3,
      "outputs": [
        {
          "output_type": "execute_result",
          "data": {
            "text/plain": [
              "0"
            ]
          },
          "metadata": {},
          "execution_count": 3
        }
      ]
    },
    {
      "cell_type": "code",
      "source": [
        "scalar.shape"
      ],
      "metadata": {
        "colab": {
          "base_uri": "https://localhost:8080/"
        },
        "id": "AHsJis7HEeil",
        "outputId": "cbb28594-c2ee-4135-db1a-266e5b6e3093"
      },
      "execution_count": 4,
      "outputs": [
        {
          "output_type": "execute_result",
          "data": {
            "text/plain": [
              "torch.Size([])"
            ]
          },
          "metadata": {},
          "execution_count": 4
        }
      ]
    },
    {
      "cell_type": "code",
      "source": [
        "scalar.item()"
      ],
      "metadata": {
        "colab": {
          "base_uri": "https://localhost:8080/"
        },
        "id": "3osj6BnfFBpp",
        "outputId": "00011ff5-7e29-4fcc-a3f5-4c97336b2042"
      },
      "execution_count": 5,
      "outputs": [
        {
          "output_type": "execute_result",
          "data": {
            "text/plain": [
              "7"
            ]
          },
          "metadata": {},
          "execution_count": 5
        }
      ]
    },
    {
      "cell_type": "markdown",
      "source": [
        "**vector**"
      ],
      "metadata": {
        "id": "usTVCDq-F9uq"
      }
    },
    {
      "cell_type": "code",
      "source": [
        "#vectors\n",
        "vector = torch.tensor([3,7])\n",
        "vector"
      ],
      "metadata": {
        "colab": {
          "base_uri": "https://localhost:8080/"
        },
        "id": "rF4b9e0tEolf",
        "outputId": "36ba3959-8eac-4050-9952-5be7101dc397"
      },
      "execution_count": 6,
      "outputs": [
        {
          "output_type": "execute_result",
          "data": {
            "text/plain": [
              "tensor([3, 7])"
            ]
          },
          "metadata": {},
          "execution_count": 6
        }
      ]
    },
    {
      "cell_type": "code",
      "source": [
        "vector.ndim"
      ],
      "metadata": {
        "colab": {
          "base_uri": "https://localhost:8080/"
        },
        "id": "8Rpqnpp9EuI-",
        "outputId": "16a40b29-b8fa-4970-a57a-f2d203f8f19b"
      },
      "execution_count": 7,
      "outputs": [
        {
          "output_type": "execute_result",
          "data": {
            "text/plain": [
              "1"
            ]
          },
          "metadata": {},
          "execution_count": 7
        }
      ]
    },
    {
      "cell_type": "code",
      "source": [
        "vector.shape"
      ],
      "metadata": {
        "colab": {
          "base_uri": "https://localhost:8080/"
        },
        "id": "WiXbK1_6Fhzl",
        "outputId": "d59b13f8-a35e-4484-cee4-3bd9ca81d51b"
      },
      "execution_count": 8,
      "outputs": [
        {
          "output_type": "execute_result",
          "data": {
            "text/plain": [
              "torch.Size([2])"
            ]
          },
          "metadata": {},
          "execution_count": 8
        }
      ]
    },
    {
      "cell_type": "code",
      "source": [
        "vector[0]"
      ],
      "metadata": {
        "colab": {
          "base_uri": "https://localhost:8080/"
        },
        "id": "4FqLiVfTFkXL",
        "outputId": "d37464c2-484f-4121-c73d-5f23c603508f"
      },
      "execution_count": 9,
      "outputs": [
        {
          "output_type": "execute_result",
          "data": {
            "text/plain": [
              "tensor(3)"
            ]
          },
          "metadata": {},
          "execution_count": 9
        }
      ]
    },
    {
      "cell_type": "code",
      "source": [
        "vector[1]"
      ],
      "metadata": {
        "colab": {
          "base_uri": "https://localhost:8080/"
        },
        "id": "nWjCf_1mFoXf",
        "outputId": "a20a35cb-3daa-4830-ec8f-f58f64c149cc"
      },
      "execution_count": 10,
      "outputs": [
        {
          "output_type": "execute_result",
          "data": {
            "text/plain": [
              "tensor(7)"
            ]
          },
          "metadata": {},
          "execution_count": 10
        }
      ]
    },
    {
      "cell_type": "markdown",
      "source": [
        "**MATRIX**"
      ],
      "metadata": {
        "id": "r_NC4BwTGHgb"
      }
    },
    {
      "cell_type": "code",
      "source": [
        "MATRIX = torch.tensor([[12,16],\n",
        "                       [15,19],\n",
        "                       [45,90]])\n",
        "MATRIX"
      ],
      "metadata": {
        "colab": {
          "base_uri": "https://localhost:8080/"
        },
        "id": "50o-tDDfGLGp",
        "outputId": "03b2daf1-a122-4345-fb47-5edb0c7e60bc"
      },
      "execution_count": 11,
      "outputs": [
        {
          "output_type": "execute_result",
          "data": {
            "text/plain": [
              "tensor([[12, 16],\n",
              "        [15, 19],\n",
              "        [45, 90]])"
            ]
          },
          "metadata": {},
          "execution_count": 11
        }
      ]
    },
    {
      "cell_type": "code",
      "source": [
        "MATRIX.ndim"
      ],
      "metadata": {
        "colab": {
          "base_uri": "https://localhost:8080/"
        },
        "id": "jCTBAjrDGXy2",
        "outputId": "d9ec0cf0-9466-4499-c0fd-4d8b24c95bf3"
      },
      "execution_count": 12,
      "outputs": [
        {
          "output_type": "execute_result",
          "data": {
            "text/plain": [
              "2"
            ]
          },
          "metadata": {},
          "execution_count": 12
        }
      ]
    },
    {
      "cell_type": "code",
      "source": [
        "MATRIX.shape"
      ],
      "metadata": {
        "colab": {
          "base_uri": "https://localhost:8080/"
        },
        "id": "PfV0MSMFGfIP",
        "outputId": "7d5ee5b3-5049-4247-d9bb-ac6e1708d3fa"
      },
      "execution_count": 13,
      "outputs": [
        {
          "output_type": "execute_result",
          "data": {
            "text/plain": [
              "torch.Size([3, 2])"
            ]
          },
          "metadata": {},
          "execution_count": 13
        }
      ]
    },
    {
      "cell_type": "code",
      "source": [
        "MATRIX[0]"
      ],
      "metadata": {
        "colab": {
          "base_uri": "https://localhost:8080/"
        },
        "id": "ya-2SeQSGj3i",
        "outputId": "2881eed7-136c-4931-bf61-5a5bbd99d312"
      },
      "execution_count": 14,
      "outputs": [
        {
          "output_type": "execute_result",
          "data": {
            "text/plain": [
              "tensor([12, 16])"
            ]
          },
          "metadata": {},
          "execution_count": 14
        }
      ]
    },
    {
      "cell_type": "markdown",
      "source": [
        "**Tensor**"
      ],
      "metadata": {
        "id": "rBrLT7cgHGg1"
      }
    },
    {
      "cell_type": "code",
      "source": [
        "TENSOR = torch.tensor([[[12,29],[34,90],[90,68]]])\n",
        "TENSOR"
      ],
      "metadata": {
        "colab": {
          "base_uri": "https://localhost:8080/"
        },
        "id": "b4svyXXSHKUh",
        "outputId": "a793607b-eb6e-4955-a121-f190507e607e"
      },
      "execution_count": 15,
      "outputs": [
        {
          "output_type": "execute_result",
          "data": {
            "text/plain": [
              "tensor([[[12, 29],\n",
              "         [34, 90],\n",
              "         [90, 68]]])"
            ]
          },
          "metadata": {},
          "execution_count": 15
        }
      ]
    },
    {
      "cell_type": "code",
      "source": [
        "TENSOR.ndim"
      ],
      "metadata": {
        "colab": {
          "base_uri": "https://localhost:8080/"
        },
        "id": "blk5vXOWHSTl",
        "outputId": "ab564f71-3ded-46d8-b668-6a1af2a8f4dd"
      },
      "execution_count": 16,
      "outputs": [
        {
          "output_type": "execute_result",
          "data": {
            "text/plain": [
              "3"
            ]
          },
          "metadata": {},
          "execution_count": 16
        }
      ]
    },
    {
      "cell_type": "code",
      "source": [
        "TENSOR.shape"
      ],
      "metadata": {
        "colab": {
          "base_uri": "https://localhost:8080/"
        },
        "id": "2d2xXlemHYAY",
        "outputId": "a7317b8f-3045-4a21-f0df-755239b64316"
      },
      "execution_count": 17,
      "outputs": [
        {
          "output_type": "execute_result",
          "data": {
            "text/plain": [
              "torch.Size([1, 3, 2])"
            ]
          },
          "metadata": {},
          "execution_count": 17
        }
      ]
    },
    {
      "cell_type": "code",
      "source": [
        "TENSOR[0]"
      ],
      "metadata": {
        "colab": {
          "base_uri": "https://localhost:8080/"
        },
        "id": "pW757oSDHZ9S",
        "outputId": "8d711304-9f90-4258-c8ba-91648fef1f13"
      },
      "execution_count": 18,
      "outputs": [
        {
          "output_type": "execute_result",
          "data": {
            "text/plain": [
              "tensor([[12, 29],\n",
              "        [34, 90],\n",
              "        [90, 68]])"
            ]
          },
          "metadata": {},
          "execution_count": 18
        }
      ]
    },
    {
      "cell_type": "code",
      "source": [
        "#another example\n",
        "TENSOR = torch.tensor([[[[1,2],[2,9]]]])\n",
        "TENSOR.ndim\n"
      ],
      "metadata": {
        "colab": {
          "base_uri": "https://localhost:8080/"
        },
        "id": "8G6bpFLFHrzt",
        "outputId": "59f5675a-8e52-4243-ba00-2f32030897c4"
      },
      "execution_count": 19,
      "outputs": [
        {
          "output_type": "execute_result",
          "data": {
            "text/plain": [
              "4"
            ]
          },
          "metadata": {},
          "execution_count": 19
        }
      ]
    },
    {
      "cell_type": "code",
      "source": [
        "TENSOR.shape"
      ],
      "metadata": {
        "colab": {
          "base_uri": "https://localhost:8080/"
        },
        "id": "0yTUPgBaIDpb",
        "outputId": "bc2c676a-fb49-46cd-e137-abf1edc90111"
      },
      "execution_count": 20,
      "outputs": [
        {
          "output_type": "execute_result",
          "data": {
            "text/plain": [
              "torch.Size([1, 1, 2, 2])"
            ]
          },
          "metadata": {},
          "execution_count": 20
        }
      ]
    },
    {
      "cell_type": "code",
      "source": [
        "TENSOR[0]"
      ],
      "metadata": {
        "colab": {
          "base_uri": "https://localhost:8080/"
        },
        "id": "cpDoqHasIIpj",
        "outputId": "543d39d2-28b7-4e91-c942-6aea07115103"
      },
      "execution_count": 21,
      "outputs": [
        {
          "output_type": "execute_result",
          "data": {
            "text/plain": [
              "tensor([[[1, 2],\n",
              "         [2, 9]]])"
            ]
          },
          "metadata": {},
          "execution_count": 21
        }
      ]
    },
    {
      "cell_type": "markdown",
      "source": [
        "**Random** **tensor**\n",
        "why we need to create random tensors?\n",
        "- Ramdom tensors are very important as many neaural networks uses a full of random numbers in the tensors to get trained at first and then adjust them and update those numbers\n",
        "\n",
        "`\n",
        "Start with random numbers -> look at data -> update random numbers -> look at the data -> update the random numbers\n",
        "`"
      ],
      "metadata": {
        "id": "buCNW2AXmvxm"
      }
    },
    {
      "cell_type": "code",
      "source": [
        "#create a random tensor of shape or size(2,4)\n",
        "random_tensor=torch.rand(1,2,4)\n",
        "random_tensor\n",
        "#number of complete outside bracket inside the bracket shows the dimension"
      ],
      "metadata": {
        "colab": {
          "base_uri": "https://localhost:8080/"
        },
        "id": "Pbm9I4xKm0K-",
        "outputId": "c3c23bfa-9202-43c9-f4e7-63c97940fe64"
      },
      "execution_count": 22,
      "outputs": [
        {
          "output_type": "execute_result",
          "data": {
            "text/plain": [
              "tensor([[[0.8296, 0.5668, 0.0701, 0.8678],\n",
              "         [0.7239, 0.3848, 0.8250, 0.1424]]])"
            ]
          },
          "metadata": {},
          "execution_count": 22
        }
      ]
    },
    {
      "cell_type": "code",
      "source": [
        "#almost any data can be converted to tensors\n",
        "#create a random tensor with the same shape to an image tensor\n",
        "\n",
        "random_image_size_tensor = torch.rand(size=(3,244,244)) # color chennel, height , width\n",
        "random_image_size_tensor.shape, random_image_size_tensor.ndim\n"
      ],
      "metadata": {
        "colab": {
          "base_uri": "https://localhost:8080/"
        },
        "id": "J08ZRqChp57_",
        "outputId": "d225d49b-1a15-46b4-d07e-9f94df3fa4aa"
      },
      "execution_count": 23,
      "outputs": [
        {
          "output_type": "execute_result",
          "data": {
            "text/plain": [
              "(torch.Size([3, 244, 244]), 3)"
            ]
          },
          "metadata": {},
          "execution_count": 23
        }
      ]
    },
    {
      "cell_type": "code",
      "source": [
        "random_image_size_tensor.dtype\n",
        "#by default all the tensors datatype is float unless explicitly changed."
      ],
      "metadata": {
        "colab": {
          "base_uri": "https://localhost:8080/"
        },
        "id": "PIDzlU_oz0GN",
        "outputId": "6a408c43-c36c-42d2-dce8-23ff98e533d5"
      },
      "execution_count": 24,
      "outputs": [
        {
          "output_type": "execute_result",
          "data": {
            "text/plain": [
              "torch.float32"
            ]
          },
          "metadata": {},
          "execution_count": 24
        }
      ]
    },
    {
      "cell_type": "markdown",
      "source": [
        "**zeros tensors**"
      ],
      "metadata": {
        "id": "wjXjpED92eEj"
      }
    },
    {
      "cell_type": "code",
      "source": [
        "zeroes = torch.zeros(2,3)\n",
        "zeroes"
      ],
      "metadata": {
        "colab": {
          "base_uri": "https://localhost:8080/"
        },
        "id": "Lhv-gNf_2juu",
        "outputId": "535931aa-9620-4694-baef-cd0229de7c19"
      },
      "execution_count": 25,
      "outputs": [
        {
          "output_type": "execute_result",
          "data": {
            "text/plain": [
              "tensor([[0., 0., 0.],\n",
              "        [0., 0., 0.]])"
            ]
          },
          "metadata": {},
          "execution_count": 25
        }
      ]
    },
    {
      "cell_type": "code",
      "source": [
        "zeroes_tensors = torch.zeros(2,2,3)\n",
        "zeroes_tensors.dtype , zeroes.ndim"
      ],
      "metadata": {
        "colab": {
          "base_uri": "https://localhost:8080/"
        },
        "id": "OjbYMOyo2_de",
        "outputId": "2ca4a6f9-0c70-4b93-fc4c-d010cef437e8"
      },
      "execution_count": 26,
      "outputs": [
        {
          "output_type": "execute_result",
          "data": {
            "text/plain": [
              "(torch.float32, 2)"
            ]
          },
          "metadata": {},
          "execution_count": 26
        }
      ]
    },
    {
      "cell_type": "code",
      "source": [
        "ones_tensors = torch.ones(2,5)\n",
        "ones_tensors"
      ],
      "metadata": {
        "colab": {
          "base_uri": "https://localhost:8080/"
        },
        "id": "HKJbdI1q3PBK",
        "outputId": "c2f66cde-0b59-4d36-cb05-9b23727747d3"
      },
      "execution_count": 27,
      "outputs": [
        {
          "output_type": "execute_result",
          "data": {
            "text/plain": [
              "tensor([[1., 1., 1., 1., 1.],\n",
              "        [1., 1., 1., 1., 1.]])"
            ]
          },
          "metadata": {},
          "execution_count": 27
        }
      ]
    },
    {
      "cell_type": "markdown",
      "source": [
        "## Creating a range of tensors\n",
        "**arange()**"
      ],
      "metadata": {
        "id": "ZZdwCQ-f2INI"
      }
    },
    {
      "cell_type": "code",
      "source": [
        "one_to_ten = torch.arange(1,10)\n",
        "one_to_ten"
      ],
      "metadata": {
        "colab": {
          "base_uri": "https://localhost:8080/"
        },
        "id": "N6VE-Khi08vD",
        "outputId": "1479781d-90b5-4387-98eb-e785736842e2"
      },
      "execution_count": 28,
      "outputs": [
        {
          "output_type": "execute_result",
          "data": {
            "text/plain": [
              "tensor([1, 2, 3, 4, 5, 6, 7, 8, 9])"
            ]
          },
          "metadata": {},
          "execution_count": 28
        }
      ]
    },
    {
      "cell_type": "code",
      "source": [
        "one_to_ten.ndim\n"
      ],
      "metadata": {
        "colab": {
          "base_uri": "https://localhost:8080/"
        },
        "id": "JvtPBTCy4CoX",
        "outputId": "1018467c-09e4-4bf9-8d06-9656baadb780"
      },
      "execution_count": 29,
      "outputs": [
        {
          "output_type": "execute_result",
          "data": {
            "text/plain": [
              "1"
            ]
          },
          "metadata": {},
          "execution_count": 29
        }
      ]
    },
    {
      "cell_type": "code",
      "source": [
        "random_range=torch.arange(start=10,end=1000,step=100)\n",
        "random_range"
      ],
      "metadata": {
        "colab": {
          "base_uri": "https://localhost:8080/"
        },
        "id": "hTmZyLSV4Pyw",
        "outputId": "ee76fc05-6644-4a39-ec93-f67a39b97e93"
      },
      "execution_count": 30,
      "outputs": [
        {
          "output_type": "execute_result",
          "data": {
            "text/plain": [
              "tensor([ 10, 110, 210, 310, 410, 510, 610, 710, 810, 910])"
            ]
          },
          "metadata": {},
          "execution_count": 30
        }
      ]
    },
    {
      "cell_type": "markdown",
      "source": [
        "**Tensors-like** :\n",
        " - when you want to create a tensor without explicitly defining its shape .then tensor-like method is used . Its like create a tensor of shape of some input tensor\n"
      ],
      "metadata": {
        "id": "VNEQrNQW4jvT"
      }
    },
    {
      "cell_type": "code",
      "source": [
        "one_to_ten.shape"
      ],
      "metadata": {
        "colab": {
          "base_uri": "https://localhost:8080/"
        },
        "id": "b--T2E-H500p",
        "outputId": "03914320-4ee2-4914-be19-ee427aee7aa1"
      },
      "execution_count": 31,
      "outputs": [
        {
          "output_type": "execute_result",
          "data": {
            "text/plain": [
              "torch.Size([9])"
            ]
          },
          "metadata": {},
          "execution_count": 31
        }
      ]
    },
    {
      "cell_type": "code",
      "source": [
        "\n",
        "ten_zeros = torch.zeros_like(input=one_to_ten)\n",
        "ten_zeros.shape"
      ],
      "metadata": {
        "colab": {
          "base_uri": "https://localhost:8080/"
        },
        "id": "7YxxLw3J5Ezh",
        "outputId": "024b0d27-1db5-4d22-e923-8c4c605d9a2d"
      },
      "execution_count": 32,
      "outputs": [
        {
          "output_type": "execute_result",
          "data": {
            "text/plain": [
              "torch.Size([9])"
            ]
          },
          "metadata": {},
          "execution_count": 32
        }
      ]
    },
    {
      "cell_type": "code",
      "source": [
        "ten_ones = torch.ones_like(input=one_to_ten)\n",
        "ten_ones"
      ],
      "metadata": {
        "colab": {
          "base_uri": "https://localhost:8080/"
        },
        "id": "UauwZFg3EeuY",
        "outputId": "b3b27ee1-9f13-4a9a-f6a6-e767c0438d9b"
      },
      "execution_count": 33,
      "outputs": [
        {
          "output_type": "execute_result",
          "data": {
            "text/plain": [
              "tensor([1, 1, 1, 1, 1, 1, 1, 1, 1])"
            ]
          },
          "metadata": {},
          "execution_count": 33
        }
      ]
    },
    {
      "cell_type": "markdown",
      "source": [
        "## Tensor datatypes\n",
        "\n",
        "Three types of error we mostly encounter when dealing with the data type of the tensors:\n",
        "\n",
        "- tensors datatype is not right\n",
        "- tensors shape is not right\n",
        "- the device on which tensors are running is not right\n"
      ],
      "metadata": {
        "id": "mR-JLBv-Fn-V"
      }
    },
    {
      "cell_type": "code",
      "source": [
        "float_32_tensor = torch.tensor([2.0,7.0,9.0],\n",
        "                               dtype=None, #what datatype our tensor do have\n",
        "                               device=None, #what device our tensor will run on\n",
        "                               requires_grad=False #whether or not tensor will track the gradients\n",
        "                               )\n",
        "float_32_tensor.dtype\n"
      ],
      "metadata": {
        "colab": {
          "base_uri": "https://localhost:8080/"
        },
        "id": "BaiC8qGrEul_",
        "outputId": "021c7a15-d048-4755-9f88-9f4e0dd259f2"
      },
      "execution_count": 34,
      "outputs": [
        {
          "output_type": "execute_result",
          "data": {
            "text/plain": [
              "torch.float32"
            ]
          },
          "metadata": {},
          "execution_count": 34
        }
      ]
    },
    {
      "cell_type": "code",
      "source": [
        "# torch.float32 => full precision\n",
        "# torch.float16 => half precision\n",
        "# torch.float64 => double precision\n",
        "#we can convert 32 bit to 16 bit by this , making them fast\n",
        "\n",
        "\n",
        "float_16_tensor = float_32_tensor.type(torch.half)\n",
        "float_16_tensor"
      ],
      "metadata": {
        "colab": {
          "base_uri": "https://localhost:8080/"
        },
        "id": "c7Lu0aGIGDwQ",
        "outputId": "97a12768-3657-4ca3-a074-80257b8d3401"
      },
      "execution_count": 35,
      "outputs": [
        {
          "output_type": "execute_result",
          "data": {
            "text/plain": [
              "tensor([2., 7., 9.], dtype=torch.float16)"
            ]
          },
          "metadata": {},
          "execution_count": 35
        }
      ]
    },
    {
      "cell_type": "markdown",
      "source": [
        "**Checking compatibility of tensors by adding or multiplying different dtypes tensors**"
      ],
      "metadata": {
        "id": "Uan2unDPJe9P"
      }
    },
    {
      "cell_type": "code",
      "source": [
        "#multiplying 16 bits tensor with 32 bits tensor\n",
        "\n",
        "float_16_tensor * float_32_tensor"
      ],
      "metadata": {
        "colab": {
          "base_uri": "https://localhost:8080/"
        },
        "id": "rvIsvm11Jqg1",
        "outputId": "c383317a-371f-414d-8d22-3a97e7cce3b1"
      },
      "execution_count": 36,
      "outputs": [
        {
          "output_type": "execute_result",
          "data": {
            "text/plain": [
              "tensor([ 4., 49., 81.])"
            ]
          },
          "metadata": {},
          "execution_count": 36
        }
      ]
    },
    {
      "cell_type": "code",
      "source": [
        "#Multiplying 32 bits int tensor with 32 bits float TensorSequenceType\n",
        "\n",
        "#firt creating 32bits integer tensor\n",
        "int_32_tensor = torch.tensor([2,9,7],\n",
        "                             dtype = torch.int32)\n",
        "int_32_tensor.dtype\n",
        "\n",
        "int_32_tensor * float_32_tensor\n"
      ],
      "metadata": {
        "colab": {
          "base_uri": "https://localhost:8080/"
        },
        "id": "sCygx_QxK_eK",
        "outputId": "3a71a921-2f4d-481d-b349-3c8deaadc454"
      },
      "execution_count": 37,
      "outputs": [
        {
          "output_type": "execute_result",
          "data": {
            "text/plain": [
              "tensor([ 4., 63., 63.])"
            ]
          },
          "metadata": {},
          "execution_count": 37
        }
      ]
    },
    {
      "cell_type": "code",
      "source": [
        "#Multiplying long tensor with 32 bits float Tensor\n",
        "\n",
        "#firt creating 32bits integer tensor\n",
        "int_32_tensor = torch.tensor([2,9,7],\n",
        "                             dtype = torch.long)\n",
        "int_32_tensor.dtype\n",
        "\n",
        "int_32_tensor * float_32_tensor\n"
      ],
      "metadata": {
        "colab": {
          "base_uri": "https://localhost:8080/"
        },
        "id": "RWQ_ybgOLPQ0",
        "outputId": "7931a7d2-81fd-4930-c754-ce73fbf027ed"
      },
      "execution_count": 38,
      "outputs": [
        {
          "output_type": "execute_result",
          "data": {
            "text/plain": [
              "tensor([ 4., 63., 63.])"
            ]
          },
          "metadata": {},
          "execution_count": 38
        }
      ]
    },
    {
      "cell_type": "markdown",
      "source": [
        "**Tensors Attribute**:\n",
        " - for getting information from tensors\n",
        "  - dtype\n",
        "  - shape\n",
        "  - device"
      ],
      "metadata": {
        "id": "e11uNyEBM2Zm"
      }
    },
    {
      "cell_type": "code",
      "source": [
        "random_tensor = torch.rand(2,3)\n",
        "random_tensor"
      ],
      "metadata": {
        "colab": {
          "base_uri": "https://localhost:8080/"
        },
        "id": "HhwC1isnMoi5",
        "outputId": "085595e7-d990-4963-8873-552550ec0e1d"
      },
      "execution_count": 39,
      "outputs": [
        {
          "output_type": "execute_result",
          "data": {
            "text/plain": [
              "tensor([[0.3301, 0.4369, 0.9177],\n",
              "        [0.7054, 0.9777, 0.4325]])"
            ]
          },
          "metadata": {},
          "execution_count": 39
        }
      ]
    },
    {
      "cell_type": "code",
      "source": [
        "#getting information about the tensors\n",
        "\n",
        "print(random_tensor)\n",
        "print(f\"shape of random_tensor = {random_tensor.shape}\")\n",
        "print(f\"device on which random_tensor is reated = {random_tensor.device}\")\n",
        "print(f\"datatype of the randam_tensor = {random_tensor.dtype}\")"
      ],
      "metadata": {
        "colab": {
          "base_uri": "https://localhost:8080/"
        },
        "id": "wlKTH-OtNNHF",
        "outputId": "932de47d-98b6-4e71-d73a-bc5eb8421b92"
      },
      "execution_count": 40,
      "outputs": [
        {
          "output_type": "stream",
          "name": "stdout",
          "text": [
            "tensor([[0.3301, 0.4369, 0.9177],\n",
            "        [0.7054, 0.9777, 0.4325]])\n",
            "shape of random_tensor = torch.Size([2, 3])\n",
            "device on which random_tensor is reated = cpu\n",
            "datatype of the randam_tensor = torch.float32\n"
          ]
        }
      ]
    },
    {
      "cell_type": "markdown",
      "source": [
        "# Tensor Operations: Manipulating tensors\n",
        "Tensor operations Include:\n",
        "- Addition\n",
        "- Subtraction\n",
        "- Multiplication(element-wise)\n",
        "- Division\n",
        "- Matrix Multiplication"
      ],
      "metadata": {
        "id": "iOb_Q5-eNnZV"
      }
    },
    {
      "cell_type": "code",
      "source": [
        "general_tensor = torch.tensor([2,5,10])\n",
        "general_tensor + 2\n",
        "#alternative method\n",
        "#torch.add(general_tensor,2)"
      ],
      "metadata": {
        "colab": {
          "base_uri": "https://localhost:8080/"
        },
        "id": "v7wZ1hcvUp9p",
        "outputId": "2ff1a48b-ead0-452c-f158-72b15626c347"
      },
      "execution_count": 41,
      "outputs": [
        {
          "output_type": "execute_result",
          "data": {
            "text/plain": [
              "tensor([ 4,  7, 12])"
            ]
          },
          "metadata": {},
          "execution_count": 41
        }
      ]
    },
    {
      "cell_type": "code",
      "source": [
        "general_tensor * 10\n",
        "#alternative method using built in function\n",
        "#torch.mul(general_tensor ,10)"
      ],
      "metadata": {
        "colab": {
          "base_uri": "https://localhost:8080/"
        },
        "id": "94FiOwOuVQ74",
        "outputId": "ade900df-d75a-4d33-e9d8-91912a410c64"
      },
      "execution_count": 42,
      "outputs": [
        {
          "output_type": "execute_result",
          "data": {
            "text/plain": [
              "tensor([ 20,  50, 100])"
            ]
          },
          "metadata": {},
          "execution_count": 42
        }
      ]
    },
    {
      "cell_type": "code",
      "source": [
        "general_tensor - 10\n",
        "#alternative method using built in method\n",
        "torch.sub(general_tensor,10)\n"
      ],
      "metadata": {
        "colab": {
          "base_uri": "https://localhost:8080/"
        },
        "id": "PcOPzTV-VYWH",
        "outputId": "0d491749-03c6-46f5-cf6f-d6621065bfaa"
      },
      "execution_count": 43,
      "outputs": [
        {
          "output_type": "execute_result",
          "data": {
            "text/plain": [
              "tensor([-8, -5,  0])"
            ]
          },
          "metadata": {},
          "execution_count": 43
        }
      ]
    },
    {
      "cell_type": "markdown",
      "source": [
        "**Matrix** **Multiplication**\n",
        "\n",
        "There are two ways of multiplication in neural networks or deep learning\n",
        "\n",
        "- Element wise multiplication\n",
        "- Matrix Multiplication(dot product)"
      ],
      "metadata": {
        "id": "TBQriT-MVdCU"
      }
    },
    {
      "cell_type": "code",
      "source": [
        "general_tensor"
      ],
      "metadata": {
        "colab": {
          "base_uri": "https://localhost:8080/"
        },
        "id": "sqK7ioEiXSjM",
        "outputId": "24880040-7e2b-472c-9c48-e5b76029bc75"
      },
      "execution_count": 44,
      "outputs": [
        {
          "output_type": "execute_result",
          "data": {
            "text/plain": [
              "tensor([ 2,  5, 10])"
            ]
          },
          "metadata": {},
          "execution_count": 44
        }
      ]
    },
    {
      "cell_type": "code",
      "source": [
        "#element wise multiplication\n",
        "print(general_tensor ,\"*\",general_tensor)\n",
        "print(general_tensor * general_tensor)"
      ],
      "metadata": {
        "colab": {
          "base_uri": "https://localhost:8080/"
        },
        "id": "dCKPmgLpX-pz",
        "outputId": "2aaf7ff2-030d-40ed-a2cf-46434f2b021d"
      },
      "execution_count": 45,
      "outputs": [
        {
          "output_type": "stream",
          "name": "stdout",
          "text": [
            "tensor([ 2,  5, 10]) * tensor([ 2,  5, 10])\n",
            "tensor([  4,  25, 100])\n"
          ]
        }
      ]
    },
    {
      "cell_type": "code",
      "source": [
        "#matrix multipliaction\n",
        "torch.matmul(general_tensor,general_tensor)"
      ],
      "metadata": {
        "colab": {
          "base_uri": "https://localhost:8080/"
        },
        "id": "g8t_bBHKYH3J",
        "outputId": "3562649d-9e94-4671-eae1-d178045b30c4"
      },
      "execution_count": 46,
      "outputs": [
        {
          "output_type": "execute_result",
          "data": {
            "text/plain": [
              "tensor(129)"
            ]
          },
          "metadata": {},
          "execution_count": 46
        }
      ]
    },
    {
      "cell_type": "code",
      "source": [
        "#manual matrix multiplication\n",
        "#2*2 +5*5 + 10*10\n",
        "%%time\n",
        "value=0\n",
        "for i in range(len(general_tensor)):\n",
        "  value = value + general_tensor[i] * general_tensor[i]\n",
        "print(value)"
      ],
      "metadata": {
        "colab": {
          "base_uri": "https://localhost:8080/"
        },
        "id": "5RosgbGeYo-h",
        "outputId": "01ca3793-b06a-4a8d-bd10-8c6578cb21e7"
      },
      "execution_count": 47,
      "outputs": [
        {
          "output_type": "stream",
          "name": "stdout",
          "text": [
            "tensor(129)\n",
            "CPU times: user 221 µs, sys: 1.04 ms, total: 1.26 ms\n",
            "Wall time: 2.29 ms\n"
          ]
        }
      ]
    },
    {
      "cell_type": "code",
      "source": [
        "%%time\n",
        "#general_tensor @ general_tensor\n",
        "torch.matmul(general_tensor , general_tensor)"
      ],
      "metadata": {
        "colab": {
          "base_uri": "https://localhost:8080/"
        },
        "id": "7ncUeRnuYx26",
        "outputId": "9411ee60-fad9-4881-f305-c3141893fddb"
      },
      "execution_count": 48,
      "outputs": [
        {
          "output_type": "stream",
          "name": "stdout",
          "text": [
            "CPU times: user 67 µs, sys: 11 µs, total: 78 µs\n",
            "Wall time: 80.3 µs\n"
          ]
        },
        {
          "output_type": "execute_result",
          "data": {
            "text/plain": [
              "tensor(129)"
            ]
          },
          "metadata": {},
          "execution_count": 48
        }
      ]
    },
    {
      "cell_type": "markdown",
      "source": [
        "**note : built in torch methods are fast and efficient**"
      ],
      "metadata": {
        "id": "a1XRgXRqbOuX"
      }
    },
    {
      "cell_type": "code",
      "source": [],
      "metadata": {
        "id": "xa5u_8D3cMGc"
      },
      "execution_count": 48,
      "outputs": []
    },
    {
      "cell_type": "markdown",
      "source": [
        "The most common error in the tensor multiplication is the shape error\n",
        " - for matrix multiplication:\n",
        "  - the num of columns in first matrix must be equal to the number of rows in the second matrix\n",
        "  - i.e inner dimensions must be equal\n",
        "  - (2,3) @ (2,3) won't work\n",
        "  - (3,2) @ (2,3) will work\n",
        "  - (3,4) @ (4,3) => (3,3)"
      ],
      "metadata": {
        "id": "0x4DBSaebWOX"
      }
    },
    {
      "cell_type": "code",
      "source": [
        "torch.matmul(torch.rand(3,4) , torch.rand(4,3))"
      ],
      "metadata": {
        "colab": {
          "base_uri": "https://localhost:8080/"
        },
        "id": "bOs0QWeAcdvf",
        "outputId": "b0ce61f7-132b-48ac-9811-18f1c6cc0924"
      },
      "execution_count": 49,
      "outputs": [
        {
          "output_type": "execute_result",
          "data": {
            "text/plain": [
              "tensor([[1.7431, 0.9866, 1.3868],\n",
              "        [0.7168, 0.4046, 0.9828],\n",
              "        [0.7931, 0.4767, 0.7786]])"
            ]
          },
          "metadata": {},
          "execution_count": 49
        }
      ]
    },
    {
      "cell_type": "markdown",
      "source": [
        "**How to deal with shape errors in matrix multiplication**\n",
        " - take the transpose of tge any of the matrix\n",
        " - transpose means changing the axis . i.e changing rows into coulmnn or coulmns into rowns"
      ],
      "metadata": {
        "id": "LTf-OVOJf9KX"
      }
    },
    {
      "cell_type": "code",
      "source": [
        "tensor_A = torch.tensor([[1,5],[3,9],[8,0]])\n",
        "tensor_A.shape"
      ],
      "metadata": {
        "colab": {
          "base_uri": "https://localhost:8080/"
        },
        "id": "E0ssIH_qgYLx",
        "outputId": "5118d871-cf4a-4172-c982-0f43bd07b748"
      },
      "execution_count": 50,
      "outputs": [
        {
          "output_type": "execute_result",
          "data": {
            "text/plain": [
              "torch.Size([3, 2])"
            ]
          },
          "metadata": {},
          "execution_count": 50
        }
      ]
    },
    {
      "cell_type": "code",
      "source": [
        "tensor_B = torch.tensor([[3,9],[9,7],[5,8]])\n",
        "tensor_B.shape"
      ],
      "metadata": {
        "colab": {
          "base_uri": "https://localhost:8080/"
        },
        "id": "ULioU2-mgnTl",
        "outputId": "ed78b741-e5fc-4d3e-d447-4f87e1d4ad96"
      },
      "execution_count": 51,
      "outputs": [
        {
          "output_type": "execute_result",
          "data": {
            "text/plain": [
              "torch.Size([3, 2])"
            ]
          },
          "metadata": {},
          "execution_count": 51
        }
      ]
    },
    {
      "cell_type": "code",
      "source": [
        "#as inner dimensions are not equaal , it will throw an error on running\n",
        "\n",
        "torch.mm(tensor_A,tensor_B)"
      ],
      "metadata": {
        "colab": {
          "base_uri": "https://localhost:8080/",
          "height": 176
        },
        "id": "oSkDn4vYgxrW",
        "outputId": "7667243e-f458-4d5b-d656-e1a3e3fea1f4"
      },
      "execution_count": 52,
      "outputs": [
        {
          "output_type": "error",
          "ename": "RuntimeError",
          "evalue": "mat1 and mat2 shapes cannot be multiplied (3x2 and 3x2)",
          "traceback": [
            "\u001b[0;31m---------------------------------------------------------------------------\u001b[0m",
            "\u001b[0;31mRuntimeError\u001b[0m                              Traceback (most recent call last)",
            "\u001b[0;32m/tmp/ipython-input-52-2123373279.py\u001b[0m in \u001b[0;36m<cell line: 0>\u001b[0;34m()\u001b[0m\n\u001b[1;32m      1\u001b[0m \u001b[0;31m#as inner dimensions are not equaal , it will throw an error on running\u001b[0m\u001b[0;34m\u001b[0m\u001b[0;34m\u001b[0m\u001b[0m\n\u001b[1;32m      2\u001b[0m \u001b[0;34m\u001b[0m\u001b[0m\n\u001b[0;32m----> 3\u001b[0;31m \u001b[0mtorch\u001b[0m\u001b[0;34m.\u001b[0m\u001b[0mmm\u001b[0m\u001b[0;34m(\u001b[0m\u001b[0mtensor_A\u001b[0m\u001b[0;34m,\u001b[0m\u001b[0mtensor_B\u001b[0m\u001b[0;34m)\u001b[0m\u001b[0;34m\u001b[0m\u001b[0;34m\u001b[0m\u001b[0m\n\u001b[0m",
            "\u001b[0;31mRuntimeError\u001b[0m: mat1 and mat2 shapes cannot be multiplied (3x2 and 3x2)"
          ]
        }
      ]
    },
    {
      "cell_type": "code",
      "source": [
        "#in order to make the shape compatible , take the transpose of any tensor\n",
        "Transpose_tensor_A= tensor_A.T  #(2,3)"
      ],
      "metadata": {
        "id": "79fYFmBGhAqF"
      },
      "execution_count": 53,
      "outputs": []
    },
    {
      "cell_type": "code",
      "source": [
        "torch.matmul(Transpose_tensor_A, tensor_B)"
      ],
      "metadata": {
        "colab": {
          "base_uri": "https://localhost:8080/"
        },
        "id": "rWp8YQPPg9QT",
        "outputId": "7e4e9522-6f82-4989-f9dc-2e46d54e7035"
      },
      "execution_count": 54,
      "outputs": [
        {
          "output_type": "execute_result",
          "data": {
            "text/plain": [
              "tensor([[ 70,  94],\n",
              "        [ 96, 108]])"
            ]
          },
          "metadata": {},
          "execution_count": 54
        }
      ]
    },
    {
      "cell_type": "code",
      "source": [
        "print(f\"tensor_A.shape:{tensor_A.shape} and tensor_B.shape: {tensor_B.shape}\")\n",
        "print(\"inner dimensions are not equal , thus mulptication is not possible\")\n",
        "print(f\"tensor_A.shape :{tensor_A.shape} and tensor_B.transpose.shape: {tensor_B.T.shape}\")\n",
        "print(\"inner dimensions are equal , thus mulptication is possible\")\n",
        "print(f\"The output matrix of outer dimension shape is after matrix multipliaction = {torch.mm(tensor_A,tensor_B.T)}\")"
      ],
      "metadata": {
        "colab": {
          "base_uri": "https://localhost:8080/"
        },
        "id": "R4MUJTTshNhI",
        "outputId": "acf15199-dae9-4b71-db8b-9d512530c848"
      },
      "execution_count": 55,
      "outputs": [
        {
          "output_type": "stream",
          "name": "stdout",
          "text": [
            "tensor_A.shape:torch.Size([3, 2]) and tensor_B.shape: torch.Size([3, 2])\n",
            "inner dimensions are not equal , thus mulptication is not possible\n",
            "tensor_A.shape :torch.Size([3, 2]) and tensor_B.transpose.shape: torch.Size([2, 3])\n",
            "inner dimensions are equal , thus mulptication is possible\n",
            "The output matrix of outer dimension shape is after matrix multipliaction = tensor([[48, 44, 45],\n",
            "        [90, 90, 87],\n",
            "        [24, 72, 40]])\n"
          ]
        }
      ]
    },
    {
      "cell_type": "markdown",
      "source": [
        "## Tensor Aggregation\n",
        "- finding the min , max , mean, sum,etc"
      ],
      "metadata": {
        "id": "pYzdx1ojigim"
      }
    },
    {
      "cell_type": "code",
      "source": [
        "rand_tensor = torch.rand(2,4)\n"
      ],
      "metadata": {
        "id": "km5Hsllhju2K"
      },
      "execution_count": 56,
      "outputs": []
    },
    {
      "cell_type": "code",
      "source": [
        "#min\n",
        "rand_tensor.min() , torch.min(rand_tensor)"
      ],
      "metadata": {
        "id": "CFCWUf-2VQRd",
        "outputId": "59175587-49c6-48d9-f06d-e7ea9aaf2bef",
        "colab": {
          "base_uri": "https://localhost:8080/"
        }
      },
      "execution_count": 57,
      "outputs": [
        {
          "output_type": "execute_result",
          "data": {
            "text/plain": [
              "(tensor(0.0573), tensor(0.0573))"
            ]
          },
          "metadata": {},
          "execution_count": 57
        }
      ]
    },
    {
      "cell_type": "code",
      "source": [
        "#max\n",
        "rand_tensor.max() , torch.max(rand_tensor)"
      ],
      "metadata": {
        "id": "nkSBZSYOVy9E",
        "outputId": "94d675dc-7ac6-4998-cc7a-5c88bd8180e7",
        "colab": {
          "base_uri": "https://localhost:8080/"
        }
      },
      "execution_count": 58,
      "outputs": [
        {
          "output_type": "execute_result",
          "data": {
            "text/plain": [
              "(tensor(0.7493), tensor(0.7493))"
            ]
          },
          "metadata": {},
          "execution_count": 58
        }
      ]
    },
    {
      "cell_type": "code",
      "source": [
        "#mean => mean function only works on float and complex values . As long int is given as input that's why it is throwing an error\n",
        "int_values_tensor = torch.tensor([2,6,9,10],dtype=torch.int64)\n",
        "# int_values_tensor.type(torch.float32).mean() #alternative method\n",
        "torch.mean(int_values_tensor.type(torch.float16))"
      ],
      "metadata": {
        "id": "aU4RCytXWU3G",
        "outputId": "7a6cb603-0b9a-41af-851a-b0dddd3fb518",
        "colab": {
          "base_uri": "https://localhost:8080/"
        }
      },
      "execution_count": 59,
      "outputs": [
        {
          "output_type": "execute_result",
          "data": {
            "text/plain": [
              "tensor(6.7500, dtype=torch.float16)"
            ]
          },
          "metadata": {},
          "execution_count": 59
        }
      ]
    },
    {
      "cell_type": "markdown",
      "source": [
        "**positional min and max using argmax and argmin**"
      ],
      "metadata": {
        "id": "8FjqtAAVWefE"
      }
    },
    {
      "cell_type": "code",
      "source": [
        "#argmin => will provide us the position or index of the minimum value in the given torch.tensor\n",
        "new_tensor = torch.arange(2,1000,90)\n",
        "new_tensor"
      ],
      "metadata": {
        "id": "CJrABuC8Xmzy",
        "outputId": "dc73a3e6-4367-42f6-db4e-438c63bf0239",
        "colab": {
          "base_uri": "https://localhost:8080/"
        }
      },
      "execution_count": 60,
      "outputs": [
        {
          "output_type": "execute_result",
          "data": {
            "text/plain": [
              "tensor([  2,  92, 182, 272, 362, 452, 542, 632, 722, 812, 902, 992])"
            ]
          },
          "metadata": {},
          "execution_count": 60
        }
      ]
    },
    {
      "cell_type": "code",
      "source": [
        "new_tensor.argmin()"
      ],
      "metadata": {
        "id": "rjsjFXntX2_x",
        "outputId": "2b7bbfcd-361e-403c-a307-acfbe83323e2",
        "colab": {
          "base_uri": "https://localhost:8080/"
        }
      },
      "execution_count": 61,
      "outputs": [
        {
          "output_type": "execute_result",
          "data": {
            "text/plain": [
              "tensor(0)"
            ]
          },
          "metadata": {},
          "execution_count": 61
        }
      ]
    },
    {
      "cell_type": "code",
      "source": [
        "new_tensor[0] #we can find the minimum value in the tensor by using that position or index by argmin"
      ],
      "metadata": {
        "id": "tbP3I08wX6H_",
        "outputId": "3b92b129-42b9-4434-eba0-20a7f4f44fb2",
        "colab": {
          "base_uri": "https://localhost:8080/"
        }
      },
      "execution_count": 62,
      "outputs": [
        {
          "output_type": "execute_result",
          "data": {
            "text/plain": [
              "tensor(2)"
            ]
          },
          "metadata": {},
          "execution_count": 62
        }
      ]
    },
    {
      "cell_type": "code",
      "source": [
        "new_tensor.argmax() # outputs the position or index of maximum value in the tensor"
      ],
      "metadata": {
        "id": "4m827DiDYN-u",
        "outputId": "6028db68-56d7-43d0-a877-931b4c4e90f4",
        "colab": {
          "base_uri": "https://localhost:8080/"
        }
      },
      "execution_count": 63,
      "outputs": [
        {
          "output_type": "execute_result",
          "data": {
            "text/plain": [
              "tensor(11)"
            ]
          },
          "metadata": {},
          "execution_count": 63
        }
      ]
    },
    {
      "cell_type": "code",
      "source": [
        "new_tensor[5]"
      ],
      "metadata": {
        "id": "3Q0OmxxLYbPU",
        "outputId": "f5d5ccd4-823b-4dde-cea0-666143400d98",
        "colab": {
          "base_uri": "https://localhost:8080/"
        }
      },
      "execution_count": 64,
      "outputs": [
        {
          "output_type": "execute_result",
          "data": {
            "text/plain": [
              "tensor(452)"
            ]
          },
          "metadata": {},
          "execution_count": 64
        }
      ]
    },
    {
      "cell_type": "markdown",
      "source": [
        "**Reshaping , stacking , sequeezing and unsequeezing tensors**\n",
        "\n",
        "- The most common problem we encounter while working with tensors is shape incompatibility.\n",
        "- To solve this error , different methods are used , some of which are as follows:\n",
        "  * **Reshaping:** changing the shape of the tensor with the defined shape.\n",
        "  * **view :** return a view of the input tensor in a specified shape but both the original tensor and the reshaped tensor via view are pointing to same memory location , changes in one reflects to other as well\n",
        "  * **stacking** : combining the tensors in a dimention specified . By default its vertical dim=0\n",
        "  * **sequeezing :** means removing the single dimension from the input array. i.e removing from double brackets to single brackets\n",
        "\n",
        "  * **unsequeezing:**  means adding a new single dimension in the tensor i.e adding a bracket\n",
        "\n",
        "  * **permute**: means modifying the dimensions or axis of the values in the tensors."
      ],
      "metadata": {
        "id": "hnppkuNHYuAq"
      }
    },
    {
      "cell_type": "markdown",
      "source": [
        "**reshape**()"
      ],
      "metadata": {
        "id": "bRwSXkcxkY-o"
      }
    },
    {
      "cell_type": "code",
      "source": [
        "x = torch.arange(2,10)\n",
        "x , x.shape"
      ],
      "metadata": {
        "id": "vEgg3-G7Y4Ip",
        "outputId": "72814e5c-86ff-4cd6-e2e2-53727792564a",
        "colab": {
          "base_uri": "https://localhost:8080/"
        }
      },
      "execution_count": 65,
      "outputs": [
        {
          "output_type": "execute_result",
          "data": {
            "text/plain": [
              "(tensor([2, 3, 4, 5, 6, 7, 8, 9]), torch.Size([8]))"
            ]
          },
          "metadata": {},
          "execution_count": 65
        }
      ]
    },
    {
      "cell_type": "code",
      "source": [
        "# x_resahped = x.reshape(8,1)\n",
        "# x_resahped = x.reshape(1,8)\n",
        "# x_reshaped = x.reshape(2,4)\n",
        "#all these are possible in which shape is comaptible\n",
        "#the shape of the new modified tensor should be such way that after multiplying them , it should give the size value of the original tensor\n",
        "# original tensor = 8 , new tensor can be any shape that make 8 on multiplying\n",
        "x_reshaped = x.reshape(4,2)\n"
      ],
      "metadata": {
        "id": "04vmo0CdhfG_"
      },
      "execution_count": 66,
      "outputs": []
    },
    {
      "cell_type": "code",
      "source": [
        "print(f\"original tensor is {x} with shape {x.shape}\")\n",
        "print(\"_________________________________________________\")\n",
        "print(f\"reshaped tensor is {x_reshaped} with the shape {x_reshaped.shape}\")"
      ],
      "metadata": {
        "id": "PqUw4ML0h_xc",
        "outputId": "3e3fe998-3fd4-47f0-a697-d50808177ac4",
        "colab": {
          "base_uri": "https://localhost:8080/"
        }
      },
      "execution_count": 67,
      "outputs": [
        {
          "output_type": "stream",
          "name": "stdout",
          "text": [
            "original tensor is tensor([2, 3, 4, 5, 6, 7, 8, 9]) with shape torch.Size([8])\n",
            "_________________________________________________\n",
            "reshaped tensor is tensor([[2, 3],\n",
            "        [4, 5],\n",
            "        [6, 7],\n",
            "        [8, 9]]) with the shape torch.Size([4, 2])\n"
          ]
        }
      ]
    },
    {
      "cell_type": "markdown",
      "source": [
        "**view**"
      ],
      "metadata": {
        "id": "X2j8TmcXhj3R"
      }
    },
    {
      "cell_type": "code",
      "source": [
        "new_tensor.shape"
      ],
      "metadata": {
        "id": "OnqKjrnNkf4k",
        "outputId": "a8a793fa-83e0-4821-ead8-957132ac4a74",
        "colab": {
          "base_uri": "https://localhost:8080/"
        }
      },
      "execution_count": 68,
      "outputs": [
        {
          "output_type": "execute_result",
          "data": {
            "text/plain": [
              "torch.Size([12])"
            ]
          },
          "metadata": {},
          "execution_count": 68
        }
      ]
    },
    {
      "cell_type": "code",
      "source": [
        "new_viewed_tensor= new_tensor.view(4,3)\n",
        "new_tensor.shape\n"
      ],
      "metadata": {
        "id": "ARcxAE-Gkiha",
        "outputId": "b46e2491-daef-4686-e5db-d1c23a6918f1",
        "colab": {
          "base_uri": "https://localhost:8080/"
        }
      },
      "execution_count": 69,
      "outputs": [
        {
          "output_type": "execute_result",
          "data": {
            "text/plain": [
              "torch.Size([12])"
            ]
          },
          "metadata": {},
          "execution_count": 69
        }
      ]
    },
    {
      "cell_type": "code",
      "source": [
        "\n",
        "print(f\"new_tensor is {new_tensor} with shape {new_tensor.shape}\")\n",
        "print(\"_________________________________________________\")\n",
        "print(f\"view of the new_tensor is {new_viewed_tensor} with shape {new_viewed_tensor.shape}\")"
      ],
      "metadata": {
        "id": "aQsPWuUMnJ7M",
        "outputId": "7eb1442e-8013-4cae-81ea-78b4ba8fb3a8",
        "colab": {
          "base_uri": "https://localhost:8080/"
        }
      },
      "execution_count": 70,
      "outputs": [
        {
          "output_type": "stream",
          "name": "stdout",
          "text": [
            "new_tensor is tensor([  2,  92, 182, 272, 362, 452, 542, 632, 722, 812, 902, 992]) with shape torch.Size([12])\n",
            "_________________________________________________\n",
            "view of the new_tensor is tensor([[  2,  92, 182],\n",
            "        [272, 362, 452],\n",
            "        [542, 632, 722],\n",
            "        [812, 902, 992]]) with shape torch.Size([4, 3])\n"
          ]
        }
      ]
    },
    {
      "cell_type": "code",
      "source": [
        "new_tensor[2]=17\n",
        "new_viewed_tensor[0][2]\n",
        "\n",
        "#changes done in one also reflects in the other . this is because as both are pointing to same memory lacation"
      ],
      "metadata": {
        "id": "_ni7KnWMkpR-",
        "outputId": "5e7d9742-e52d-4767-f5c7-39825870c4ac",
        "colab": {
          "base_uri": "https://localhost:8080/"
        }
      },
      "execution_count": 71,
      "outputs": [
        {
          "output_type": "execute_result",
          "data": {
            "text/plain": [
              "tensor(17)"
            ]
          },
          "metadata": {},
          "execution_count": 71
        }
      ]
    },
    {
      "cell_type": "markdown",
      "source": [
        "**Stacking**"
      ],
      "metadata": {
        "id": "-hNYN2PAo2Jg"
      }
    },
    {
      "cell_type": "code",
      "source": [
        "stacked_tensors = torch.stack([x,x,x],dim=1)\n",
        "#dim=0 row wise stacking in vertical manner\n",
        "#dim=1 column wise stacking in horizontal manner\n",
        "stacked_tensors\n"
      ],
      "metadata": {
        "id": "9WUd60mblUtJ",
        "outputId": "652ec42b-ef7c-453c-ae01-ad738eddb045",
        "colab": {
          "base_uri": "https://localhost:8080/"
        }
      },
      "execution_count": 72,
      "outputs": [
        {
          "output_type": "execute_result",
          "data": {
            "text/plain": [
              "tensor([[2, 2, 2],\n",
              "        [3, 3, 3],\n",
              "        [4, 4, 4],\n",
              "        [5, 5, 5],\n",
              "        [6, 6, 6],\n",
              "        [7, 7, 7],\n",
              "        [8, 8, 8],\n",
              "        [9, 9, 9]])"
            ]
          },
          "metadata": {},
          "execution_count": 72
        }
      ]
    },
    {
      "cell_type": "markdown",
      "source": [
        "**Sequeeze**"
      ],
      "metadata": {
        "id": "KuirLaFdokHx"
      }
    },
    {
      "cell_type": "code",
      "source": [
        "Tensor = torch.tensor([[[2,9],[2,0],[4,5]]])\n",
        "Tensor.shape\n",
        "print(f\"Before squeezing: {Tensor} with shape {Tensor.shape}\")"
      ],
      "metadata": {
        "id": "7B4jKjpqqAPv",
        "outputId": "e265e17b-8b18-40cf-c67d-8b5d8f70f5ba",
        "colab": {
          "base_uri": "https://localhost:8080/"
        }
      },
      "execution_count": 73,
      "outputs": [
        {
          "output_type": "stream",
          "name": "stdout",
          "text": [
            "Before squeezing: tensor([[[2, 9],\n",
            "         [2, 0],\n",
            "         [4, 5]]]) with shape torch.Size([1, 3, 2])\n"
          ]
        }
      ]
    },
    {
      "cell_type": "code",
      "source": [
        "squeezed= torch.squeeze(Tensor)\n",
        "print(f\"After squeezing: {squeezed} with shape {squeezed.shape}\")"
      ],
      "metadata": {
        "id": "Kon0SImjqCIc",
        "outputId": "91c2e3c8-20c0-4b95-dfe6-de0bb918f664",
        "colab": {
          "base_uri": "https://localhost:8080/"
        }
      },
      "execution_count": 74,
      "outputs": [
        {
          "output_type": "stream",
          "name": "stdout",
          "text": [
            "After squeezing: tensor([[2, 9],\n",
            "        [2, 0],\n",
            "        [4, 5]]) with shape torch.Size([3, 2])\n"
          ]
        }
      ]
    },
    {
      "cell_type": "markdown",
      "source": [
        "**Unsqueezing**"
      ],
      "metadata": {
        "id": "JMGSpT1mrqNw"
      }
    },
    {
      "cell_type": "code",
      "source": [
        "squeezed , squeezed.shape\n"
      ],
      "metadata": {
        "id": "6A4HM_BHtmgu",
        "outputId": "cfd00f34-c3f2-40d7-9f3b-79afd4a7b3c3",
        "colab": {
          "base_uri": "https://localhost:8080/"
        }
      },
      "execution_count": 75,
      "outputs": [
        {
          "output_type": "execute_result",
          "data": {
            "text/plain": [
              "(tensor([[2, 9],\n",
              "         [2, 0],\n",
              "         [4, 5]]),\n",
              " torch.Size([3, 2]))"
            ]
          },
          "metadata": {},
          "execution_count": 75
        }
      ]
    },
    {
      "cell_type": "code",
      "source": [
        "unsqueezed = torch.unsqueeze(squeezed,1)\n",
        "unsqueezed , unsqueezed.shape  # 0 dimension means add brackets as whole .ie. column wise ,while 1 dimension means adding bracket along each each row"
      ],
      "metadata": {
        "id": "3yjXFDh8troV",
        "outputId": "0983a4e4-63cf-4bd7-80fe-cd10ef1a3f3c",
        "colab": {
          "base_uri": "https://localhost:8080/"
        }
      },
      "execution_count": 76,
      "outputs": [
        {
          "output_type": "execute_result",
          "data": {
            "text/plain": [
              "(tensor([[[2, 9]],\n",
              " \n",
              "         [[2, 0]],\n",
              " \n",
              "         [[4, 5]]]),\n",
              " torch.Size([3, 1, 2]))"
            ]
          },
          "metadata": {},
          "execution_count": 76
        }
      ]
    },
    {
      "cell_type": "markdown",
      "source": [
        "**permute**"
      ],
      "metadata": {
        "id": "SPScA3Lmvkqg"
      }
    },
    {
      "cell_type": "code",
      "source": [
        "x = torch.randn(2,3,5)\n",
        "print(f\"Before permutation: {x} with shape {x.shape}\")\n",
        "x.size()\n",
        "\n",
        "print(\"________________________________________\")\n",
        "print(\"________________________________________\")\n",
        "permuted= torch.permute(x,(2,0,1)) #changing the 0->2 , 1->0 , 2->1\n",
        "print(f\"after permutation: {permuted} with shape {permuted.shape}\")"
      ],
      "metadata": {
        "id": "YIq10LQttzr_",
        "outputId": "07491dab-d7fd-4526-e9e6-b65b918bd7a9",
        "colab": {
          "base_uri": "https://localhost:8080/"
        }
      },
      "execution_count": 77,
      "outputs": [
        {
          "output_type": "stream",
          "name": "stdout",
          "text": [
            "Before permutation: tensor([[[-1.2470,  2.0676,  0.3430, -0.9086,  0.1590],\n",
            "         [ 1.4641, -1.2915, -0.2005,  0.8228, -0.5582],\n",
            "         [-0.1231, -0.6008,  0.6680,  0.0404,  0.4982]],\n",
            "\n",
            "        [[ 0.3571,  0.5309, -1.9976, -0.1811,  0.4803],\n",
            "         [-0.2304,  2.2584,  0.2377, -0.1559,  2.0546],\n",
            "         [-0.5448, -1.1194, -0.9680, -0.1645,  1.5582]]]) with shape torch.Size([2, 3, 5])\n",
            "________________________________________\n",
            "________________________________________\n",
            "after permutation: tensor([[[-1.2470,  1.4641, -0.1231],\n",
            "         [ 0.3571, -0.2304, -0.5448]],\n",
            "\n",
            "        [[ 2.0676, -1.2915, -0.6008],\n",
            "         [ 0.5309,  2.2584, -1.1194]],\n",
            "\n",
            "        [[ 0.3430, -0.2005,  0.6680],\n",
            "         [-1.9976,  0.2377, -0.9680]],\n",
            "\n",
            "        [[-0.9086,  0.8228,  0.0404],\n",
            "         [-0.1811, -0.1559, -0.1645]],\n",
            "\n",
            "        [[ 0.1590, -0.5582,  0.4982],\n",
            "         [ 0.4803,  2.0546,  1.5582]]]) with shape torch.Size([5, 2, 3])\n"
          ]
        }
      ]
    },
    {
      "cell_type": "code",
      "source": [
        "#Another example\n",
        "#creating tensor for image\n",
        "\n",
        "x_original = torch.rand(244,244,3) #height , width , colour chennels\n",
        "x_permuted = torch.permute(x_original,(2,0,1)) #color chennels, height , width\n",
        "\n",
        "x_original.shape , x_permuted.shape\n",
        "#note x_original and x_permuted will share the same memory in the computer\n"
      ],
      "metadata": {
        "id": "SwZ2FvROvqJK",
        "outputId": "7b996193-379c-453d-acd0-a07678c0abc7",
        "colab": {
          "base_uri": "https://localhost:8080/"
        }
      },
      "execution_count": 78,
      "outputs": [
        {
          "output_type": "execute_result",
          "data": {
            "text/plain": [
              "(torch.Size([244, 244, 3]), torch.Size([3, 244, 244]))"
            ]
          },
          "metadata": {},
          "execution_count": 78
        }
      ]
    },
    {
      "cell_type": "code",
      "source": [
        "#chnaging the ist value in x_orginal and then checking whether it is affecting the x_permuted or not\n",
        "\n",
        "x_original[0,0,0]=10\n",
        "x_original[0,0,0] , x_permuted[0,0,0]"
      ],
      "metadata": {
        "id": "YU-JuIYFzWrr",
        "outputId": "45f7d4b0-e054-416f-e8c2-8b34426ddd87",
        "colab": {
          "base_uri": "https://localhost:8080/"
        }
      },
      "execution_count": 79,
      "outputs": [
        {
          "output_type": "execute_result",
          "data": {
            "text/plain": [
              "(tensor(10.), tensor(10.))"
            ]
          },
          "metadata": {},
          "execution_count": 79
        }
      ]
    },
    {
      "cell_type": "markdown",
      "source": [
        "## Indexing\n",
        "\n",
        "indexing with PyTorch are same as the indexing in NumPy"
      ],
      "metadata": {
        "id": "EI2owt_s1W2I"
      }
    },
    {
      "cell_type": "code",
      "source": [
        "#creatting a tensor\n",
        "x=torch.arange(1,90,8)\n",
        "x.shape\n",
        "x= x.reshape(1,4,3)\n",
        "x"
      ],
      "metadata": {
        "id": "dvOMHbYp4WYZ",
        "outputId": "411d1f43-3d5a-4f50-e7bb-dd8ad6ddeeca",
        "colab": {
          "base_uri": "https://localhost:8080/"
        }
      },
      "execution_count": 80,
      "outputs": [
        {
          "output_type": "execute_result",
          "data": {
            "text/plain": [
              "tensor([[[ 1,  9, 17],\n",
              "         [25, 33, 41],\n",
              "         [49, 57, 65],\n",
              "         [73, 81, 89]]])"
            ]
          },
          "metadata": {},
          "execution_count": 80
        }
      ]
    },
    {
      "cell_type": "code",
      "source": [
        "x[0]"
      ],
      "metadata": {
        "id": "N6Z1T63f4qBd",
        "outputId": "d7dd637d-e6e1-4ea7-9502-bc46f3b9df3e",
        "colab": {
          "base_uri": "https://localhost:8080/"
        }
      },
      "execution_count": 81,
      "outputs": [
        {
          "output_type": "execute_result",
          "data": {
            "text/plain": [
              "tensor([[ 1,  9, 17],\n",
              "        [25, 33, 41],\n",
              "        [49, 57, 65],\n",
              "        [73, 81, 89]])"
            ]
          },
          "metadata": {},
          "execution_count": 81
        }
      ]
    },
    {
      "cell_type": "code",
      "source": [
        "x[0][0]"
      ],
      "metadata": {
        "id": "VMAibLsT6BOT",
        "outputId": "0bfeb674-37ff-4579-adee-0148e179b88f",
        "colab": {
          "base_uri": "https://localhost:8080/"
        }
      },
      "execution_count": 82,
      "outputs": [
        {
          "output_type": "execute_result",
          "data": {
            "text/plain": [
              "tensor([ 1,  9, 17])"
            ]
          },
          "metadata": {},
          "execution_count": 82
        }
      ]
    },
    {
      "cell_type": "code",
      "source": [
        "x[0][0][0]"
      ],
      "metadata": {
        "id": "WVsW99o06HYo",
        "outputId": "c6d29d12-5fde-4004-ca7a-66dfaa875159",
        "colab": {
          "base_uri": "https://localhost:8080/"
        }
      },
      "execution_count": 83,
      "outputs": [
        {
          "output_type": "execute_result",
          "data": {
            "text/plain": [
              "tensor(1)"
            ]
          },
          "metadata": {},
          "execution_count": 83
        }
      ]
    },
    {
      "cell_type": "code",
      "source": [
        "x[0][0][2]"
      ],
      "metadata": {
        "id": "jpUNpYJP663O",
        "outputId": "d62f4bc3-d23a-477c-e61b-12d719205c83",
        "colab": {
          "base_uri": "https://localhost:8080/"
        }
      },
      "execution_count": 84,
      "outputs": [
        {
          "output_type": "execute_result",
          "data": {
            "text/plain": [
              "tensor(17)"
            ]
          },
          "metadata": {},
          "execution_count": 84
        }
      ]
    },
    {
      "cell_type": "code",
      "source": [
        "x[:,:,1]"
      ],
      "metadata": {
        "id": "ZI8T-pC76KN4",
        "outputId": "ec798dbe-217a-4c1f-f644-048affe8032c",
        "colab": {
          "base_uri": "https://localhost:8080/"
        }
      },
      "execution_count": 85,
      "outputs": [
        {
          "output_type": "execute_result",
          "data": {
            "text/plain": [
              "tensor([[ 9, 33, 57, 81]])"
            ]
          },
          "metadata": {},
          "execution_count": 85
        }
      ]
    },
    {
      "cell_type": "code",
      "source": [
        "x[0, : ,1]"
      ],
      "metadata": {
        "id": "m-lPnlnS6UPJ",
        "outputId": "746bf2a8-56aa-45a5-c14b-29ea039baf25",
        "colab": {
          "base_uri": "https://localhost:8080/"
        }
      },
      "execution_count": 86,
      "outputs": [
        {
          "output_type": "execute_result",
          "data": {
            "text/plain": [
              "tensor([ 9, 33, 57, 81])"
            ]
          },
          "metadata": {},
          "execution_count": 86
        }
      ]
    },
    {
      "cell_type": "code",
      "source": [
        "#get all the values of the 0 dimension but only 1 index value of ist and 2nd dimension\n",
        "\n",
        "x[:,1,1]"
      ],
      "metadata": {
        "id": "FOEziViH6drA",
        "outputId": "8fe3da34-52ab-4817-f365-f06b6e9643c3",
        "colab": {
          "base_uri": "https://localhost:8080/"
        }
      },
      "execution_count": 87,
      "outputs": [
        {
          "output_type": "execute_result",
          "data": {
            "text/plain": [
              "tensor([33])"
            ]
          },
          "metadata": {},
          "execution_count": 87
        }
      ]
    },
    {
      "cell_type": "code",
      "source": [
        "#get index 0 of 0th and ist diemnsion and all the values of 2nd dimension\n",
        "x[0,0,:]"
      ],
      "metadata": {
        "id": "YtpKwpD_e9Sh",
        "outputId": "7761be5c-1387-46f9-ca7c-eb3fef3d4892",
        "colab": {
          "base_uri": "https://localhost:8080/"
        }
      },
      "execution_count": 88,
      "outputs": [
        {
          "output_type": "execute_result",
          "data": {
            "text/plain": [
              "tensor([ 1,  9, 17])"
            ]
          },
          "metadata": {},
          "execution_count": 88
        }
      ]
    },
    {
      "cell_type": "code",
      "source": [
        "#index on x to return 57\n",
        "x[0,2,1]"
      ],
      "metadata": {
        "id": "WM1ij1H4fP76",
        "outputId": "728a4894-e664-4895-c10d-cd27b70d68ea",
        "colab": {
          "base_uri": "https://localhost:8080/"
        }
      },
      "execution_count": 89,
      "outputs": [
        {
          "output_type": "execute_result",
          "data": {
            "text/plain": [
              "tensor(57)"
            ]
          },
          "metadata": {},
          "execution_count": 89
        }
      ]
    },
    {
      "cell_type": "markdown",
      "source": [
        "**PyTorch** **and** **NumPy**\n",
        "- Numpy is the python's libraray for mathematical calculations and computations\n",
        "- Tensors can be converted to numpy arrays by :\n",
        "    - torch.Tensor.numpy()\n",
        "- Numpy arrays can be converted into the tensors by :\n",
        "    - torch.from_numpy(ndarray)\n",
        "\n",
        "    "
      ],
      "metadata": {
        "id": "EjbDbZ2Z6QtX"
      }
    },
    {
      "cell_type": "code",
      "source": [
        "import numpy as np\n",
        "import torch\n",
        "\n",
        "#numpy array to tensors\n",
        "arr = np.arange(1.,10.)\n",
        "Tensor = torch.from_numpy(arr)\n",
        "arr , Tensor\n",
        "\n",
        "#by default the data type of torch is float32 and the default datatype of numpy is float64. Here the datatype of numpy array reflects to the torch"
      ],
      "metadata": {
        "id": "Q3du1Is07E1P",
        "outputId": "ce8f15b5-abdb-4922-e131-8aae37577467",
        "colab": {
          "base_uri": "https://localhost:8080/"
        }
      },
      "execution_count": 97,
      "outputs": [
        {
          "output_type": "execute_result",
          "data": {
            "text/plain": [
              "(array([1., 2., 3., 4., 5., 6., 7., 8., 9.]),\n",
              " tensor([1., 2., 3., 4., 5., 6., 7., 8., 9.], dtype=torch.float64))"
            ]
          },
          "metadata": {},
          "execution_count": 97
        }
      ]
    },
    {
      "cell_type": "code",
      "source": [
        "#by changing the array the tensor is made from , tensor will not get affected or changed\n",
        "arr= arr+1\n",
        "arr , Tensor"
      ],
      "metadata": {
        "id": "_-STNVU48idb",
        "outputId": "805a4bb8-9ce3-4e44-8373-6911669cc039",
        "colab": {
          "base_uri": "https://localhost:8080/"
        }
      },
      "execution_count": 105,
      "outputs": [
        {
          "output_type": "execute_result",
          "data": {
            "text/plain": [
              "(array([ 2.,  3.,  4.,  5.,  6.,  7.,  8.,  9., 10.]),\n",
              " tensor([1., 2., 3., 4., 5., 6., 7., 8., 9.], dtype=torch.float64))"
            ]
          },
          "metadata": {},
          "execution_count": 105
        }
      ]
    },
    {
      "cell_type": "code",
      "source": [
        "#tensors to numpy\n",
        "Ten1 = torch.arange(1.0,18,2)\n",
        "array1 = Ten1.numpy()\n",
        "array1 , Ten1\n",
        "array1.dtype ,Ten1.dtype\n",
        "\n",
        "# the datatype of the numpy array created from torch will be the same as that of the tensor\n"
      ],
      "metadata": {
        "id": "R8n-qAhY7P8h",
        "outputId": "205954e0-7422-48dc-b6ce-955dbc693a67",
        "colab": {
          "base_uri": "https://localhost:8080/"
        }
      },
      "execution_count": 104,
      "outputs": [
        {
          "output_type": "execute_result",
          "data": {
            "text/plain": [
              "(dtype('float32'), torch.float32)"
            ]
          },
          "metadata": {},
          "execution_count": 104
        }
      ]
    },
    {
      "cell_type": "code",
      "source": [
        "#by changing torch the numpy array made from from , the numpy will not be changed\n",
        "\n",
        "Ten1 = Ten1 +1\n",
        "Ten1\n",
        "Ten1 , array1"
      ],
      "metadata": {
        "id": "nNz6AaL48xbW",
        "outputId": "2502560c-c6d0-4ca3-9f74-058ae036e963",
        "colab": {
          "base_uri": "https://localhost:8080/"
        }
      },
      "execution_count": 106,
      "outputs": [
        {
          "output_type": "execute_result",
          "data": {
            "text/plain": [
              "(tensor([ 2.,  4.,  6.,  8., 10., 12., 14., 16., 18.]),\n",
              " array([ 1.,  3.,  5.,  7.,  9., 11., 13., 15., 17.], dtype=float32))"
            ]
          },
          "metadata": {},
          "execution_count": 106
        }
      ]
    },
    {
      "cell_type": "markdown",
      "source": [
        "## Random seed\n",
        "In short a neural networks leans:\n",
        "start with a random numbers -> tensor operations -> update those random numbers and try to amke them better -> perform opertaions -> again -> again\n",
        "\n",
        "\n",
        "Ramdon seed is very important in neural networks and pytorch as it is used to make the code or output reproducible\n",
        "\n",
        "In pytorch we use , torch.manual_seed(42) - this flavours the randomness and make the code reproducible"
      ],
      "metadata": {
        "id": "EvXRIFDW8g0g"
      }
    },
    {
      "cell_type": "code",
      "source": [
        "import torch\n",
        "tensor_a = torch.rand(2,4)\n",
        "tensor_b = torch.rand(2,4)\n",
        "\n",
        "print(tensor_a)\n",
        "print(tensor_b)\n",
        "print(tensor_a == tensor_b)\n"
      ],
      "metadata": {
        "id": "N2ADO81r788n",
        "outputId": "243dd24d-acb6-4f21-b075-2948aa9def76",
        "colab": {
          "base_uri": "https://localhost:8080/"
        }
      },
      "execution_count": 107,
      "outputs": [
        {
          "output_type": "stream",
          "name": "stdout",
          "text": [
            "tensor([[0.2692, 0.4002, 0.4148, 0.6661],\n",
            "        [0.9923, 0.8386, 0.3149, 0.7500]])\n",
            "tensor([[0.6211, 0.3668, 0.8195, 0.7363],\n",
            "        [0.6087, 0.0555, 0.7699, 0.8008]])\n",
            "tensor([[False, False, False, False],\n",
            "        [False, False, False, False]])\n"
          ]
        }
      ]
    },
    {
      "cell_type": "markdown",
      "source": [
        "In order to make the above numbers reproducible and to control the randomness , we will set the manual_seed() function before each line where there is a need to control randomness\n"
      ],
      "metadata": {
        "id": "hoIvD9kTAynO"
      }
    },
    {
      "cell_type": "code",
      "source": [
        "#Note: if different random seed values will be passed to the manaul_seed(), it will not be reproducible.\n",
        "\n",
        "import torch\n",
        "random_seed=  42 # 42 is just a universal value or default value . it can be any integer number .\n",
        "\n",
        "torch.manual_seed(random_seed)\n",
        "tensor_a = torch.rand(2,4)\n",
        "\n",
        "torch.manual_seed(random_seed)\n",
        "tensor_b = torch.rand(2,4)\n",
        "\n",
        "print(tensor_a)\n",
        "print(tensor_b)\n",
        "print(tensor_a == tensor_b)"
      ],
      "metadata": {
        "id": "x0HZJtjzAutO",
        "outputId": "7547a835-1b19-4353-900a-49b31e71a704",
        "colab": {
          "base_uri": "https://localhost:8080/"
        }
      },
      "execution_count": 116,
      "outputs": [
        {
          "output_type": "stream",
          "name": "stdout",
          "text": [
            "tensor([[0.8823, 0.9150, 0.3829, 0.9593],\n",
            "        [0.3904, 0.6009, 0.2566, 0.7936]])\n",
            "tensor([[0.8823, 0.9150, 0.3829, 0.9593],\n",
            "        [0.3904, 0.6009, 0.2566, 0.7936]])\n",
            "tensor([[True, True, True, True],\n",
            "        [True, True, True, True]])\n"
          ]
        }
      ]
    },
    {
      "cell_type": "code",
      "source": [],
      "metadata": {
        "id": "_etmnZbqGafv"
      },
      "execution_count": null,
      "outputs": []
    },
    {
      "cell_type": "code",
      "source": [],
      "metadata": {
        "id": "MvUsCm49GbDB"
      },
      "execution_count": null,
      "outputs": []
    },
    {
      "cell_type": "markdown",
      "source": [
        "# GPU: Graphic User Interface:  \n",
        "Running pytorch and tensor on the GPU to make the computations faster\n",
        "\n",
        "GPUs = faster computations on numbers , credit goes to the CUDA , NVIDIA hardware and Pytorch running behind the scenes to make everything good\n",
        "\n",
        "Different ways to get or use the gpus :\n",
        "  - Free gpu on google colab\n",
        "  - set the gpu on your own system , this need setup and investments\n",
        "  -rent the divices from platforms like AWS , Azure (cloud computing)\n"
      ],
      "metadata": {
        "id": "KyQZlnY7BPb5"
      }
    },
    {
      "cell_type": "code",
      "source": [
        "!nvidia-smi"
      ],
      "metadata": {
        "id": "iDyNSoIPLSLE",
        "outputId": "31507aa9-4b6d-47e6-d9ae-a20bae2e60c6",
        "colab": {
          "base_uri": "https://localhost:8080/"
        }
      },
      "execution_count": 14,
      "outputs": [
        {
          "output_type": "stream",
          "name": "stdout",
          "text": [
            "Tue Jul  8 13:15:08 2025       \n",
            "+-----------------------------------------------------------------------------------------+\n",
            "| NVIDIA-SMI 550.54.15              Driver Version: 550.54.15      CUDA Version: 12.4     |\n",
            "|-----------------------------------------+------------------------+----------------------+\n",
            "| GPU  Name                 Persistence-M | Bus-Id          Disp.A | Volatile Uncorr. ECC |\n",
            "| Fan  Temp   Perf          Pwr:Usage/Cap |           Memory-Usage | GPU-Util  Compute M. |\n",
            "|                                         |                        |               MIG M. |\n",
            "|=========================================+========================+======================|\n",
            "|   0  Tesla T4                       Off |   00000000:00:04.0 Off |                    0 |\n",
            "| N/A   67C    P0             30W /   70W |     104MiB /  15360MiB |      0%      Default |\n",
            "|                                         |                        |                  N/A |\n",
            "+-----------------------------------------+------------------------+----------------------+\n",
            "                                                                                         \n",
            "+-----------------------------------------------------------------------------------------+\n",
            "| Processes:                                                                              |\n",
            "|  GPU   GI   CI        PID   Type   Process name                              GPU Memory |\n",
            "|        ID   ID                                                               Usage      |\n",
            "|=========================================================================================|\n",
            "+-----------------------------------------------------------------------------------------+\n"
          ]
        }
      ]
    },
    {
      "cell_type": "code",
      "source": [
        "#here in our case , we are run our tensors on the colab free gpu\n",
        "#first we need to check whether gpu is present or not . in oder to do so:\n",
        "\n",
        "import torch\n",
        "torch.cuda.is_available()\n",
        "#it return true , which means GPU is available"
      ],
      "metadata": {
        "id": "5S4w90VWGjPp",
        "outputId": "46ab3432-8339-42a6-a3ba-a7e3928c25ea",
        "colab": {
          "base_uri": "https://localhost:8080/"
        }
      },
      "execution_count": 1,
      "outputs": [
        {
          "output_type": "execute_result",
          "data": {
            "text/plain": [
              "True"
            ]
          },
          "metadata": {},
          "execution_count": 1
        }
      ]
    },
    {
      "cell_type": "code",
      "source": [
        "Tensor_on_cpu = torch.tensor([1,9,20])\n",
        "Tensor_on_cpu.device\n",
        "#by default our tensor is running on the cpu , we will set the device to gpu now\n"
      ],
      "metadata": {
        "id": "cd6JvjosIHg9",
        "outputId": "b5e2f324-97d1-40fb-d35a-51d7533d6c37",
        "colab": {
          "base_uri": "https://localhost:8080/"
        }
      },
      "execution_count": 6,
      "outputs": [
        {
          "output_type": "execute_result",
          "data": {
            "text/plain": [
              "device(type='cpu')"
            ]
          },
          "metadata": {},
          "execution_count": 6
        }
      ]
    },
    {
      "cell_type": "code",
      "source": [
        "#setup device agnostic code\n",
        "device =  \"cuda\" if torch.cuda.is_available() else \"cpu\"\n",
        "device"
      ],
      "metadata": {
        "id": "d1vjXPfrITVV",
        "outputId": "dcb772b9-9950-473e-8017-90736de90e55",
        "colab": {
          "base_uri": "https://localhost:8080/",
          "height": 35
        }
      },
      "execution_count": 3,
      "outputs": [
        {
          "output_type": "execute_result",
          "data": {
            "text/plain": [
              "'cuda'"
            ],
            "application/vnd.google.colaboratory.intrinsic+json": {
              "type": "string"
            }
          },
          "metadata": {},
          "execution_count": 3
        }
      ]
    },
    {
      "cell_type": "code",
      "source": [
        "#counting the number of devices\n",
        "torch.cuda.device_count()\n",
        "\n",
        "#this is needed to make a startegy that different models or tensors to run on different devices"
      ],
      "metadata": {
        "id": "iWoKrAnYI5M3",
        "outputId": "f39f5c81-a6e4-4f34-8386-93e6fc0cd590",
        "colab": {
          "base_uri": "https://localhost:8080/"
        }
      },
      "execution_count": 5,
      "outputs": [
        {
          "output_type": "execute_result",
          "data": {
            "text/plain": [
              "1"
            ]
          },
          "metadata": {},
          "execution_count": 5
        }
      ]
    },
    {
      "cell_type": "code",
      "source": [
        "#now that we have set the device to cpu and riiunning the tensors on GPU\n",
        "#the reason we need GPU is that they are very fast on numerical calculations\n",
        "# moving the tensor from cpu to gpu\n",
        "#using to function to passing the tensor to the target device i.e gpu\n",
        "\n",
        "Tensor_on_gpu = Tensor_on_cpu.to(device)\n",
        "Tensor_on_gpu.device"
      ],
      "metadata": {
        "id": "egDjirl3Iy7Z",
        "outputId": "d81ce7a6-5311-4be8-c709-6a84609d8269",
        "colab": {
          "base_uri": "https://localhost:8080/"
        }
      },
      "execution_count": 7,
      "outputs": [
        {
          "output_type": "execute_result",
          "data": {
            "text/plain": [
              "device(type='cuda', index=0)"
            ]
          },
          "metadata": {},
          "execution_count": 7
        }
      ]
    },
    {
      "cell_type": "code",
      "source": [
        "#note: numpy array only works on cpu . Thus we need to transfer the torch from gpu to cpu\n",
        "\n",
        "Tensor_on_gpu.numpy()"
      ],
      "metadata": {
        "id": "SNi4Z9QxJ8OY",
        "outputId": "981c92ef-0738-416b-986c-f4730ec121f4",
        "colab": {
          "base_uri": "https://localhost:8080/",
          "height": 211
        }
      },
      "execution_count": 8,
      "outputs": [
        {
          "output_type": "error",
          "ename": "TypeError",
          "evalue": "can't convert cuda:0 device type tensor to numpy. Use Tensor.cpu() to copy the tensor to host memory first.",
          "traceback": [
            "\u001b[0;31m---------------------------------------------------------------------------\u001b[0m",
            "\u001b[0;31mTypeError\u001b[0m                                 Traceback (most recent call last)",
            "\u001b[0;32m/tmp/ipython-input-8-3729500042.py\u001b[0m in \u001b[0;36m<cell line: 0>\u001b[0;34m()\u001b[0m\n\u001b[1;32m      1\u001b[0m \u001b[0;31m#note: numpy array only works on cpu . Thus we need to transfer the torch from gpu to cpu\u001b[0m\u001b[0;34m\u001b[0m\u001b[0;34m\u001b[0m\u001b[0m\n\u001b[1;32m      2\u001b[0m \u001b[0;34m\u001b[0m\u001b[0m\n\u001b[0;32m----> 3\u001b[0;31m \u001b[0mTensor_on_gpu\u001b[0m\u001b[0;34m.\u001b[0m\u001b[0mnumpy\u001b[0m\u001b[0;34m(\u001b[0m\u001b[0;34m)\u001b[0m\u001b[0;34m\u001b[0m\u001b[0;34m\u001b[0m\u001b[0m\n\u001b[0m",
            "\u001b[0;31mTypeError\u001b[0m: can't convert cuda:0 device type tensor to numpy. Use Tensor.cpu() to copy the tensor to host memory first."
          ]
        }
      ]
    },
    {
      "cell_type": "code",
      "source": [
        " #to solve the issue , we need to fall back to cpu\n",
        " tensor_back_on_cpu = Tensor_on_gpu.cpu()\n",
        ""
      ],
      "metadata": {
        "id": "9jd-GI0FKbMV"
      },
      "execution_count": 13,
      "outputs": []
    },
    {
      "cell_type": "code",
      "source": [
        "array_from_tensor = tensor_back_on_cpu.numpy()\n",
        "array_from_tensor"
      ],
      "metadata": {
        "id": "sjREkTZUKxxF",
        "outputId": "81a01cf6-fc7b-4c66-f00d-1b5cb0b4d427",
        "colab": {
          "base_uri": "https://localhost:8080/"
        }
      },
      "execution_count": 12,
      "outputs": [
        {
          "output_type": "execute_result",
          "data": {
            "text/plain": [
              "array([ 1,  9, 20])"
            ]
          },
          "metadata": {},
          "execution_count": 12
        }
      ]
    },
    {
      "cell_type": "code",
      "source": [],
      "metadata": {
        "id": "CLgtxKuZLA2c"
      },
      "execution_count": null,
      "outputs": []
    }
  ]
}