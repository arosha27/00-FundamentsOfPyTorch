{
  "nbformat": 4,
  "nbformat_minor": 0,
  "metadata": {
    "colab": {
      "provenance": [],
      "authorship_tag": "ABX9TyOQKKge2n54QZ3utmUgxvPE",
      "include_colab_link": true
    },
    "kernelspec": {
      "name": "python3",
      "display_name": "Python 3"
    },
    "language_info": {
      "name": "python"
    }
  },
  "cells": [
    {
      "cell_type": "markdown",
      "metadata": {
        "id": "view-in-github",
        "colab_type": "text"
      },
      "source": [
        "<a href=\"https://colab.research.google.com/github/arosha27/00-FundamentsOfPyTorch/blob/main/01_PyTorchWorkflow.ipynb\" target=\"_parent\"><img src=\"https://colab.research.google.com/assets/colab-badge.svg\" alt=\"Open In Colab\"/></a>"
      ]
    },
    {
      "cell_type": "code",
      "execution_count": 2,
      "metadata": {
        "id": "ehlz8CXzr_t3"
      },
      "outputs": [],
      "source": [
        "#Pytorch workflow:\n",
        "what_we_covering = { 1: \"Data(prepare and load)\",\n",
        "                     2: \"build model\",\n",
        "                     3: \"fitting the model to data(training)\",\n",
        "                     4: \"making predictions and evaluating a model(inferreence)\",\n",
        "                     5: \"saving and reloading the model\",\n",
        "                     6: \"putting it all together\"\n",
        "}"
      ]
    },
    {
      "cell_type": "code",
      "source": [
        "import torch\n",
        "from torch import nn #nn is the building block of pyTorch for building neural networks\n",
        "import matplotlib.pyplot as plt\n",
        "print(torch.__version__)\n"
      ],
      "metadata": {
        "colab": {
          "base_uri": "https://localhost:8080/"
        },
        "id": "ulmWhPH0tOpK",
        "outputId": "e8c41e75-7bcf-46e3-bdc7-e196a3891993"
      },
      "execution_count": 3,
      "outputs": [
        {
          "output_type": "stream",
          "name": "stdout",
          "text": [
            "2.6.0+cu124\n"
          ]
        }
      ]
    },
    {
      "cell_type": "markdown",
      "source": [
        "# Data ( Preparing & Loading )"
      ],
      "metadata": {
        "id": "UXBt0O_rx4yd"
      }
    },
    {
      "cell_type": "markdown",
      "source": [
        "**Ist Step of PyTorch workflow :** **Data**\n",
        "Data can be anything like:\n",
        "text\n",
        "images\n",
        "audio\n",
        "vedios\n",
        "DNA\n",
        "\n",
        "Machine Learning is majorly game of two parts:\n",
        " - Getting a numerical representation of the input data.\n",
        " - building or using pretrained model to learn the patterns from that data representation to produce the output\n",
        "\n",
        "To showcase this , let's create some known data using the linear regression formula\n",
        " - y = wx + b\n",
        " x = explainatory variable\n",
        " y = dependent variable\n",
        " b= bias\n",
        " w = weight\n",
        "  we will use a linear regression formula to make straight line with known parameters."
      ],
      "metadata": {
        "id": "abiBaPpbtcll"
      }
    },
    {
      "cell_type": "code",
      "source": [
        "#Data(preparing and loading)\n",
        "\n",
        "w = 0.7\n",
        "b = 0.3\n",
        "\n",
        "# we want to create a model which can estimate these numbers ( w & b)\n",
        "X = torch.arange(0 , 1 , 0.02).unsqueeze(dim=1)\n",
        "y = (w * X) + b\n",
        "\n",
        "#getting a preview of the X and y by printing first 10 values of both\n",
        "\n",
        "X[:10] , y[:10]"
      ],
      "metadata": {
        "colab": {
          "base_uri": "https://localhost:8080/"
        },
        "id": "sS9pYvC7t3EA",
        "outputId": "5cf112ce-7952-491c-9e82-678835362d06"
      },
      "execution_count": 4,
      "outputs": [
        {
          "output_type": "execute_result",
          "data": {
            "text/plain": [
              "(tensor([[0.0000],\n",
              "         [0.0200],\n",
              "         [0.0400],\n",
              "         [0.0600],\n",
              "         [0.0800],\n",
              "         [0.1000],\n",
              "         [0.1200],\n",
              "         [0.1400],\n",
              "         [0.1600],\n",
              "         [0.1800]]),\n",
              " tensor([[0.3000],\n",
              "         [0.3140],\n",
              "         [0.3280],\n",
              "         [0.3420],\n",
              "         [0.3560],\n",
              "         [0.3700],\n",
              "         [0.3840],\n",
              "         [0.3980],\n",
              "         [0.4120],\n",
              "         [0.4260]]))"
            ]
          },
          "metadata": {},
          "execution_count": 4
        }
      ]
    },
    {
      "cell_type": "code",
      "source": [
        "len(X)  , len(y)\n",
        "#so we got 50 features and 50 labels for them"
      ],
      "metadata": {
        "colab": {
          "base_uri": "https://localhost:8080/"
        },
        "id": "nw3w1IGwvjaP",
        "outputId": "14e2c7a7-6d6d-4baf-9332-69327d2b583f"
      },
      "execution_count": 5,
      "outputs": [
        {
          "output_type": "execute_result",
          "data": {
            "text/plain": [
              "(50, 50)"
            ]
          },
          "metadata": {},
          "execution_count": 5
        }
      ]
    },
    {
      "cell_type": "markdown",
      "source": [
        "# Splitting the data\n",
        "Lets split our data into training and testing set :\n",
        "- 80% data for training\n",
        "- 20% data for testing"
      ],
      "metadata": {
        "id": "CqoDMlKBxqD9"
      }
    },
    {
      "cell_type": "code",
      "source": [
        "#splitting this data into training and testing sets or splits(one of the most improtant concept in ML in general)\n",
        "#create a train/test split\n",
        "#we need 40 amples of X and 40 samples of y (in total 80 samples from training data )\n",
        "\n",
        "#Training split\n",
        "train_split= int(0.8 * len(X))\n",
        "X_train , y_train = X[:train_split] , y[:train_split]\n",
        "#testing split\n",
        "X_test , y_test = X[train_split:] , y[train_split:]\n",
        "\n",
        "#to confirm is the split occur correctly\n",
        "len(X_train) ,len(y_train) , len(X_test) , len(y_test)\n"
      ],
      "metadata": {
        "colab": {
          "base_uri": "https://localhost:8080/"
        },
        "id": "sMikcsrXw2Co",
        "outputId": "f9c901ef-4aad-4e1d-913e-aeabfa18a6fd"
      },
      "execution_count": 6,
      "outputs": [
        {
          "output_type": "execute_result",
          "data": {
            "text/plain": [
              "(40, 40, 10, 10)"
            ]
          },
          "metadata": {},
          "execution_count": 6
        }
      ]
    },
    {
      "cell_type": "markdown",
      "source": [
        "**Exploring the data** : Visiualize , visiualize , visiulaize\n"
      ],
      "metadata": {
        "id": "hrrT36GNxM9Y"
      }
    },
    {
      "cell_type": "code",
      "source": [
        "def plot_predictions(\n",
        "    train_features= X_train,\n",
        "    train_labels = y_train,\n",
        "    test_features = X_test,\n",
        "    test_labels = y_test,\n",
        "    predictions = None\n",
        "):\n",
        "  \"\"\" plot the training data , test data and compares predictions \"\"\"\n",
        "\n",
        "  plt.figure(figsize=(10,7))\n",
        "\n",
        "  # Ploting the training data in blue\n",
        "  plt.scatter(train_features , train_labels , c = 'b', s=12,label=\"Training Data\")\n",
        "\n",
        "  #Ploting the testing data\n",
        "  plt.scatter(test_features, test_labels , c= \"g\" ,s=12,  label = \"Testing Data\")\n",
        "\n",
        "##Ploting the predictions\n",
        "  if predictions is not None:\n",
        "  #plot the predictions if they are not none\n",
        "    plt.scatter(test_features , predictions , c = \"r\" ,s=12, label = \"Predictions\")\n",
        "\n",
        "  plt.legend(prop = {\"size\": 15})\n"
      ],
      "metadata": {
        "id": "DmBDPIHzz6yE"
      },
      "execution_count": 7,
      "outputs": []
    },
    {
      "cell_type": "code",
      "source": [
        "plot_predictions()"
      ],
      "metadata": {
        "colab": {
          "base_uri": "https://localhost:8080/",
          "height": 599
        },
        "id": "Wj7bsByh3wZZ",
        "outputId": "fdc26c3d-e975-498b-de63-b79d9aa28b5e"
      },
      "execution_count": 8,
      "outputs": [
        {
          "output_type": "display_data",
          "data": {
            "text/plain": [
              "<Figure size 1000x700 with 1 Axes>"
            ],
            "image/png": "[encoded data removed]"
          },
          "metadata": {}
        }
      ]
    },
    {
      "cell_type": "code",
      "source": [
        "#note : red dots are not present as presdictions are not present."
      ],
      "metadata": {
        "id": "1u0leLrx3GzJ"
      },
      "execution_count": 9,
      "outputs": []
    },
    {
      "cell_type": "markdown",
      "source": [
        "# Model Building\n",
        "\n",
        " - 2nd step in PyTorch workflow\n",
        "\n",
        "**What our model does:**\n",
        "\n",
        "- The model starts with the random values of weights and biases\n",
        "- Look at the training data and adjust these weights and biases trying to make them get closer to creating a best fit line\n",
        "\n",
        "**How does the model do so?**\n",
        "\n",
        "- Gradient Descent\n",
        "- Backpropagation"
      ],
      "metadata": {
        "id": "CT3ESFJC4mSZ"
      }
    },
    {
      "cell_type": "code",
      "source": [
        "#create a linear regression model class\n",
        "#our class LinearRegressionModel inherets fron the nn.Model\n",
        "#almost everthing in pyTorch inherits from nn.Module\n",
        "# nn Module is the base class for all the neural networks\n",
        "\n",
        "class LinearRegressionModel(nn.Module):\n",
        "  def __init__(self):\n",
        "    super().__init__()\n",
        "\n",
        "    self.weight = nn.Parameter(torch.randn(1,  #start with the random weight and then try to adjust\n",
        "                                           requires_grad = True, #can this parameter be undated via gradien descent\n",
        "                                           dtype= torch.float #by default the tensor data type is float32\n",
        "                                           ))\n",
        "    self.bias = nn.Parameter(torch.randn(1,\n",
        "                                         requires_grad = True,\n",
        "                                         dtype= torch.float\n",
        "                                         ))\n",
        "\n",
        "    #forward method defines the computation in the model\n",
        "    #this method will takes a tensor as an input and outputs a tensor\n",
        "\n",
        "  def forward(self, x: torch.Tensor) -> torch.Tensor: #where x is the input data\n",
        "    return (self.weight * x) + self.bias\n",
        "\n",
        "\n",
        "# torch.manual_seed(42)\n",
        "# model_0 = LinearRegressionModel()"
      ],
      "metadata": {
        "id": "PgvPRJrn4pQg"
      },
      "execution_count": 10,
      "outputs": []
    },
    {
      "cell_type": "markdown",
      "source": [
        "## PyTorch Model Building Essentials:\n",
        " 1. **torch.nn: **building block of computational graphs (another anme for neural networks)\n",
        " 2.** torch.nn.Parameter : **what parameters our model should try and learn,often PyTorch layer from torch.nn will set these for usage\n",
        " 3. **torch.nn.Module :** This is the base class for all the neural networks modules .If you subclass it , you need a override forward()\n",
        " 4.** torch.optim :** this is where the optimizer in Pytorch lives , which will help with gradient descent and reducing the loss\n",
        " 5. **def forward() :** in nn.Module subclasses , you must overwrite forward() . This is for the computations\n",
        " 5. **torch.utils.data.Dataset ** - for complicated datasets\n",
        " 6. **torch.utils.data.DataLoader** - for complicated datasets\n",
        "\n",
        "\n",
        "\n",
        "\n"
      ],
      "metadata": {
        "id": "nIbEHPzv5LYx"
      }
    },
    {
      "cell_type": "markdown",
      "source": [
        "Different essentials at different satges of PyTorch workflow:\n",
        " for getting our data ready we use:\n",
        "  - torchvision.tranforms\n",
        "  - torch.utils.data.Dataset\n",
        "  - torch.utils.data.DataLoader\n",
        "  for building or picking a pre-trained model:\n",
        "  - pick loss function & optimizer\n",
        "    - torch.nn\n",
        "    - torch.nn.Module\n",
        "    - torchvision.modules\n",
        "  - optimizer for optimizing model Parameters\n",
        "    - torch.optim\n",
        "  for evaluating the model :\n",
        "    -torchmetrics\n",
        "  for improvements :\n",
        "    - torch.utils.tensorboard\n"
      ],
      "metadata": {
        "id": "ZRyvwIDTN5kv"
      }
    },
    {
      "cell_type": "markdown",
      "source": [
        "*check what 's exactly inside our model*\n",
        "# Checking the content of the PyTorch Model\n",
        " In order to find the parameters or of the content of the model , we use parameters() method\n"
      ],
      "metadata": {
        "id": "Ct1-7CuhSJsm"
      }
    },
    {
      "cell_type": "code",
      "source": [
        "#setting the random_seed value as we have created our parameters using randn method which will create random parameters values everytime we run that cell or call that function.To create reproducibility , we set the manual_seed befor running the function.\n",
        "torch.manual_seed(42)\n",
        "#instantiate the class\n",
        "model_0 = LinearRegressionModel()\n",
        "list(model_0.parameters())"
      ],
      "metadata": {
        "colab": {
          "base_uri": "https://localhost:8080/"
        },
        "id": "Q4JfsIlVSZi6",
        "outputId": "47eb7a19-c180-4acf-8533-5f1fbae7749d"
      },
      "execution_count": 11,
      "outputs": [
        {
          "output_type": "execute_result",
          "data": {
            "text/plain": [
              "[Parameter containing:\n",
              " tensor([0.3367], requires_grad=True),\n",
              " Parameter containing:\n",
              " tensor([0.1288], requires_grad=True)]"
            ]
          },
          "metadata": {},
          "execution_count": 11
        }
      ]
    },
    {
      "cell_type": "code",
      "source": [
        "#List Named Parameters\n",
        "#for betting clear output to get better idea of which one is for weight and which one is for bias\n",
        "model_0.state_dict()"
      ],
      "metadata": {
        "colab": {
          "base_uri": "https://localhost:8080/"
        },
        "id": "76uIMSbFTXSB",
        "outputId": "70ae520f-ab36-4902-db78-a2da4e026a87"
      },
      "execution_count": 12,
      "outputs": [
        {
          "output_type": "execute_result",
          "data": {
            "text/plain": [
              "OrderedDict([('weight', tensor([0.3367])), ('bias', tensor([0.1288]))])"
            ]
          },
          "metadata": {},
          "execution_count": 12
        }
      ]
    },
    {
      "cell_type": "markdown",
      "source": [
        "**The entire foundation of deep learning is :**\n",
        "- starting with some random values\n",
        "- using gradient descent , back propagation and our data to move these values to ideal values for **weights** and **biases** without knowing what ideal values are\n",
        "\n",
        "Note :In our case , we know what ideal values are"
      ],
      "metadata": {
        "id": "fKJSFOFHUB61"
      }
    },
    {
      "cell_type": "markdown",
      "source": [
        "# Making Prediction on Test Data in PyTorch inference Mode\n",
        " - we use the PyTorch inference mode because under this mode the model will just predict the y-test based on x-train intead of doing backpropagation for finding optimal parameters\n",
        "\n"
      ],
      "metadata": {
        "id": "IcDfi9GhXfcD"
      }
    },
    {
      "cell_type": "code",
      "source": [
        "with torch.inference_mode():\n",
        "  y_preds = model_0(X_test)\n",
        "\n",
        "y_preds\n",
        "\n",
        "#another alternative of making th prediction\n",
        "# with torch.no_grad():\n",
        "#   y_preds = model_0(X_text)"
      ],
      "metadata": {
        "colab": {
          "base_uri": "https://localhost:8080/"
        },
        "id": "0WzmgUyscVWX",
        "outputId": "7e0542a5-3aa4-4a60-c7c1-cc22948d8613"
      },
      "execution_count": 13,
      "outputs": [
        {
          "output_type": "execute_result",
          "data": {
            "text/plain": [
              "tensor([[0.3982],\n",
              "        [0.4049],\n",
              "        [0.4116],\n",
              "        [0.4184],\n",
              "        [0.4251],\n",
              "        [0.4318],\n",
              "        [0.4386],\n",
              "        [0.4453],\n",
              "        [0.4520],\n",
              "        [0.4588]])"
            ]
          },
          "metadata": {},
          "execution_count": 13
        }
      ]
    },
    {
      "cell_type": "markdown",
      "source": [
        "**Note :**The puprose of doing the predictions under the torch.inference_mode() is to make the testing process or predictions faster by stoping all other backgorund processes like backpropagation and just focusing on making predictions"
      ],
      "metadata": {
        "id": "mSpjjilwe9O7"
      }
    },
    {
      "cell_type": "code",
      "source": [
        "#check how far model predictions are from the actual values (ground truth) i.e y_test by plotting to get a better idea of it\n",
        "\n",
        "plot_predictions(predictions= y_preds)"
      ],
      "metadata": {
        "colab": {
          "base_uri": "https://localhost:8080/",
          "height": 599
        },
        "id": "6ASlBsq-cuWG",
        "outputId": "edd9b676-44d7-42c3-f89d-8060f10d345f"
      },
      "execution_count": 14,
      "outputs": [
        {
          "output_type": "display_data",
          "data": {
            "text/plain": [
              "<Figure size 1000x700 with 1 Axes>"
            ],
            "image/png": "[encoded data removed]"
          },
          "metadata": {}
        }
      ]
    },
    {
      "cell_type": "markdown",
      "source": [
        "Note : The scatter plot shows that we are far from the actual values . thus we need t adjust the weights and biases that way to get closer to actual green dots in the graph\n"
      ],
      "metadata": {
        "id": "OhrZmLeLd6UB"
      }
    },
    {
      "cell_type": "markdown",
      "source": [
        "#Model Training\n",
        "\n",
        "The whole idea of model training is fro a model to move from some unknown parameters to known or ideal parameters\n",
        "\n",
        "OR\n",
        "\n",
        "to move from poor representation of data to good represenataton of data\n",
        "\n",
        "- In order to measure how wrong or poor our model predictions are , we use a loss function\n",
        "- it is also known as cost function or creterion in some area .\n",
        "- it is difference between the actual values and predicted values,lower is better\n",
        "_ torch.nn provides a lot of loss functions\n",
        "\n",
        "**Things we need to train our model:**\n",
        "1.** loss function :**actual vlaues - predicted valuesn\n",
        "2.** optimizer :** based on loss , it adjusts the parameters (weights and biases) and will imporve the loss\n"
      ],
      "metadata": {
        "id": "UTqCPQp-haXP"
      }
    },
    {
      "cell_type": "markdown",
      "source": [
        "## Loss Function and Optimizer"
      ],
      "metadata": {
        "id": "lGgF_i6ooWs1"
      }
    },
    {
      "cell_type": "code",
      "source": [
        "loss_fn = nn.L1Loss() # L1Loss is the MAE in pytorch\n",
        "optimizer = torch.optim.SGD(params = model_0.parameters(),\n",
        "                         lr = 0.01)\n",
        "#lr is the learning rate , can say it is the most important hyperparameter .It controls the speed of updating or adjusting the parameters\n"
      ],
      "metadata": {
        "id": "n3fYHsx3omUW"
      },
      "execution_count": 15,
      "outputs": []
    },
    {
      "cell_type": "markdown",
      "source": [
        "Q.Which loss function and optimizers should be used ?\n",
        "\n",
        "A. This is problem specific .\n",
        "- For Regression problems , we use nn.\n",
        "- L1Loss and torch.optim.SGD etc\n",
        "For classification , we use nn.BCELoss"
      ],
      "metadata": {
        "id": "jpiR43zLpqUR"
      }
    },
    {
      "cell_type": "markdown",
      "source": [
        "Parameters VS Hyperparameters\n",
        "- parameter is the value the model set\n",
        "- hyperparameter is the value we data scientists set"
      ],
      "metadata": {
        "id": "V7rhtETZqEMm"
      }
    },
    {
      "cell_type": "markdown",
      "source": [
        "## Building a Training Loop(Testing loop) In PyTorch"
      ],
      "metadata": {
        "id": "-qXAfklRqtX8"
      }
    },
    {
      "cell_type": "markdown",
      "source": [
        "In training loop , we need to do a few things:\n",
        "0. Loop through the data\n",
        "1. Forward Propagation : Do a forward pass .ie move from input layers to output layers via forward() function which is used to calculate the predictions\n",
        "2. calculte the loss via loss function i.e difference between actual output and the prediction .In our case (y_preds - y_test)\n",
        "3. Optimizer zero grad\n",
        "4. Backward Propagation: Move in backward direction from output layer and find the gradient for each parameter based on loss calculated.\n",
        "5. Optimize the parameter values to minimize the loss (gradient descent)\n",
        "\n",
        "\n",
        "**Note: some important concepts:**\n",
        "\n",
        "gradient is the slop i.e change in X by change in y.Understand it by keeping the visiual of a hill . At the very top of the hill , the gradient is too high , we need to move downward from the steep slop utill steepness becomes 0 or near zero , and the loss is the vertical distance from the steep slop to the ground or earth 's surpase . As gradient decreases , the loss also decreases.\n"
      ],
      "metadata": {
        "id": "w3a2joh7qQ0r"
      }
    },
    {
      "cell_type": "code",
      "source": [],
      "metadata": {
        "id": "DbHmF93J85UM"
      },
      "execution_count": 15,
      "outputs": []
    },
    {
      "cell_type": "code",
      "source": [
        "\n",
        " torch.manual_seed(42)\n",
        "\n",
        " epochs = 200 # epocs is the number of times our model is traversing over our data\n",
        "\n",
        " epochs_counts =[]\n",
        " train_loss_values = []\n",
        " test_loss_values = []\n",
        "\n",
        "#0. loop over the data\n",
        "\n",
        "for epoch in range(epochs):\n",
        "\n",
        "  #1.Training The Model\n",
        "  # the train mode in PyTorch sets all the parameters that gradients requires\n",
        "\n",
        "  model_0.train()\n",
        "  #1.Do a foward pass\n",
        "  y_pred = model_0(X_train)\n",
        "\n",
        "  #1.Find Loss\n",
        "  loss= loss_fn(y_pred,y_train)\n",
        "\n",
        "\n",
        "\n",
        "  #3.optimizer zero grad i.e setting the optimzer 0 every time entering in the loop to avoids the accomulates which might affect the new gradiends values\n",
        "  optimizer.zero_grad()\n",
        "\n",
        "  #4.back propagation to find the gradients for each parameter\n",
        "  loss.backward()\n",
        "\n",
        "  #5.step the optimizer i.e calculate the next weight and bias value based on loss calculated\n",
        "  optimizer.step()\n",
        "\n",
        "\n",
        "  model_0.eval() #turn off differnt settings in the model which are not needed for testing/evaluation\n",
        "  with torch.inference_mode(): # turn off gradient tracking & a couple of more things behind the scenes\n",
        "    test_pred = model_0(X_test)\n",
        "\n",
        "    #calculate loss for prediction\n",
        "    test_loss = loss_fn(test_pred , y_test)\n",
        "\n",
        "    #printing what is happening:\n",
        "    if epoch % 10 ==0:\n",
        "\n",
        "      #for keeping track of the model training and predictions\n",
        "\n",
        "      epochs_counts.append(epoch)\n",
        "      train_loss_values.append(loss)\n",
        "      test_loss_values.append(test_loss)\n",
        "\n",
        "      print(f\"Epoch: {epoch} | Loss: {loss} | Test loss : {test_loss}\")\n",
        "      #print out model state i.e parameters\n",
        "      print(model_0.state_dict())\n",
        "\n",
        "\n"
      ],
      "metadata": {
        "id": "GpXMaKBEv3tg",
        "outputId": "bf4ce23b-f3fa-4e7f-dd4e-2972b88df86f",
        "colab": {
          "base_uri": "https://localhost:8080/"
        }
      },
      "execution_count": 16,
      "outputs": [
        {
          "output_type": "stream",
          "name": "stdout",
          "text": [
            "Epoch: 0 | Loss: 0.31288138031959534 | Test loss : 0.48106518387794495\n",
            "OrderedDict([('weight', tensor([0.3406])), ('bias', tensor([0.1388]))])\n",
            "Epoch: 10 | Loss: 0.1976713240146637 | Test loss : 0.3463551998138428\n",
            "OrderedDict([('weight', tensor([0.3796])), ('bias', tensor([0.2388]))])\n",
            "Epoch: 20 | Loss: 0.08908725529909134 | Test loss : 0.21729660034179688\n",
            "OrderedDict([('weight', tensor([0.4184])), ('bias', tensor([0.3333]))])\n",
            "Epoch: 30 | Loss: 0.053148526698350906 | Test loss : 0.14464017748832703\n",
            "OrderedDict([('weight', tensor([0.4512])), ('bias', tensor([0.3768]))])\n",
            "Epoch: 40 | Loss: 0.04543796554207802 | Test loss : 0.11360953003168106\n",
            "OrderedDict([('weight', tensor([0.4748])), ('bias', tensor([0.3868]))])\n",
            "Epoch: 50 | Loss: 0.04167863354086876 | Test loss : 0.09919948130846024\n",
            "OrderedDict([('weight', tensor([0.4938])), ('bias', tensor([0.3843]))])\n",
            "Epoch: 60 | Loss: 0.03818932920694351 | Test loss : 0.08886633068323135\n",
            "OrderedDict([('weight', tensor([0.5116])), ('bias', tensor([0.3788]))])\n",
            "Epoch: 70 | Loss: 0.03476089984178543 | Test loss : 0.0805937647819519\n",
            "OrderedDict([('weight', tensor([0.5288])), ('bias', tensor([0.3718]))])\n",
            "Epoch: 80 | Loss: 0.03132382780313492 | Test loss : 0.07232122868299484\n",
            "OrderedDict([('weight', tensor([0.5459])), ('bias', tensor([0.3648]))])\n",
            "Epoch: 90 | Loss: 0.02788739837706089 | Test loss : 0.06473556160926819\n",
            "OrderedDict([('weight', tensor([0.5629])), ('bias', tensor([0.3573]))])\n",
            "Epoch: 100 | Loss: 0.024458957836031914 | Test loss : 0.05646304413676262\n",
            "OrderedDict([('weight', tensor([0.5800])), ('bias', tensor([0.3503]))])\n",
            "Epoch: 110 | Loss: 0.021020207554101944 | Test loss : 0.04819049686193466\n",
            "OrderedDict([('weight', tensor([0.5972])), ('bias', tensor([0.3433]))])\n",
            "Epoch: 120 | Loss: 0.01758546568453312 | Test loss : 0.04060482233762741\n",
            "OrderedDict([('weight', tensor([0.6141])), ('bias', tensor([0.3358]))])\n",
            "Epoch: 130 | Loss: 0.014155393466353416 | Test loss : 0.03233227878808975\n",
            "OrderedDict([('weight', tensor([0.6313])), ('bias', tensor([0.3288]))])\n",
            "Epoch: 140 | Loss: 0.010716589167714119 | Test loss : 0.024059748277068138\n",
            "OrderedDict([('weight', tensor([0.6485])), ('bias', tensor([0.3218]))])\n",
            "Epoch: 150 | Loss: 0.0072835334576666355 | Test loss : 0.016474086791276932\n",
            "OrderedDict([('weight', tensor([0.6654])), ('bias', tensor([0.3143]))])\n",
            "Epoch: 160 | Loss: 0.0038517764769494534 | Test loss : 0.008201557211577892\n",
            "OrderedDict([('weight', tensor([0.6826])), ('bias', tensor([0.3073]))])\n",
            "Epoch: 170 | Loss: 0.008932482451200485 | Test loss : 0.005023092031478882\n",
            "OrderedDict([('weight', tensor([0.6951])), ('bias', tensor([0.2993]))])\n",
            "Epoch: 180 | Loss: 0.008932482451200485 | Test loss : 0.005023092031478882\n",
            "OrderedDict([('weight', tensor([0.6951])), ('bias', tensor([0.2993]))])\n",
            "Epoch: 190 | Loss: 0.008932482451200485 | Test loss : 0.005023092031478882\n",
            "OrderedDict([('weight', tensor([0.6951])), ('bias', tensor([0.2993]))])\n"
          ]
        }
      ]
    },
    {
      "cell_type": "code",
      "source": [],
      "metadata": {
        "id": "FPNAfD9iDIx8"
      },
      "execution_count": 16,
      "outputs": []
    },
    {
      "cell_type": "markdown",
      "source": [
        "Before Traing loop :\n",
        "\n",
        " OrderedDict([('weight', tensor([0.3367])), ('bias', tensor([0.1288]))])"
      ],
      "metadata": {
        "id": "WlnvNphh-0Y4"
      }
    },
    {
      "cell_type": "code",
      "source": [
        "model_0.state_dict()"
      ],
      "metadata": {
        "id": "gc_qh0YZz5id",
        "outputId": "88ac9c09-1623-4378-8fa1-961a23b37097",
        "colab": {
          "base_uri": "https://localhost:8080/"
        }
      },
      "execution_count": 17,
      "outputs": [
        {
          "output_type": "execute_result",
          "data": {
            "text/plain": [
              "OrderedDict([('weight', tensor([0.6990])), ('bias', tensor([0.3093]))])"
            ]
          },
          "metadata": {},
          "execution_count": 17
        }
      ]
    },
    {
      "cell_type": "code",
      "source": [
        "with torch.inference_mode():\n",
        "  y_pred = model_0(X_test)\n",
        "  y_pred"
      ],
      "metadata": {
        "id": "GDhArY6J_meF"
      },
      "execution_count": 18,
      "outputs": []
    },
    {
      "cell_type": "code",
      "source": [
        "#Testing to check if our model training is good or not"
      ],
      "metadata": {
        "id": "9LRuU-9E_7iO"
      },
      "execution_count": 19,
      "outputs": []
    },
    {
      "cell_type": "code",
      "source": [
        "plot_predictions(predictions = y_pred)"
      ],
      "metadata": {
        "id": "og-0UAKtAQtc",
        "outputId": "30e26e73-0a27-462f-f0ce-7eb18806171b",
        "colab": {
          "base_uri": "https://localhost:8080/",
          "height": 599
        }
      },
      "execution_count": 20,
      "outputs": [
        {
          "output_type": "display_data",
          "data": {
            "text/plain": [
              "<Figure size 1000x700 with 1 Axes>"
            ],
            "image/png": "[encoded data removed]"
          },
          "metadata": {}
        }
      ]
    },
    {
      "cell_type": "code",
      "source": [
        "##Keeping Track of the model's training and evaluation\n",
        "epochs_counts , train_loss_values , test_loss_values"
      ],
      "metadata": {
        "id": "an-LzBfyAZ6D",
        "colab": {
          "base_uri": "https://localhost:8080/"
        },
        "outputId": "0104de0e-022d-4279-ca6a-3b5d327c2d08"
      },
      "execution_count": 21,
      "outputs": [
        {
          "output_type": "execute_result",
          "data": {
            "text/plain": [
              "([0,\n",
              "  10,\n",
              "  20,\n",
              "  30,\n",
              "  40,\n",
              "  50,\n",
              "  60,\n",
              "  70,\n",
              "  80,\n",
              "  90,\n",
              "  100,\n",
              "  110,\n",
              "  120,\n",
              "  130,\n",
              "  140,\n",
              "  150,\n",
              "  160,\n",
              "  170,\n",
              "  180,\n",
              "  190],\n",
              " [tensor(0.3129, grad_fn=<MeanBackward0>),\n",
              "  tensor(0.1977, grad_fn=<MeanBackward0>),\n",
              "  tensor(0.0891, grad_fn=<MeanBackward0>),\n",
              "  tensor(0.0531, grad_fn=<MeanBackward0>),\n",
              "  tensor(0.0454, grad_fn=<MeanBackward0>),\n",
              "  tensor(0.0417, grad_fn=<MeanBackward0>),\n",
              "  tensor(0.0382, grad_fn=<MeanBackward0>),\n",
              "  tensor(0.0348, grad_fn=<MeanBackward0>),\n",
              "  tensor(0.0313, grad_fn=<MeanBackward0>),\n",
              "  tensor(0.0279, grad_fn=<MeanBackward0>),\n",
              "  tensor(0.0245, grad_fn=<MeanBackward0>),\n",
              "  tensor(0.0210, grad_fn=<MeanBackward0>),\n",
              "  tensor(0.0176, grad_fn=<MeanBackward0>),\n",
              "  tensor(0.0142, grad_fn=<MeanBackward0>),\n",
              "  tensor(0.0107, grad_fn=<MeanBackward0>),\n",
              "  tensor(0.0073, grad_fn=<MeanBackward0>),\n",
              "  tensor(0.0039, grad_fn=<MeanBackward0>),\n",
              "  tensor(0.0089, grad_fn=<MeanBackward0>),\n",
              "  tensor(0.0089, grad_fn=<MeanBackward0>),\n",
              "  tensor(0.0089, grad_fn=<MeanBackward0>)],\n",
              " [tensor(0.4811),\n",
              "  tensor(0.3464),\n",
              "  tensor(0.2173),\n",
              "  tensor(0.1446),\n",
              "  tensor(0.1136),\n",
              "  tensor(0.0992),\n",
              "  tensor(0.0889),\n",
              "  tensor(0.0806),\n",
              "  tensor(0.0723),\n",
              "  tensor(0.0647),\n",
              "  tensor(0.0565),\n",
              "  tensor(0.0482),\n",
              "  tensor(0.0406),\n",
              "  tensor(0.0323),\n",
              "  tensor(0.0241),\n",
              "  tensor(0.0165),\n",
              "  tensor(0.0082),\n",
              "  tensor(0.0050),\n",
              "  tensor(0.0050),\n",
              "  tensor(0.0050)])"
            ]
          },
          "metadata": {},
          "execution_count": 21
        }
      ]
    },
    {
      "cell_type": "markdown",
      "source": [
        "##ploting loss curve for both training and testing loss with respect to epochs"
      ],
      "metadata": {
        "id": "X1HMNE4fDN7M"
      }
    },
    {
      "cell_type": "code",
      "source": [
        "#plot can't be drawn on tensors . Thus converting to numpy\n",
        "import numpy as np\n",
        "train_loss_values\n",
        "numpy_train_loss = np.array(torch.tensor(train_loss_values).cpu().numpy())\n",
        "numpy_train_loss"
      ],
      "metadata": {
        "colab": {
          "base_uri": "https://localhost:8080/"
        },
        "id": "B-ho8bqRDtMY",
        "outputId": "e3c1b965-8041-4959-9629-93507aaffd41"
      },
      "execution_count": 22,
      "outputs": [
        {
          "output_type": "execute_result",
          "data": {
            "text/plain": [
              "array([0.31288138, 0.19767132, 0.08908726, 0.05314853, 0.04543797,\n",
              "       0.04167863, 0.03818933, 0.0347609 , 0.03132383, 0.0278874 ,\n",
              "       0.02445896, 0.02102021, 0.01758547, 0.01415539, 0.01071659,\n",
              "       0.00728353, 0.00385178, 0.00893248, 0.00893248, 0.00893248],\n",
              "      dtype=float32)"
            ]
          },
          "metadata": {},
          "execution_count": 22
        }
      ]
    },
    {
      "cell_type": "code",
      "source": [
        "plt.plot(epochs_counts , numpy_train_loss , c= \"blue\", label = \"Training loss\")\n",
        "plt.plot(epochs_counts , test_loss_values , c=\"green\" , label = \"Testing loss\" )\n",
        "plt.legend(prop = {\"size\": 15})"
      ],
      "metadata": {
        "colab": {
          "base_uri": "https://localhost:8080/",
          "height": 449
        },
        "id": "5gEzhtVXEnXX",
        "outputId": "c6b9a4e2-961b-4324-9787-54dc91c31e9c"
      },
      "execution_count": 23,
      "outputs": [
        {
          "output_type": "execute_result",
          "data": {
            "text/plain": [
              "<matplotlib.legend.Legend at 0x7efad81e2810>"
            ]
          },
          "metadata": {},
          "execution_count": 23
        },
        {
          "output_type": "display_data",
          "data": {
            "text/plain": [
              "<Figure size 640x480 with 1 Axes>"
            ],
            "image/png": "[encoded data removed]"
          },
          "metadata": {}
        }
      ]
    },
    {
      "cell_type": "markdown",
      "source": [
        "# Saving and Loading our Model"
      ],
      "metadata": {
        "id": "QmXaPAVJF8uG"
      }
    },
    {
      "cell_type": "markdown",
      "source": [
        "we need to save our model so that every time we need do prediction , we need not to run every cell , as in large datasets with huge number of parameters , this can be too time consuming.\n",
        "\n",
        "**Methods of saving the models**\n",
        "In order to save and load our model , we need to do the following methods:\n",
        "\n",
        "- torch.save() => saves the torch object in python's picket formate\n",
        "\n",
        "- torch.load()=> load the pickle object back.\n",
        "\n",
        "- torch.nn.Module.load_state_dict() => load the saved model state dict\n"
      ],
      "metadata": {
        "id": "kvOrgaVhW8nq"
      }
    },
    {
      "cell_type": "code",
      "source": [
        "from pathlib import Path\n",
        "\n",
        "#creating the model directory\n",
        "\n",
        "MODEL_PATH= Path(\"models\")\n",
        "MODEL_PATH.mkdir(parents= True , exist_ok=True)\n",
        "\n",
        "#set a model name\n",
        "MODEL_NAME = \"01_pytorch_workflow_model_0.pth\"\n",
        "\n",
        "#create model save path\n",
        "MODEL_SAVE_PATH = MODEL_PATH / MODEL_NAME\n",
        "\n",
        "#save the model state dict\n",
        "print(f\"saving the model to : {MODEL_SAVE_PATH}\")\n",
        "torch.save( obj = model_0.state_dict(), f=MODEL_SAVE_PATH)"
      ],
      "metadata": {
        "colab": {
          "base_uri": "https://localhost:8080/"
        },
        "id": "Nu_E8d7xYal_",
        "outputId": "466103c0-48d3-45ed-baa3-f53370a4d66b"
      },
      "execution_count": 39,
      "outputs": [
        {
          "output_type": "stream",
          "name": "stdout",
          "text": [
            "saving the model to : models/01_pytorch_workflow_model_0.pth\n"
          ]
        }
      ]
    },
    {
      "cell_type": "code",
      "source": [
        "!dir models"
      ],
      "metadata": {
        "colab": {
          "base_uri": "https://localhost:8080/"
        },
        "id": "6lVSYcRobz5o",
        "outputId": "c63cce5b-d284-4eb4-900e-e1c92e2176e7"
      },
      "execution_count": 27,
      "outputs": [
        {
          "output_type": "stream",
          "name": "stdout",
          "text": [
            "01_pytorch_workflow_model_0.pth\n"
          ]
        }
      ]
    },
    {
      "cell_type": "markdown",
      "source": [
        "# Loading the PyTorch Model\n",
        "\n",
        "Now in order to load the pytorch model , we will not load the model but model state_dict .\n",
        "- This is beacuse we have saved the model using the model 's \"state_dict\" .\n",
        "- We need to create a new instance of the model and will load the saved state_dict of the model"
      ],
      "metadata": {
        "id": "6Vrmv3gMcIMG"
      }
    },
    {
      "cell_type": "code",
      "source": [
        "model_0.state_dict()"
      ],
      "metadata": {
        "colab": {
          "base_uri": "https://localhost:8080/"
        },
        "id": "ckpsd_sjf0FD",
        "outputId": "03f169b1-8956-450a-8d29-8d5a4f60f2b4"
      },
      "execution_count": 40,
      "outputs": [
        {
          "output_type": "execute_result",
          "data": {
            "text/plain": [
              "OrderedDict([('weight', tensor([0.6990])), ('bias', tensor([0.3093]))])"
            ]
          },
          "metadata": {},
          "execution_count": 40
        }
      ]
    },
    {
      "cell_type": "code",
      "source": [
        "loaded_model_0 = LinearRegressionModel()\n",
        "\n",
        "loaded_model_0.load_state_dict(torch.load(f= MODEL_SAVE_PATH))"
      ],
      "metadata": {
        "colab": {
          "base_uri": "https://localhost:8080/"
        },
        "id": "5G993R2Wen48",
        "outputId": "1c5a47ba-7b82-4559-b627-a264d32d919a"
      },
      "execution_count": 42,
      "outputs": [
        {
          "output_type": "execute_result",
          "data": {
            "text/plain": [
              "<All keys matched successfully>"
            ]
          },
          "metadata": {},
          "execution_count": 42
        }
      ]
    },
    {
      "cell_type": "code",
      "source": [
        "loaded_model_0.state_dict()"
      ],
      "metadata": {
        "colab": {
          "base_uri": "https://localhost:8080/"
        },
        "id": "CZ7mNdC0gdJK",
        "outputId": "ee0a29b0-12b7-4bd5-ca32-23bebe277926"
      },
      "execution_count": 35,
      "outputs": [
        {
          "output_type": "execute_result",
          "data": {
            "text/plain": [
              "OrderedDict([('weight', tensor([0.4617])), ('bias', tensor([0.2674]))])"
            ]
          },
          "metadata": {},
          "execution_count": 35
        }
      ]
    },
    {
      "cell_type": "code",
      "source": [
        "loaded_model_0.eval()\n",
        "with torch.inference_mode():\n",
        "  loaded_y_pred = loaded_model_0(X_test)\n",
        "loaded_y_pred"
      ],
      "metadata": {
        "colab": {
          "base_uri": "https://localhost:8080/"
        },
        "id": "p1yXkdgJhbBl",
        "outputId": "14bd06ca-f45a-424b-e081-0a1f52507689"
      },
      "execution_count": 46,
      "outputs": [
        {
          "output_type": "execute_result",
          "data": {
            "text/plain": [
              "tensor([[0.8685],\n",
              "        [0.8825],\n",
              "        [0.8965],\n",
              "        [0.9105],\n",
              "        [0.9245],\n",
              "        [0.9384],\n",
              "        [0.9524],\n",
              "        [0.9664],\n",
              "        [0.9804],\n",
              "        [0.9944]])"
            ]
          },
          "metadata": {},
          "execution_count": 46
        }
      ]
    },
    {
      "cell_type": "code",
      "source": [
        "model_0.eval()\n",
        "with torch.inference_mode():\n",
        "  y_preds = model_0(X_test)\n",
        "\n",
        "y_preds\n"
      ],
      "metadata": {
        "colab": {
          "base_uri": "https://localhost:8080/"
        },
        "id": "Y4dW78TRli13",
        "outputId": "59733316-2efb-4435-f713-1b820552309d"
      },
      "execution_count": 47,
      "outputs": [
        {
          "output_type": "execute_result",
          "data": {
            "text/plain": [
              "tensor([[0.8685],\n",
              "        [0.8825],\n",
              "        [0.8965],\n",
              "        [0.9105],\n",
              "        [0.9245],\n",
              "        [0.9384],\n",
              "        [0.9524],\n",
              "        [0.9664],\n",
              "        [0.9804],\n",
              "        [0.9944]])"
            ]
          },
          "metadata": {},
          "execution_count": 47
        }
      ]
    },
    {
      "cell_type": "code",
      "source": [
        "y_preds == loaded_y_pred"
      ],
      "metadata": {
        "colab": {
          "base_uri": "https://localhost:8080/"
        },
        "id": "oVhe242YoCAg",
        "outputId": "2b1e11c3-05af-46aa-beb8-52f5120dc5ed"
      },
      "execution_count": 49,
      "outputs": [
        {
          "output_type": "execute_result",
          "data": {
            "text/plain": [
              "tensor([[True],\n",
              "        [True],\n",
              "        [True],\n",
              "        [True],\n",
              "        [True],\n",
              "        [True],\n",
              "        [True],\n",
              "        [True],\n",
              "        [True],\n",
              "        [True]])"
            ]
          },
          "metadata": {},
          "execution_count": 49
        }
      ]
    },
    {
      "cell_type": "code",
      "source": [],
      "metadata": {
        "id": "FHLAl-8qoIvV"
      },
      "execution_count": null,
      "outputs": []
    }
  ]
}