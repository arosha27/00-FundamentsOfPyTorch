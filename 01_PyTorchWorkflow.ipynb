{
  "nbformat": 4,
  "nbformat_minor": 0,
  "metadata": {
    "colab": {
      "provenance": [],
      "authorship_tag": "ABX9TyOslPKRUrhlt9lFC9mk+CXa",
      "include_colab_link": true
    },
    "kernelspec": {
      "name": "python3",
      "display_name": "Python 3"
    },
    "language_info": {
      "name": "python"
    }
  },
  "cells": [
    {
      "cell_type": "markdown",
      "metadata": {
        "id": "view-in-github",
        "colab_type": "text"
      },
      "source": [
        "<a href=\"https://colab.research.google.com/github/arosha27/00-FundamentsOfPyTorch/blob/main/01_PyTorchWorkflow.ipynb\" target=\"_parent\"><img src=\"https://colab.research.google.com/assets/colab-badge.svg\" alt=\"Open In Colab\"/></a>"
      ]
    },
    {
      "cell_type": "code",
      "execution_count": 124,
      "metadata": {
        "id": "ehlz8CXzr_t3"
      },
      "outputs": [],
      "source": [
        "#Pytorch workflow:\n",
        "what_we_covering = { 1: \"Data(prepare and load)\",\n",
        "                     2: \"build model\",\n",
        "                     3: \"fitting the model to data(training)\",\n",
        "                     4: \"making predictions and evaluating a model(inferreence)\",\n",
        "                     5: \"saving and reloading the model\",\n",
        "                     6: \"putting it all together\"\n",
        "}"
      ]
    },
    {
      "cell_type": "code",
      "source": [
        "import torch\n",
        "from torch import nn #nn is the building block of pyTorch for building neural networks\n",
        "import matplotlib.pyplot as plt\n",
        "print(torch.__version__)\n"
      ],
      "metadata": {
        "colab": {
          "base_uri": "https://localhost:8080/"
        },
        "id": "ulmWhPH0tOpK",
        "outputId": "3a505f12-214e-46c7-fd32-f4669a8213ce"
      },
      "execution_count": 125,
      "outputs": [
        {
          "output_type": "stream",
          "name": "stdout",
          "text": [
            "2.6.0+cu124\n"
          ]
        }
      ]
    },
    {
      "cell_type": "markdown",
      "source": [
        "# Data ( Preparing & Loading )"
      ],
      "metadata": {
        "id": "UXBt0O_rx4yd"
      }
    },
    {
      "cell_type": "markdown",
      "source": [
        "**Ist Step of PyTorch workflow :** **Data**\n",
        "Data can be anything like:\n",
        "text\n",
        "images\n",
        "audio\n",
        "vedios\n",
        "DNA\n",
        "\n",
        "Machine Learning is majorly game of two parts:\n",
        " - Getting a numerical representation of the input data.\n",
        " - building or using pretrained model to learn the patterns from that data representation to produce the output\n",
        "\n",
        "To showcase this , let's create some known data using the linear regression formula\n",
        " - y = wx + b\n",
        " x = explainatory variable\n",
        " y = dependent variable\n",
        " b= bias\n",
        " w = weight\n",
        "  we will use a linear regression formula to make straight line with known parameters."
      ],
      "metadata": {
        "id": "abiBaPpbtcll"
      }
    },
    {
      "cell_type": "code",
      "source": [
        "#Data(preparing and loading)\n",
        "\n",
        "w = 0.7\n",
        "b = 0.3\n",
        "\n",
        "# we want to create a model which can estimate these numbers ( w & b)\n",
        "X = torch.arange(0 , 1 , 0.02).unsqueeze(dim=1)\n",
        "y = (w * X) + b\n",
        "\n",
        "#getting a preview of the X and y by printing first 10 values of both\n",
        "\n",
        "X[:10] , y[:10]"
      ],
      "metadata": {
        "colab": {
          "base_uri": "https://localhost:8080/"
        },
        "id": "sS9pYvC7t3EA",
        "outputId": "57a5abb3-6e29-4424-8694-a021a9db6b5c"
      },
      "execution_count": 126,
      "outputs": [
        {
          "output_type": "execute_result",
          "data": {
            "text/plain": [
              "(tensor([[0.0000],\n",
              "         [0.0200],\n",
              "         [0.0400],\n",
              "         [0.0600],\n",
              "         [0.0800],\n",
              "         [0.1000],\n",
              "         [0.1200],\n",
              "         [0.1400],\n",
              "         [0.1600],\n",
              "         [0.1800]]),\n",
              " tensor([[0.3000],\n",
              "         [0.3140],\n",
              "         [0.3280],\n",
              "         [0.3420],\n",
              "         [0.3560],\n",
              "         [0.3700],\n",
              "         [0.3840],\n",
              "         [0.3980],\n",
              "         [0.4120],\n",
              "         [0.4260]]))"
            ]
          },
          "metadata": {},
          "execution_count": 126
        }
      ]
    },
    {
      "cell_type": "code",
      "source": [
        "len(X)  , len(y)\n",
        "#so we got 50 features and 50 labels for them"
      ],
      "metadata": {
        "colab": {
          "base_uri": "https://localhost:8080/"
        },
        "id": "nw3w1IGwvjaP",
        "outputId": "352ae338-35a0-4fa5-b33f-c51bc277a51a"
      },
      "execution_count": 127,
      "outputs": [
        {
          "output_type": "execute_result",
          "data": {
            "text/plain": [
              "(50, 50)"
            ]
          },
          "metadata": {},
          "execution_count": 127
        }
      ]
    },
    {
      "cell_type": "markdown",
      "source": [
        "# Splitting the data\n",
        "Lets split our data into training and testing set :\n",
        "- 80% data for training\n",
        "- 20% data for testing"
      ],
      "metadata": {
        "id": "CqoDMlKBxqD9"
      }
    },
    {
      "cell_type": "code",
      "source": [
        "#splitting this data into training and testing sets or splits(one of the most improtant concept in ML in general)\n",
        "#create a train/test split\n",
        "#we need 40 amples of X and 40 samples of y (in total 80 samples from training data )\n",
        "\n",
        "#Training split\n",
        "train_split= int(0.8 * len(X))\n",
        "X_train , y_train = X[:train_split] , y[:train_split]\n",
        "#testing split\n",
        "X_test , y_test = X[train_split:] , y[train_split:]\n",
        "\n",
        "#to confirm is the split occur correctly\n",
        "len(X_train) ,len(y_train) , len(X_test) , len(y_test)\n"
      ],
      "metadata": {
        "colab": {
          "base_uri": "https://localhost:8080/"
        },
        "id": "sMikcsrXw2Co",
        "outputId": "c072c176-2c18-45c7-9909-593da1f06c1d"
      },
      "execution_count": 128,
      "outputs": [
        {
          "output_type": "execute_result",
          "data": {
            "text/plain": [
              "(40, 40, 10, 10)"
            ]
          },
          "metadata": {},
          "execution_count": 128
        }
      ]
    },
    {
      "cell_type": "markdown",
      "source": [
        "**Exploring the data** : Visiualize , visiualize , visiulaize\n"
      ],
      "metadata": {
        "id": "hrrT36GNxM9Y"
      }
    },
    {
      "cell_type": "code",
      "source": [
        "def plot_predictions(\n",
        "    train_features= X_train,\n",
        "    train_labels = y_train,\n",
        "    test_features = X_test,\n",
        "    test_labels = y_test,\n",
        "    predictions = None\n",
        "):\n",
        "  \"\"\" plot the training data , test data and compares predictions \"\"\"\n",
        "\n",
        "  plt.figure(figsize=(10,7))\n",
        "\n",
        "  # Ploting the training data in blue\n",
        "  plt.scatter(train_features , train_labels , c = 'b', s=12,label=\"Training Data\")\n",
        "\n",
        "  #Ploting the testing data\n",
        "  plt.scatter(test_features, test_labels , c= \"g\" ,s=12,  label = \"Testing Data\")\n",
        "\n",
        "##Ploting the predictions\n",
        "  if predictions is not None:\n",
        "  #plot the predictions if they are not none\n",
        "    plt.scatter(test_features , predictions , c = \"r\" ,s=12, label = \"Predictions\")\n",
        "\n",
        "  plt.legend(prop = {\"size\": 15})\n"
      ],
      "metadata": {
        "id": "DmBDPIHzz6yE"
      },
      "execution_count": 129,
      "outputs": []
    },
    {
      "cell_type": "code",
      "source": [
        "plot_predictions()"
      ],
      "metadata": {
        "colab": {
          "base_uri": "https://localhost:8080/",
          "height": 460
        },
        "id": "Wj7bsByh3wZZ",
        "outputId": "9268ef1c-e0cd-439c-fd63-2d72ff1e9a50"
      },
      "execution_count": 130,
      "outputs": [
        {
          "output_type": "display_data",
          "data": {
            "text/plain": [
              "<Figure size 1000x700 with 1 Axes>"
            ],
            "image/png": "[encoded data removed]"
          },
          "metadata": {}
        }
      ]
    },
    {
      "cell_type": "code",
      "source": [
        "#note : red dots are not present as presdictions are not present."
      ],
      "metadata": {
        "id": "1u0leLrx3GzJ"
      },
      "execution_count": 131,
      "outputs": []
    },
    {
      "cell_type": "markdown",
      "source": [
        "# Model Building\n",
        "\n",
        " - 2nd step in PyTorch workflow\n",
        "\n",
        "**What our model does:**\n",
        "\n",
        "- The model starts with the random values of weights and biases\n",
        "- Look at the training data and adjust these weights and biases trying to make them get closer to creating a best fit line\n",
        "\n",
        "**How does the model do so?**\n",
        "\n",
        "- Gradient Descent\n",
        "- Backpropagation"
      ],
      "metadata": {
        "id": "CT3ESFJC4mSZ"
      }
    },
    {
      "cell_type": "code",
      "source": [
        "#create a linear regression model class\n",
        "#our class LinearRegressionModel inherets fron the nn.Model\n",
        "#almost everthing in pyTorch inherits from nn.Module\n",
        "# nn Module is the base class for all the neural networks\n",
        "\n",
        "class LinearRegressionModel(nn.Module):\n",
        "  def __init__(self):\n",
        "    super().__init__()\n",
        "\n",
        "    self.weight = nn.Parameter(torch.randn(1,  #start with the random weight and then try to adjust\n",
        "                                           requires_grad = True, #can this parameter be undated via gradien descent\n",
        "                                           dtype= torch.float #by default the tensor data type is float32\n",
        "                                           ))\n",
        "    self.bias = nn.Parameter(torch.randn(1,\n",
        "                                         requires_grad = True,\n",
        "                                         dtype= torch.float\n",
        "                                         ))\n",
        "\n",
        "    #forward method defines the computation in the model\n",
        "    #this method will takes a tensor as an input and outputs a tensor\n",
        "\n",
        "  def forward(self, x: torch.Tensor) -> torch.Tensor: #where x is the input data\n",
        "    return (self.weight * x) + self.bias\n",
        "\n",
        "\n",
        "# torch.manual_seed(42)\n",
        "# model_0 = LinearRegressionModel()"
      ],
      "metadata": {
        "id": "PgvPRJrn4pQg"
      },
      "execution_count": 181,
      "outputs": []
    },
    {
      "cell_type": "markdown",
      "source": [
        "## PyTorch Model Building Essentials:\n",
        " 1. **torch.nn: **building block of computational graphs (another anme for neural networks)\n",
        " 2.** torch.nn.Parameter : **what parameters our model should try and learn,often PyTorch layer from torch.nn will set these for usage\n",
        " 3. **torch.nn.Module :** This is the base class for all the neural networks modules .If you subclass it , you need a override forward()\n",
        " 4.** torch.optim :** this is where the optimizer in Pytorch lives , which will help with gradient descent and reducing the loss\n",
        " 5. **def forward() :** in nn.Module subclasses , you must overwrite forward() . This is for the computations\n",
        " 5. **torch.utils.data.Dataset ** - for complicated datasets\n",
        " 6. **torch.utils.data.DataLoader** - for complicated datasets\n",
        "\n",
        "\n",
        "\n",
        "\n",
        ""
      ],
      "metadata": {
        "id": "nIbEHPzv5LYx"
      }
    },
    {
      "cell_type": "markdown",
      "source": [
        "Different essentials at different satges of PyTorch workflow:\n",
        " for getting our data ready we use:\n",
        "  - torchvision.tranforms\n",
        "  - torch.utils.data.Dataset\n",
        "  - torch.utils.data.DataLoader\n",
        "  for building or picking a pre-trained model:\n",
        "  - pick loss function & optimizer\n",
        "    - torch.nn\n",
        "    - torch.nn.Module\n",
        "    - torchvision.modules\n",
        "  - optimizer for optimizing model Parameters\n",
        "    - torch.optim\n",
        "  for evaluating the model :\n",
        "    -torchmetrics\n",
        "  for improvements :\n",
        "    - torch.utils.tensorboard\n"
      ],
      "metadata": {
        "id": "ZRyvwIDTN5kv"
      }
    },
    {
      "cell_type": "markdown",
      "source": [
        "*check what 's exactly inside our model*\n",
        "# Checking the content of the PyTorch Model\n",
        " In order to find the parameters or of the content of the model , we use parameters() method\n"
      ],
      "metadata": {
        "id": "Ct1-7CuhSJsm"
      }
    },
    {
      "cell_type": "code",
      "source": [
        "#setting the random_seed value as we have created our parameters using randn method which will create random parameters values everytime we run that cell or call that function.To create reproducibility , we set the manual_seed befor running the function.\n",
        "torch.manual_seed(42)\n",
        "#instantiate the class\n",
        "model_0 = LinearRegressionModel()\n",
        "list(model_0.parameters())"
      ],
      "metadata": {
        "colab": {
          "base_uri": "https://localhost:8080/"
        },
        "id": "Q4JfsIlVSZi6",
        "outputId": "55d25f7c-e4a6-4346-f195-63447528a597"
      },
      "execution_count": 182,
      "outputs": [
        {
          "output_type": "execute_result",
          "data": {
            "text/plain": [
              "[Parameter containing:\n",
              " tensor([0.3367], requires_grad=True),\n",
              " Parameter containing:\n",
              " tensor([0.1288], requires_grad=True)]"
            ]
          },
          "metadata": {},
          "execution_count": 182
        }
      ]
    },
    {
      "cell_type": "code",
      "source": [
        "#List Named Parameters\n",
        "#for betting clear output to get better idea of which one is for weight and which one is for bias\n",
        "model_0.state_dict()"
      ],
      "metadata": {
        "colab": {
          "base_uri": "https://localhost:8080/"
        },
        "id": "76uIMSbFTXSB",
        "outputId": "2868b734-fa61-4143-84fc-0b79927978ba"
      },
      "execution_count": 183,
      "outputs": [
        {
          "output_type": "execute_result",
          "data": {
            "text/plain": [
              "OrderedDict([('weight', tensor([0.3367])), ('bias', tensor([0.1288]))])"
            ]
          },
          "metadata": {},
          "execution_count": 183
        }
      ]
    },
    {
      "cell_type": "markdown",
      "source": [
        "**The entire foundation of deep learning is :**\n",
        "- starting with some random values\n",
        "- using gradient descent , back propagation and our data to move these values to ideal values for **weights** and **biases** without knowing what ideal values are\n",
        "\n",
        "Note :In our case , we know what ideal values are"
      ],
      "metadata": {
        "id": "fKJSFOFHUB61"
      }
    },
    {
      "cell_type": "markdown",
      "source": [
        "# Making Prediction on Test Data in PyTorch inference Mode\n",
        " - we use the PyTorch inference mode because under this mode the model will just predict the y-test based on x-train intead of doing backpropagation for finding optimal parameters\n",
        "\n"
      ],
      "metadata": {
        "id": "IcDfi9GhXfcD"
      }
    },
    {
      "cell_type": "code",
      "source": [
        "with torch.inference_mode():\n",
        "  y_preds = model_0(X_test)\n",
        "\n",
        "y_preds\n",
        "\n",
        "#another alternative of making th prediction\n",
        "# with torch.no_grad():\n",
        "#   y_preds = model_0(X_text)"
      ],
      "metadata": {
        "colab": {
          "base_uri": "https://localhost:8080/"
        },
        "id": "0WzmgUyscVWX",
        "outputId": "adafa570-75ec-45d3-d1e9-b072db0db98d"
      },
      "execution_count": 184,
      "outputs": [
        {
          "output_type": "execute_result",
          "data": {
            "text/plain": [
              "tensor([[0.3982],\n",
              "        [0.4049],\n",
              "        [0.4116],\n",
              "        [0.4184],\n",
              "        [0.4251],\n",
              "        [0.4318],\n",
              "        [0.4386],\n",
              "        [0.4453],\n",
              "        [0.4520],\n",
              "        [0.4588]])"
            ]
          },
          "metadata": {},
          "execution_count": 184
        }
      ]
    },
    {
      "cell_type": "markdown",
      "source": [
        "**Note :**The puprose of doing the predictions under the torch.inference_mode() is to make the testing process or predictions faster by stoping all other backgorund processes like backpropagation and just focusing on making predictions"
      ],
      "metadata": {
        "id": "mSpjjilwe9O7"
      }
    },
    {
      "cell_type": "code",
      "source": [
        "#check how far model predictions are from the actual values (ground truth) i.e y_test by plotting to get a better idea of it\n",
        "\n",
        "plot_predictions(predictions= y_preds)"
      ],
      "metadata": {
        "colab": {
          "base_uri": "https://localhost:8080/",
          "height": 460
        },
        "id": "6ASlBsq-cuWG",
        "outputId": "ed59d13a-4b5b-49dc-f945-c15a2e64dedd"
      },
      "execution_count": 185,
      "outputs": [
        {
          "output_type": "display_data",
          "data": {
            "text/plain": [
              "<Figure size 1000x700 with 1 Axes>"
            ],
            "image/png": "[encoded data removed]"
          },
          "metadata": {}
        }
      ]
    },
    {
      "cell_type": "markdown",
      "source": [
        "Note : The scatter plot shows that we are far from the actual values . thus we need t adjust the weights and biases that way to get closer to actual green dots in the graph\n"
      ],
      "metadata": {
        "id": "OhrZmLeLd6UB"
      }
    },
    {
      "cell_type": "markdown",
      "source": [
        "#Model Training\n",
        "\n",
        "The whole idea of model training is fro a model to move from some unknown parameters to known or ideal parameters\n",
        "\n",
        "OR\n",
        "\n",
        "to move from poor representation of data to good represenataton of data\n",
        "\n",
        "- In order to measure how wrong or poor our model predictions are , we use a loss function\n",
        "- it is also known as cost function or creterion in some area .\n",
        "- it is difference between the actual values and predicted values,lower is better\n",
        "_ torch.nn provides a lot of loss functions\n",
        "\n",
        "**Things we need to train our model:**\n",
        "1.** loss function :**actual vlaues - predicted valuesn\n",
        "2.** optimizer :** based on loss , it adjusts the parameters (weights and biases) and will imporve the loss\n"
      ],
      "metadata": {
        "id": "UTqCPQp-haXP"
      }
    },
    {
      "cell_type": "markdown",
      "source": [
        "## Loss Function and Optimizer"
      ],
      "metadata": {
        "id": "lGgF_i6ooWs1"
      }
    },
    {
      "cell_type": "code",
      "source": [
        "loss_fn = nn.L1Loss() # L1Loss is the MAE in pytorch\n",
        "optimizer = torch.optim.SGD(params = model_0.parameters(),\n",
        "                         lr = 0.01)\n",
        "#lr is the learning rate , can say it is the most important hyperparameter .It controls the speed of updating or adjusting the parameters\n"
      ],
      "metadata": {
        "id": "n3fYHsx3omUW"
      },
      "execution_count": 186,
      "outputs": []
    },
    {
      "cell_type": "markdown",
      "source": [
        "Q.Which loss function and optimizers should be used ?\n",
        "\n",
        "A. This is problem specific .\n",
        "- For Regression problems , we use nn.\n",
        "- L1Loss and torch.optim.SGD etc\n",
        "For classification , we use nn.BCELoss"
      ],
      "metadata": {
        "id": "jpiR43zLpqUR"
      }
    },
    {
      "cell_type": "markdown",
      "source": [
        "Parameters VS Hyperparameters\n",
        "- parameter is the value the model set\n",
        "- hyperparameter is the value we data scientists set"
      ],
      "metadata": {
        "id": "V7rhtETZqEMm"
      }
    },
    {
      "cell_type": "markdown",
      "source": [
        "## Building a Training Loop(Testing loop) In PyTorch"
      ],
      "metadata": {
        "id": "-qXAfklRqtX8"
      }
    },
    {
      "cell_type": "markdown",
      "source": [
        "In training loop , we need to do a few things:\n",
        "0. Loop through the data\n",
        "1. Forward Propagation : Do a forward pass .ie move from input layers to output layers via forward() function which is used to calculate the predictions\n",
        "2. calculte the loss via loss function i.e difference between actual output and the prediction .In our case (y_preds - y_test)\n",
        "3. Optimizer zero grad\n",
        "4. Backward Propagation: Move in backward direction from output layer and find the gradient for each parameter based on loss calculated.\n",
        "5. Optimize the parameter values to minimize the loss (gradient descent)\n",
        "\n",
        "\n",
        "**Note: some important concepts:**\n",
        "\n",
        "gradient is the slop i.e change in X by change in y.Understand it by keeping the visiual of a hill . At the very top of the hill , the gradient is too high , we need to move downward from the steep slop utill steepness becomes 0 or near zero , and the loss is the vertical distance from the steep slop to the ground or earth 's surpase . As gradient decreases , the loss also decreases.\n"
      ],
      "metadata": {
        "id": "w3a2joh7qQ0r"
      }
    },
    {
      "cell_type": "code",
      "source": [],
      "metadata": {
        "id": "DbHmF93J85UM"
      },
      "execution_count": 168,
      "outputs": []
    },
    {
      "cell_type": "code",
      "source": [
        " torch.manual_seed(42)\n",
        "\n",
        " epocs = 100 # epocs is the number of times our model is traversing over our data\n",
        "#0. loop over the data\n",
        "\n",
        "for epoc in range(epocs):\n",
        "\n",
        "  #1.Training The Model\n",
        "  # the train mode in PyTorch sets all the parameters that gradients requires\n",
        "\n",
        "  model_0.train()\n",
        "  #1.Do a foward pass\n",
        "  y_pred = model_0(X_train)\n",
        "\n",
        "  #1.Find Loss\n",
        "  loss= loss_fn(y_pred,y_train)\n",
        "  print(f\"lose : {loss}\")\n",
        "\n",
        "  #3.optimizer zero grad i.e setting the optimzer 0 every time entering in the loop to avoids the accomulates which might affect the new gradiends values\n",
        "  optimizer.zero_grad()\n",
        "\n",
        "  #4.back propagation to find the gradients for each parameter\n",
        "  loss.backward()\n",
        "\n",
        "  #5.step the optimizer i.e calculate the next weight and bias value based on loss calculated\n",
        "  optimizer.step()\n",
        "\n",
        "\n",
        "  model_0.eval() #turn off gradient tracking\n"
      ],
      "metadata": {
        "id": "GpXMaKBEv3tg",
        "outputId": "83524b36-2b35-4791-8b67-9d8d86d5e71c",
        "colab": {
          "base_uri": "https://localhost:8080/"
        }
      },
      "execution_count": 237,
      "outputs": [
        {
          "output_type": "stream",
          "name": "stdout",
          "text": [
            "lose : 0.0025885067880153656\n",
            "lose : 0.008932482451200485\n",
            "lose : 0.0025885067880153656\n",
            "lose : 0.008932482451200485\n",
            "lose : 0.0025885067880153656\n",
            "lose : 0.008932482451200485\n",
            "lose : 0.0025885067880153656\n",
            "lose : 0.008932482451200485\n",
            "lose : 0.0025885067880153656\n",
            "lose : 0.008932482451200485\n",
            "lose : 0.0025885067880153656\n",
            "lose : 0.008932482451200485\n",
            "lose : 0.0025885067880153656\n",
            "lose : 0.008932482451200485\n",
            "lose : 0.0025885067880153656\n",
            "lose : 0.008932482451200485\n",
            "lose : 0.0025885067880153656\n",
            "lose : 0.008932482451200485\n",
            "lose : 0.0025885067880153656\n",
            "lose : 0.008932482451200485\n",
            "lose : 0.0025885067880153656\n",
            "lose : 0.008932482451200485\n",
            "lose : 0.0025885067880153656\n",
            "lose : 0.008932482451200485\n",
            "lose : 0.0025885067880153656\n",
            "lose : 0.008932482451200485\n",
            "lose : 0.0025885067880153656\n",
            "lose : 0.008932482451200485\n",
            "lose : 0.0025885067880153656\n",
            "lose : 0.008932482451200485\n",
            "lose : 0.0025885067880153656\n",
            "lose : 0.008932482451200485\n",
            "lose : 0.0025885067880153656\n",
            "lose : 0.008932482451200485\n",
            "lose : 0.0025885067880153656\n",
            "lose : 0.008932482451200485\n",
            "lose : 0.0025885067880153656\n",
            "lose : 0.008932482451200485\n",
            "lose : 0.0025885067880153656\n",
            "lose : 0.008932482451200485\n",
            "lose : 0.0025885067880153656\n",
            "lose : 0.008932482451200485\n",
            "lose : 0.0025885067880153656\n",
            "lose : 0.008932482451200485\n",
            "lose : 0.0025885067880153656\n",
            "lose : 0.008932482451200485\n",
            "lose : 0.0025885067880153656\n",
            "lose : 0.008932482451200485\n",
            "lose : 0.0025885067880153656\n",
            "lose : 0.008932482451200485\n",
            "lose : 0.0025885067880153656\n",
            "lose : 0.008932482451200485\n",
            "lose : 0.0025885067880153656\n",
            "lose : 0.008932482451200485\n",
            "lose : 0.0025885067880153656\n",
            "lose : 0.008932482451200485\n",
            "lose : 0.0025885067880153656\n",
            "lose : 0.008932482451200485\n",
            "lose : 0.0025885067880153656\n",
            "lose : 0.008932482451200485\n",
            "lose : 0.0025885067880153656\n",
            "lose : 0.008932482451200485\n",
            "lose : 0.0025885067880153656\n",
            "lose : 0.008932482451200485\n",
            "lose : 0.0025885067880153656\n",
            "lose : 0.008932482451200485\n",
            "lose : 0.0025885067880153656\n",
            "lose : 0.008932482451200485\n",
            "lose : 0.0025885067880153656\n",
            "lose : 0.008932482451200485\n",
            "lose : 0.0025885067880153656\n",
            "lose : 0.008932482451200485\n",
            "lose : 0.0025885067880153656\n",
            "lose : 0.008932482451200485\n",
            "lose : 0.0025885067880153656\n",
            "lose : 0.008932482451200485\n",
            "lose : 0.0025885067880153656\n",
            "lose : 0.008932482451200485\n",
            "lose : 0.0025885067880153656\n",
            "lose : 0.008932482451200485\n",
            "lose : 0.0025885067880153656\n",
            "lose : 0.008932482451200485\n",
            "lose : 0.0025885067880153656\n",
            "lose : 0.008932482451200485\n",
            "lose : 0.0025885067880153656\n",
            "lose : 0.008932482451200485\n",
            "lose : 0.0025885067880153656\n",
            "lose : 0.008932482451200485\n",
            "lose : 0.0025885067880153656\n",
            "lose : 0.008932482451200485\n",
            "lose : 0.0025885067880153656\n",
            "lose : 0.008932482451200485\n",
            "lose : 0.0025885067880153656\n",
            "lose : 0.008932482451200485\n",
            "lose : 0.0025885067880153656\n",
            "lose : 0.008932482451200485\n",
            "lose : 0.0025885067880153656\n",
            "lose : 0.008932482451200485\n",
            "lose : 0.0025885067880153656\n",
            "lose : 0.008932482451200485\n"
          ]
        }
      ]
    },
    {
      "cell_type": "markdown",
      "source": [
        "Before Traing loop :\n",
        "\n",
        " OrderedDict([('weight', tensor([0.3367])), ('bias', tensor([0.1288]))])"
      ],
      "metadata": {
        "id": "WlnvNphh-0Y4"
      }
    },
    {
      "cell_type": "code",
      "source": [
        "model_0.state_dict()"
      ],
      "metadata": {
        "id": "gc_qh0YZz5id",
        "outputId": "990ec864-f2ca-4448-839f-d8337373d711",
        "colab": {
          "base_uri": "https://localhost:8080/"
        }
      },
      "execution_count": 238,
      "outputs": [
        {
          "output_type": "execute_result",
          "data": {
            "text/plain": [
              "OrderedDict([('weight', tensor([0.6951])), ('bias', tensor([0.2993]))])"
            ]
          },
          "metadata": {},
          "execution_count": 238
        }
      ]
    },
    {
      "cell_type": "code",
      "source": [
        "#Testing to check if our model training is good or not\n",
        "\n",
        "\n",
        "with torch.inference_mode():\n",
        "  y_preds = model_0(X_test)\n"
      ],
      "metadata": {
        "id": "9LRuU-9E_7iO"
      },
      "execution_count": 241,
      "outputs": []
    },
    {
      "cell_type": "code",
      "source": [
        "plot_predictions(predictions = y_preds)"
      ],
      "metadata": {
        "id": "og-0UAKtAQtc",
        "outputId": "d6332706-929d-4a04-85aa-f57cd2f422a6",
        "colab": {
          "base_uri": "https://localhost:8080/",
          "height": 460
        }
      },
      "execution_count": 242,
      "outputs": [
        {
          "output_type": "display_data",
          "data": {
            "text/plain": [
              "<Figure size 1000x700 with 1 Axes>"
            ],
            "image/png": "[encoded data removed]"
          },
          "metadata": {}
        }
      ]
    },
    {
      "cell_type": "code",
      "source": [],
      "metadata": {
        "id": "an-LzBfyAZ6D"
      },
      "execution_count": null,
      "outputs": []
    }
  ]
}